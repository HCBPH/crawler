{
 "cells": [
  {
   "cell_type": "code",
   "execution_count": 90,
   "outputs": [],
   "source": [
    "import pymysql\n",
    "import pandas as pd\n",
    "\n",
    "connection = pymysql.connect(host='1.117.74.41',\n",
    "                             user='xiecheng',\n",
    "                             password='xiecheng',\n",
    "                             database='xiecheng',\n",
    "                             cursorclass=pymysql.cursors.DictCursor)\n",
    "\n",
    "with connection:\n",
    "    with connection.cursor() as cursor:\n",
    "        # Create a new record\n",
    "        sql = \"SELECT * FROM  `airline_ticket` order by id desc limit 100\"\n",
    "        # num = cursor.execute(sql)\n",
    "        #\n",
    "        # tickets = cursor.fetchmany(10)\n",
    "        tickets = pd.read_sql(sql, connection)\n",
    "\n",
    "    # with connection.cursor() as cursor:\n",
    "    #     # Read a single record\n",
    "    #     sql = \"SELECT `id`, `password` FROM `users` WHERE `email`=%s\"\n",
    "    #     cursor.execute(sql, ('webmaster@python.org',))\n",
    "    #     result = cursor.fetchone()\n",
    "    #     print(result)"
   ],
   "metadata": {
    "collapsed": false,
    "pycharm": {
     "name": "#%%\n"
    }
   }
  },
  {
   "cell_type": "code",
   "execution_count": 91,
   "outputs": [
    {
     "data": {
      "text/plain": "       id         create_time creater airline  al_num    al_type al_size  \\\n0   66145 2022-07-06 16:06:01     lyh    春秋航空  9C8801  空客320_186           \n1   66144 2022-07-06 16:06:01     lyh    春秋航空  9C8779  空客320_186           \n2   66143 2022-07-06 16:05:59     lyh    春秋航空  9C8801  空客320_186           \n3   66142 2022-07-06 16:05:59     lyh    春秋航空  9C8779  空客320_186           \n4   66141 2022-07-06 16:05:55     lyh    春秋航空  9C8801  空客320_186           \n..    ...                 ...     ...     ...     ...        ...     ...   \n95  66050 2022-07-06 16:01:08     lyh    春秋航空  9C8843  空客320_186           \n96  66049 2022-07-06 16:01:05     lyh    春秋航空  9C6535  空客320_186           \n97  66048 2022-07-06 16:01:05     lyh    春秋航空  9C6807  空客320_186           \n98  66047 2022-07-06 16:01:05     lyh    春秋航空  9C8977  空客320_186           \n99  66046 2022-07-06 16:01:05     lyh    春秋航空  9C8843  空客320_186           \n\n         departure_time         arrival_time departure_place arrival_place  \\\n0   2022-08-02 18:20:00  2022-08-02 21:35:00        浦东国际机场T2      凤凰国际机场T1   \n1   2022-08-02 07:25:00  2022-08-02 10:35:00        浦东国际机场T2      凤凰国际机场T1   \n2   2022-07-31 18:20:00  2022-07-31 21:35:00        浦东国际机场T2      凤凰国际机场T1   \n3   2022-07-31 07:25:00  2022-07-31 10:35:00        浦东国际机场T2      凤凰国际机场T1   \n4   2022-07-30 18:20:00  2022-07-30 21:35:00        浦东国际机场T2      凤凰国际机场T1   \n..                  ...                  ...             ...           ...   \n95  2022-07-19 08:40:00  2022-07-19 10:35:00        浦东国际机场T2       周水子国际机场   \n96  2022-07-18 21:35:00  2022-07-18 23:40:00        浦东国际机场T2       周水子国际机场   \n97  2022-07-18 14:40:00  2022-07-18 16:35:00        浦东国际机场T2       周水子国际机场   \n98  2022-07-18 13:00:00  2022-07-18 15:00:00        浦东国际机场T2       周水子国际机场   \n99  2022-07-18 08:40:00  2022-07-18 10:35:00        浦东国际机场T2       周水子国际机场   \n\n   promotion  price departure_rate arrival_rate delay_time advance_time  \\\n0              1329                                                       \n1              1419                                                       \n2              1329                                                       \n3              1239                                                       \n4              1089                                                       \n..       ...    ...            ...          ...        ...          ...   \n95              309                                                       \n96              469                                                       \n97              309                                                       \n98              309                                                       \n99              309                                                       \n\n   devices cabin  \n0                 \n1                 \n2                 \n3                 \n4                 \n..     ...   ...  \n95                \n96                \n97                \n98                \n99                \n\n[100 rows x 19 columns]",
      "text/html": "<div>\n<style scoped>\n    .dataframe tbody tr th:only-of-type {\n        vertical-align: middle;\n    }\n\n    .dataframe tbody tr th {\n        vertical-align: top;\n    }\n\n    .dataframe thead th {\n        text-align: right;\n    }\n</style>\n<table border=\"1\" class=\"dataframe\">\n  <thead>\n    <tr style=\"text-align: right;\">\n      <th></th>\n      <th>id</th>\n      <th>create_time</th>\n      <th>creater</th>\n      <th>airline</th>\n      <th>al_num</th>\n      <th>al_type</th>\n      <th>al_size</th>\n      <th>departure_time</th>\n      <th>arrival_time</th>\n      <th>departure_place</th>\n      <th>arrival_place</th>\n      <th>promotion</th>\n      <th>price</th>\n      <th>departure_rate</th>\n      <th>arrival_rate</th>\n      <th>delay_time</th>\n      <th>advance_time</th>\n      <th>devices</th>\n      <th>cabin</th>\n    </tr>\n  </thead>\n  <tbody>\n    <tr>\n      <th>0</th>\n      <td>66145</td>\n      <td>2022-07-06 16:06:01</td>\n      <td>lyh</td>\n      <td>春秋航空</td>\n      <td>9C8801</td>\n      <td>空客320_186</td>\n      <td></td>\n      <td>2022-08-02 18:20:00</td>\n      <td>2022-08-02 21:35:00</td>\n      <td>浦东国际机场T2</td>\n      <td>凤凰国际机场T1</td>\n      <td></td>\n      <td>1329</td>\n      <td></td>\n      <td></td>\n      <td></td>\n      <td></td>\n      <td></td>\n      <td></td>\n    </tr>\n    <tr>\n      <th>1</th>\n      <td>66144</td>\n      <td>2022-07-06 16:06:01</td>\n      <td>lyh</td>\n      <td>春秋航空</td>\n      <td>9C8779</td>\n      <td>空客320_186</td>\n      <td></td>\n      <td>2022-08-02 07:25:00</td>\n      <td>2022-08-02 10:35:00</td>\n      <td>浦东国际机场T2</td>\n      <td>凤凰国际机场T1</td>\n      <td></td>\n      <td>1419</td>\n      <td></td>\n      <td></td>\n      <td></td>\n      <td></td>\n      <td></td>\n      <td></td>\n    </tr>\n    <tr>\n      <th>2</th>\n      <td>66143</td>\n      <td>2022-07-06 16:05:59</td>\n      <td>lyh</td>\n      <td>春秋航空</td>\n      <td>9C8801</td>\n      <td>空客320_186</td>\n      <td></td>\n      <td>2022-07-31 18:20:00</td>\n      <td>2022-07-31 21:35:00</td>\n      <td>浦东国际机场T2</td>\n      <td>凤凰国际机场T1</td>\n      <td></td>\n      <td>1329</td>\n      <td></td>\n      <td></td>\n      <td></td>\n      <td></td>\n      <td></td>\n      <td></td>\n    </tr>\n    <tr>\n      <th>3</th>\n      <td>66142</td>\n      <td>2022-07-06 16:05:59</td>\n      <td>lyh</td>\n      <td>春秋航空</td>\n      <td>9C8779</td>\n      <td>空客320_186</td>\n      <td></td>\n      <td>2022-07-31 07:25:00</td>\n      <td>2022-07-31 10:35:00</td>\n      <td>浦东国际机场T2</td>\n      <td>凤凰国际机场T1</td>\n      <td></td>\n      <td>1239</td>\n      <td></td>\n      <td></td>\n      <td></td>\n      <td></td>\n      <td></td>\n      <td></td>\n    </tr>\n    <tr>\n      <th>4</th>\n      <td>66141</td>\n      <td>2022-07-06 16:05:55</td>\n      <td>lyh</td>\n      <td>春秋航空</td>\n      <td>9C8801</td>\n      <td>空客320_186</td>\n      <td></td>\n      <td>2022-07-30 18:20:00</td>\n      <td>2022-07-30 21:35:00</td>\n      <td>浦东国际机场T2</td>\n      <td>凤凰国际机场T1</td>\n      <td></td>\n      <td>1089</td>\n      <td></td>\n      <td></td>\n      <td></td>\n      <td></td>\n      <td></td>\n      <td></td>\n    </tr>\n    <tr>\n      <th>...</th>\n      <td>...</td>\n      <td>...</td>\n      <td>...</td>\n      <td>...</td>\n      <td>...</td>\n      <td>...</td>\n      <td>...</td>\n      <td>...</td>\n      <td>...</td>\n      <td>...</td>\n      <td>...</td>\n      <td>...</td>\n      <td>...</td>\n      <td>...</td>\n      <td>...</td>\n      <td>...</td>\n      <td>...</td>\n      <td>...</td>\n      <td>...</td>\n    </tr>\n    <tr>\n      <th>95</th>\n      <td>66050</td>\n      <td>2022-07-06 16:01:08</td>\n      <td>lyh</td>\n      <td>春秋航空</td>\n      <td>9C8843</td>\n      <td>空客320_186</td>\n      <td></td>\n      <td>2022-07-19 08:40:00</td>\n      <td>2022-07-19 10:35:00</td>\n      <td>浦东国际机场T2</td>\n      <td>周水子国际机场</td>\n      <td></td>\n      <td>309</td>\n      <td></td>\n      <td></td>\n      <td></td>\n      <td></td>\n      <td></td>\n      <td></td>\n    </tr>\n    <tr>\n      <th>96</th>\n      <td>66049</td>\n      <td>2022-07-06 16:01:05</td>\n      <td>lyh</td>\n      <td>春秋航空</td>\n      <td>9C6535</td>\n      <td>空客320_186</td>\n      <td></td>\n      <td>2022-07-18 21:35:00</td>\n      <td>2022-07-18 23:40:00</td>\n      <td>浦东国际机场T2</td>\n      <td>周水子国际机场</td>\n      <td></td>\n      <td>469</td>\n      <td></td>\n      <td></td>\n      <td></td>\n      <td></td>\n      <td></td>\n      <td></td>\n    </tr>\n    <tr>\n      <th>97</th>\n      <td>66048</td>\n      <td>2022-07-06 16:01:05</td>\n      <td>lyh</td>\n      <td>春秋航空</td>\n      <td>9C6807</td>\n      <td>空客320_186</td>\n      <td></td>\n      <td>2022-07-18 14:40:00</td>\n      <td>2022-07-18 16:35:00</td>\n      <td>浦东国际机场T2</td>\n      <td>周水子国际机场</td>\n      <td></td>\n      <td>309</td>\n      <td></td>\n      <td></td>\n      <td></td>\n      <td></td>\n      <td></td>\n      <td></td>\n    </tr>\n    <tr>\n      <th>98</th>\n      <td>66047</td>\n      <td>2022-07-06 16:01:05</td>\n      <td>lyh</td>\n      <td>春秋航空</td>\n      <td>9C8977</td>\n      <td>空客320_186</td>\n      <td></td>\n      <td>2022-07-18 13:00:00</td>\n      <td>2022-07-18 15:00:00</td>\n      <td>浦东国际机场T2</td>\n      <td>周水子国际机场</td>\n      <td></td>\n      <td>309</td>\n      <td></td>\n      <td></td>\n      <td></td>\n      <td></td>\n      <td></td>\n      <td></td>\n    </tr>\n    <tr>\n      <th>99</th>\n      <td>66046</td>\n      <td>2022-07-06 16:01:05</td>\n      <td>lyh</td>\n      <td>春秋航空</td>\n      <td>9C8843</td>\n      <td>空客320_186</td>\n      <td></td>\n      <td>2022-07-18 08:40:00</td>\n      <td>2022-07-18 10:35:00</td>\n      <td>浦东国际机场T2</td>\n      <td>周水子国际机场</td>\n      <td></td>\n      <td>309</td>\n      <td></td>\n      <td></td>\n      <td></td>\n      <td></td>\n      <td></td>\n      <td></td>\n    </tr>\n  </tbody>\n</table>\n<p>100 rows × 19 columns</p>\n</div>"
     },
     "execution_count": 91,
     "metadata": {},
     "output_type": "execute_result"
    }
   ],
   "source": [
    "tickets"
   ],
   "metadata": {
    "collapsed": false,
    "pycharm": {
     "name": "#%%\n"
    }
   }
  },
  {
   "cell_type": "code",
   "execution_count": 92,
   "outputs": [],
   "source": [
    "import pymysql\n",
    "import numpy as np\n",
    "import pandas as pd\n",
    "\n",
    "connection = pymysql.connect(host='1.117.74.41',\n",
    "                             user='xiecheng',\n",
    "                             password='xiecheng',\n",
    "                             database='xiecheng',\n",
    "                             cursorclass=pymysql.cursors.DictCursor)\n",
    "\n",
    "with connection:\n",
    "    with connection.cursor() as cursor:\n",
    "        sql = \"SELECT * FROM  `xiecheng_ticket` order by id desc limit 10000\"\n",
    "\n",
    "        tickets = pd.read_sql(sql, connection)"
   ],
   "metadata": {
    "collapsed": false,
    "pycharm": {
     "name": "#%%\n"
    }
   }
  },
  {
   "cell_type": "markdown",
   "source": [
    "# 数据预处理"
   ],
   "metadata": {
    "collapsed": false,
    "pycharm": {
     "name": "#%% md\n"
    }
   }
  },
  {
   "cell_type": "code",
   "execution_count": 137,
   "outputs": [
    {
     "name": "stdout",
     "output_type": "stream",
     "text": [
      "特征维度： 21\n",
      "数据大小： 9097\n",
      "<class 'pandas.core.frame.DataFrame'>\n",
      "Int64Index: 9097 entries, 0 to 9999\n",
      "Data columns (total 21 columns):\n",
      " #   Column              Non-Null Count  Dtype         \n",
      "---  ------              --------------  -----         \n",
      " 0   craft_1             9097 non-null   object        \n",
      " 1   plane_name_1        9097 non-null   object        \n",
      " 2   company_1           9097 non-null   object        \n",
      " 3   arrival_airport     9097 non-null   object        \n",
      " 4   arrival_terminal    9097 non-null   object        \n",
      " 5   arrival_time        9097 non-null   object        \n",
      " 6   cross_day           9097 non-null   object        \n",
      " 7   departure_time      9097 non-null   object        \n",
      " 8   departure_airport   9097 non-null   object        \n",
      " 9   departure_terminal  9097 non-null   object        \n",
      " 10  departure_week      9097 non-null   object        \n",
      " 11  in_time             9097 non-null   object        \n",
      " 12  craft_size          9097 non-null   object        \n",
      " 13  meat                9097 non-null   object        \n",
      " 14  flyman              9097 non-null   object        \n",
      " 15  economy_price       9097 non-null   float64       \n",
      " 16  busniess_price      9097 non-null   float64       \n",
      " 17  total_time          9097 non-null   object        \n",
      " 18  departure_city      9097 non-null   object        \n",
      " 19  arrival_city        9097 non-null   object        \n",
      " 20  create_time         9097 non-null   datetime64[ns]\n",
      "dtypes: datetime64[ns](1), float64(2), object(18)\n",
      "memory usage: 1.8+ MB\n",
      "None\n"
     ]
    },
    {
     "ename": "RecursionError",
     "evalue": "maximum recursion depth exceeded",
     "output_type": "error",
     "traceback": [
      "\u001B[0;31m---------------------------------------------------------------------------\u001B[0m",
      "\u001B[0;31mRecursionError\u001B[0m                            Traceback (most recent call last)",
      "\u001B[0;32m~/anaconda3/envs/python36/lib/python3.6/site-packages/IPython/core/formatters.py\u001B[0m in \u001B[0;36m__call__\u001B[0;34m(self, obj)\u001B[0m\n\u001B[1;32m    700\u001B[0m                 \u001B[0mtype_pprinters\u001B[0m\u001B[0;34m=\u001B[0m\u001B[0mself\u001B[0m\u001B[0;34m.\u001B[0m\u001B[0mtype_printers\u001B[0m\u001B[0;34m,\u001B[0m\u001B[0;34m\u001B[0m\u001B[0;34m\u001B[0m\u001B[0m\n\u001B[1;32m    701\u001B[0m                 deferred_pprinters=self.deferred_printers)\n\u001B[0;32m--> 702\u001B[0;31m             \u001B[0mprinter\u001B[0m\u001B[0;34m.\u001B[0m\u001B[0mpretty\u001B[0m\u001B[0;34m(\u001B[0m\u001B[0mobj\u001B[0m\u001B[0;34m)\u001B[0m\u001B[0;34m\u001B[0m\u001B[0;34m\u001B[0m\u001B[0m\n\u001B[0m\u001B[1;32m    703\u001B[0m             \u001B[0mprinter\u001B[0m\u001B[0;34m.\u001B[0m\u001B[0mflush\u001B[0m\u001B[0;34m(\u001B[0m\u001B[0;34m)\u001B[0m\u001B[0;34m\u001B[0m\u001B[0;34m\u001B[0m\u001B[0m\n\u001B[1;32m    704\u001B[0m             \u001B[0;32mreturn\u001B[0m \u001B[0mstream\u001B[0m\u001B[0;34m.\u001B[0m\u001B[0mgetvalue\u001B[0m\u001B[0;34m(\u001B[0m\u001B[0;34m)\u001B[0m\u001B[0;34m\u001B[0m\u001B[0;34m\u001B[0m\u001B[0m\n",
      "\u001B[0;32m~/anaconda3/envs/python36/lib/python3.6/site-packages/IPython/lib/pretty.py\u001B[0m in \u001B[0;36mpretty\u001B[0;34m(self, obj)\u001B[0m\n\u001B[1;32m    392\u001B[0m                         \u001B[0;32mif\u001B[0m \u001B[0mcls\u001B[0m \u001B[0;32mis\u001B[0m \u001B[0;32mnot\u001B[0m \u001B[0mobject\u001B[0m\u001B[0;31m \u001B[0m\u001B[0;31m\\\u001B[0m\u001B[0;34m\u001B[0m\u001B[0;34m\u001B[0m\u001B[0m\n\u001B[1;32m    393\u001B[0m                                 \u001B[0;32mand\u001B[0m \u001B[0mcallable\u001B[0m\u001B[0;34m(\u001B[0m\u001B[0mcls\u001B[0m\u001B[0;34m.\u001B[0m\u001B[0m__dict__\u001B[0m\u001B[0;34m.\u001B[0m\u001B[0mget\u001B[0m\u001B[0;34m(\u001B[0m\u001B[0;34m'__repr__'\u001B[0m\u001B[0;34m)\u001B[0m\u001B[0;34m)\u001B[0m\u001B[0;34m:\u001B[0m\u001B[0;34m\u001B[0m\u001B[0;34m\u001B[0m\u001B[0m\n\u001B[0;32m--> 394\u001B[0;31m                             \u001B[0;32mreturn\u001B[0m \u001B[0m_repr_pprint\u001B[0m\u001B[0;34m(\u001B[0m\u001B[0mobj\u001B[0m\u001B[0;34m,\u001B[0m \u001B[0mself\u001B[0m\u001B[0;34m,\u001B[0m \u001B[0mcycle\u001B[0m\u001B[0;34m)\u001B[0m\u001B[0;34m\u001B[0m\u001B[0;34m\u001B[0m\u001B[0m\n\u001B[0m\u001B[1;32m    395\u001B[0m \u001B[0;34m\u001B[0m\u001B[0m\n\u001B[1;32m    396\u001B[0m             \u001B[0;32mreturn\u001B[0m \u001B[0m_default_pprint\u001B[0m\u001B[0;34m(\u001B[0m\u001B[0mobj\u001B[0m\u001B[0;34m,\u001B[0m \u001B[0mself\u001B[0m\u001B[0;34m,\u001B[0m \u001B[0mcycle\u001B[0m\u001B[0;34m)\u001B[0m\u001B[0;34m\u001B[0m\u001B[0;34m\u001B[0m\u001B[0m\n",
      "\u001B[0;32m~/anaconda3/envs/python36/lib/python3.6/site-packages/IPython/lib/pretty.py\u001B[0m in \u001B[0;36m_repr_pprint\u001B[0;34m(obj, p, cycle)\u001B[0m\n\u001B[1;32m    698\u001B[0m     \u001B[0;34m\"\"\"A pprint that just redirects to the normal repr function.\"\"\"\u001B[0m\u001B[0;34m\u001B[0m\u001B[0;34m\u001B[0m\u001B[0m\n\u001B[1;32m    699\u001B[0m     \u001B[0;31m# Find newlines and replace them with p.break_()\u001B[0m\u001B[0;34m\u001B[0m\u001B[0;34m\u001B[0m\u001B[0;34m\u001B[0m\u001B[0m\n\u001B[0;32m--> 700\u001B[0;31m     \u001B[0moutput\u001B[0m \u001B[0;34m=\u001B[0m \u001B[0mrepr\u001B[0m\u001B[0;34m(\u001B[0m\u001B[0mobj\u001B[0m\u001B[0;34m)\u001B[0m\u001B[0;34m\u001B[0m\u001B[0;34m\u001B[0m\u001B[0m\n\u001B[0m\u001B[1;32m    701\u001B[0m     \u001B[0mlines\u001B[0m \u001B[0;34m=\u001B[0m \u001B[0moutput\u001B[0m\u001B[0;34m.\u001B[0m\u001B[0msplitlines\u001B[0m\u001B[0;34m(\u001B[0m\u001B[0;34m)\u001B[0m\u001B[0;34m\u001B[0m\u001B[0;34m\u001B[0m\u001B[0m\n\u001B[1;32m    702\u001B[0m     \u001B[0;32mwith\u001B[0m \u001B[0mp\u001B[0m\u001B[0;34m.\u001B[0m\u001B[0mgroup\u001B[0m\u001B[0;34m(\u001B[0m\u001B[0;34m)\u001B[0m\u001B[0;34m:\u001B[0m\u001B[0;34m\u001B[0m\u001B[0;34m\u001B[0m\u001B[0m\n",
      "\u001B[0;32m~/anaconda3/envs/python36/lib/python3.6/site-packages/pandas/core/frame.py\u001B[0m in \u001B[0;36m__repr__\u001B[0;34m(self)\u001B[0m\n\u001B[1;32m    749\u001B[0m             \u001B[0mline_width\u001B[0m\u001B[0;34m=\u001B[0m\u001B[0mwidth\u001B[0m\u001B[0;34m,\u001B[0m\u001B[0;34m\u001B[0m\u001B[0;34m\u001B[0m\u001B[0m\n\u001B[1;32m    750\u001B[0m             \u001B[0mmax_colwidth\u001B[0m\u001B[0;34m=\u001B[0m\u001B[0mmax_colwidth\u001B[0m\u001B[0;34m,\u001B[0m\u001B[0;34m\u001B[0m\u001B[0;34m\u001B[0m\u001B[0m\n\u001B[0;32m--> 751\u001B[0;31m             \u001B[0mshow_dimensions\u001B[0m\u001B[0;34m=\u001B[0m\u001B[0mshow_dimensions\u001B[0m\u001B[0;34m,\u001B[0m\u001B[0;34m\u001B[0m\u001B[0;34m\u001B[0m\u001B[0m\n\u001B[0m\u001B[1;32m    752\u001B[0m         )\n\u001B[1;32m    753\u001B[0m \u001B[0;34m\u001B[0m\u001B[0m\n",
      "\u001B[0;32m~/anaconda3/envs/python36/lib/python3.6/site-packages/pandas/core/frame.py\u001B[0m in \u001B[0;36mto_string\u001B[0;34m(self, buf, columns, col_space, header, index, na_rep, formatters, float_format, sparsify, index_names, justify, max_rows, min_rows, max_cols, show_dimensions, decimal, line_width, max_colwidth, encoding)\u001B[0m\n\u001B[1;32m    881\u001B[0m                 \u001B[0mline_width\u001B[0m\u001B[0;34m=\u001B[0m\u001B[0mline_width\u001B[0m\u001B[0;34m,\u001B[0m\u001B[0;34m\u001B[0m\u001B[0;34m\u001B[0m\u001B[0m\n\u001B[1;32m    882\u001B[0m             )\n\u001B[0;32m--> 883\u001B[0;31m             \u001B[0;32mreturn\u001B[0m \u001B[0mformatter\u001B[0m\u001B[0;34m.\u001B[0m\u001B[0mto_string\u001B[0m\u001B[0;34m(\u001B[0m\u001B[0mbuf\u001B[0m\u001B[0;34m=\u001B[0m\u001B[0mbuf\u001B[0m\u001B[0;34m,\u001B[0m \u001B[0mencoding\u001B[0m\u001B[0;34m=\u001B[0m\u001B[0mencoding\u001B[0m\u001B[0;34m)\u001B[0m\u001B[0;34m\u001B[0m\u001B[0;34m\u001B[0m\u001B[0m\n\u001B[0m\u001B[1;32m    884\u001B[0m \u001B[0;34m\u001B[0m\u001B[0m\n\u001B[1;32m    885\u001B[0m     \u001B[0;31m# ----------------------------------------------------------------------\u001B[0m\u001B[0;34m\u001B[0m\u001B[0;34m\u001B[0m\u001B[0;34m\u001B[0m\u001B[0m\n",
      "\u001B[0;32m~/anaconda3/envs/python36/lib/python3.6/site-packages/pandas/io/formats/format.py\u001B[0m in \u001B[0;36mto_string\u001B[0;34m(self, buf, encoding)\u001B[0m\n\u001B[1;32m    919\u001B[0m         \u001B[0mencoding\u001B[0m\u001B[0;34m:\u001B[0m \u001B[0mOptional\u001B[0m\u001B[0;34m[\u001B[0m\u001B[0mstr\u001B[0m\u001B[0;34m]\u001B[0m \u001B[0;34m=\u001B[0m \u001B[0;32mNone\u001B[0m\u001B[0;34m,\u001B[0m\u001B[0;34m\u001B[0m\u001B[0;34m\u001B[0m\u001B[0m\n\u001B[1;32m    920\u001B[0m     ) -> Optional[str]:\n\u001B[0;32m--> 921\u001B[0;31m         \u001B[0;32mreturn\u001B[0m \u001B[0mself\u001B[0m\u001B[0;34m.\u001B[0m\u001B[0mget_result\u001B[0m\u001B[0;34m(\u001B[0m\u001B[0mbuf\u001B[0m\u001B[0;34m=\u001B[0m\u001B[0mbuf\u001B[0m\u001B[0;34m,\u001B[0m \u001B[0mencoding\u001B[0m\u001B[0;34m=\u001B[0m\u001B[0mencoding\u001B[0m\u001B[0;34m)\u001B[0m\u001B[0;34m\u001B[0m\u001B[0;34m\u001B[0m\u001B[0m\n\u001B[0m\u001B[1;32m    922\u001B[0m \u001B[0;34m\u001B[0m\u001B[0m\n\u001B[1;32m    923\u001B[0m     def to_latex(\n",
      "\u001B[0;32m~/anaconda3/envs/python36/lib/python3.6/site-packages/pandas/io/formats/format.py\u001B[0m in \u001B[0;36mget_result\u001B[0;34m(self, buf, encoding)\u001B[0m\n\u001B[1;32m    518\u001B[0m         \"\"\"\n\u001B[1;32m    519\u001B[0m         \u001B[0;32mwith\u001B[0m \u001B[0mself\u001B[0m\u001B[0;34m.\u001B[0m\u001B[0mget_buffer\u001B[0m\u001B[0;34m(\u001B[0m\u001B[0mbuf\u001B[0m\u001B[0;34m,\u001B[0m \u001B[0mencoding\u001B[0m\u001B[0;34m=\u001B[0m\u001B[0mencoding\u001B[0m\u001B[0;34m)\u001B[0m \u001B[0;32mas\u001B[0m \u001B[0mf\u001B[0m\u001B[0;34m:\u001B[0m\u001B[0;34m\u001B[0m\u001B[0;34m\u001B[0m\u001B[0m\n\u001B[0;32m--> 520\u001B[0;31m             \u001B[0mself\u001B[0m\u001B[0;34m.\u001B[0m\u001B[0mwrite_result\u001B[0m\u001B[0;34m(\u001B[0m\u001B[0mbuf\u001B[0m\u001B[0;34m=\u001B[0m\u001B[0mf\u001B[0m\u001B[0;34m)\u001B[0m\u001B[0;34m\u001B[0m\u001B[0;34m\u001B[0m\u001B[0m\n\u001B[0m\u001B[1;32m    521\u001B[0m             \u001B[0;32mif\u001B[0m \u001B[0mbuf\u001B[0m \u001B[0;32mis\u001B[0m \u001B[0;32mNone\u001B[0m\u001B[0;34m:\u001B[0m\u001B[0;34m\u001B[0m\u001B[0;34m\u001B[0m\u001B[0m\n\u001B[1;32m    522\u001B[0m                 \u001B[0;32mreturn\u001B[0m \u001B[0mf\u001B[0m\u001B[0;34m.\u001B[0m\u001B[0mgetvalue\u001B[0m\u001B[0;34m(\u001B[0m\u001B[0;34m)\u001B[0m\u001B[0;34m\u001B[0m\u001B[0;34m\u001B[0m\u001B[0m\n",
      "\u001B[0;32m~/anaconda3/envs/python36/lib/python3.6/site-packages/pandas/io/formats/format.py\u001B[0m in \u001B[0;36mwrite_result\u001B[0;34m(self, buf)\u001B[0m\n\u001B[1;32m    832\u001B[0m         \u001B[0;32melse\u001B[0m\u001B[0;34m:\u001B[0m\u001B[0;34m\u001B[0m\u001B[0;34m\u001B[0m\u001B[0m\n\u001B[1;32m    833\u001B[0m \u001B[0;34m\u001B[0m\u001B[0m\n\u001B[0;32m--> 834\u001B[0;31m             \u001B[0mstrcols\u001B[0m \u001B[0;34m=\u001B[0m \u001B[0mself\u001B[0m\u001B[0;34m.\u001B[0m\u001B[0m_to_str_columns\u001B[0m\u001B[0;34m(\u001B[0m\u001B[0;34m)\u001B[0m\u001B[0;34m\u001B[0m\u001B[0;34m\u001B[0m\u001B[0m\n\u001B[0m\u001B[1;32m    835\u001B[0m             \u001B[0;32mif\u001B[0m \u001B[0mself\u001B[0m\u001B[0;34m.\u001B[0m\u001B[0mline_width\u001B[0m \u001B[0;32mis\u001B[0m \u001B[0;32mNone\u001B[0m\u001B[0;34m:\u001B[0m  \u001B[0;31m# no need to wrap around just print\u001B[0m\u001B[0;34m\u001B[0m\u001B[0;34m\u001B[0m\u001B[0m\n\u001B[1;32m    836\u001B[0m                 \u001B[0;31m# the whole frame\u001B[0m\u001B[0;34m\u001B[0m\u001B[0;34m\u001B[0m\u001B[0;34m\u001B[0m\u001B[0m\n",
      "\u001B[0;32m~/anaconda3/envs/python36/lib/python3.6/site-packages/pandas/io/formats/format.py\u001B[0m in \u001B[0;36m_to_str_columns\u001B[0;34m(self)\u001B[0m\n\u001B[1;32m    768\u001B[0m                     \u001B[0mcol_space\u001B[0m\u001B[0;34m.\u001B[0m\u001B[0mget\u001B[0m\u001B[0;34m(\u001B[0m\u001B[0mc\u001B[0m\u001B[0;34m,\u001B[0m \u001B[0;36m0\u001B[0m\u001B[0;34m)\u001B[0m\u001B[0;34m,\u001B[0m \u001B[0;34m*\u001B[0m\u001B[0;34m(\u001B[0m\u001B[0mself\u001B[0m\u001B[0;34m.\u001B[0m\u001B[0madj\u001B[0m\u001B[0;34m.\u001B[0m\u001B[0mlen\u001B[0m\u001B[0;34m(\u001B[0m\u001B[0mx\u001B[0m\u001B[0;34m)\u001B[0m \u001B[0;32mfor\u001B[0m \u001B[0mx\u001B[0m \u001B[0;32min\u001B[0m \u001B[0mcheader\u001B[0m\u001B[0;34m)\u001B[0m\u001B[0;34m\u001B[0m\u001B[0;34m\u001B[0m\u001B[0m\n\u001B[1;32m    769\u001B[0m                 )\n\u001B[0;32m--> 770\u001B[0;31m                 \u001B[0mfmt_values\u001B[0m \u001B[0;34m=\u001B[0m \u001B[0mself\u001B[0m\u001B[0;34m.\u001B[0m\u001B[0m_format_col\u001B[0m\u001B[0;34m(\u001B[0m\u001B[0mi\u001B[0m\u001B[0;34m)\u001B[0m\u001B[0;34m\u001B[0m\u001B[0;34m\u001B[0m\u001B[0m\n\u001B[0m\u001B[1;32m    771\u001B[0m                 fmt_values = _make_fixed_width(\n\u001B[1;32m    772\u001B[0m                     \u001B[0mfmt_values\u001B[0m\u001B[0;34m,\u001B[0m \u001B[0mself\u001B[0m\u001B[0;34m.\u001B[0m\u001B[0mjustify\u001B[0m\u001B[0;34m,\u001B[0m \u001B[0mminimum\u001B[0m\u001B[0;34m=\u001B[0m\u001B[0mheader_colwidth\u001B[0m\u001B[0;34m,\u001B[0m \u001B[0madj\u001B[0m\u001B[0;34m=\u001B[0m\u001B[0mself\u001B[0m\u001B[0;34m.\u001B[0m\u001B[0madj\u001B[0m\u001B[0;34m\u001B[0m\u001B[0;34m\u001B[0m\u001B[0m\n",
      "\u001B[0;32m~/anaconda3/envs/python36/lib/python3.6/site-packages/pandas/io/formats/format.py\u001B[0m in \u001B[0;36m_format_col\u001B[0;34m(self, i)\u001B[0m\n\u001B[1;32m    958\u001B[0m             \u001B[0mna_rep\u001B[0m\u001B[0;34m=\u001B[0m\u001B[0mself\u001B[0m\u001B[0;34m.\u001B[0m\u001B[0mna_rep\u001B[0m\u001B[0;34m,\u001B[0m\u001B[0;34m\u001B[0m\u001B[0;34m\u001B[0m\u001B[0m\n\u001B[1;32m    959\u001B[0m             \u001B[0mspace\u001B[0m\u001B[0;34m=\u001B[0m\u001B[0mself\u001B[0m\u001B[0;34m.\u001B[0m\u001B[0mcol_space\u001B[0m\u001B[0;34m.\u001B[0m\u001B[0mget\u001B[0m\u001B[0;34m(\u001B[0m\u001B[0mframe\u001B[0m\u001B[0;34m.\u001B[0m\u001B[0mcolumns\u001B[0m\u001B[0;34m[\u001B[0m\u001B[0mi\u001B[0m\u001B[0;34m]\u001B[0m\u001B[0;34m)\u001B[0m\u001B[0;34m,\u001B[0m\u001B[0;34m\u001B[0m\u001B[0;34m\u001B[0m\u001B[0m\n\u001B[0;32m--> 960\u001B[0;31m             \u001B[0mdecimal\u001B[0m\u001B[0;34m=\u001B[0m\u001B[0mself\u001B[0m\u001B[0;34m.\u001B[0m\u001B[0mdecimal\u001B[0m\u001B[0;34m,\u001B[0m\u001B[0;34m\u001B[0m\u001B[0;34m\u001B[0m\u001B[0m\n\u001B[0m\u001B[1;32m    961\u001B[0m         )\n\u001B[1;32m    962\u001B[0m \u001B[0;34m\u001B[0m\u001B[0m\n",
      "\u001B[0;32m~/anaconda3/envs/python36/lib/python3.6/site-packages/pandas/io/formats/format.py\u001B[0m in \u001B[0;36mformat_array\u001B[0;34m(values, formatter, float_format, na_rep, digits, space, justify, decimal, leading_space, quoting)\u001B[0m\n\u001B[1;32m   1177\u001B[0m     )\n\u001B[1;32m   1178\u001B[0m \u001B[0;34m\u001B[0m\u001B[0m\n\u001B[0;32m-> 1179\u001B[0;31m     \u001B[0;32mreturn\u001B[0m \u001B[0mfmt_obj\u001B[0m\u001B[0;34m.\u001B[0m\u001B[0mget_result\u001B[0m\u001B[0;34m(\u001B[0m\u001B[0;34m)\u001B[0m\u001B[0;34m\u001B[0m\u001B[0;34m\u001B[0m\u001B[0m\n\u001B[0m\u001B[1;32m   1180\u001B[0m \u001B[0;34m\u001B[0m\u001B[0m\n\u001B[1;32m   1181\u001B[0m \u001B[0;34m\u001B[0m\u001B[0m\n",
      "\u001B[0;32m~/anaconda3/envs/python36/lib/python3.6/site-packages/pandas/io/formats/format.py\u001B[0m in \u001B[0;36mget_result\u001B[0;34m(self)\u001B[0m\n\u001B[1;32m   1208\u001B[0m \u001B[0;34m\u001B[0m\u001B[0m\n\u001B[1;32m   1209\u001B[0m     \u001B[0;32mdef\u001B[0m \u001B[0mget_result\u001B[0m\u001B[0;34m(\u001B[0m\u001B[0mself\u001B[0m\u001B[0;34m)\u001B[0m \u001B[0;34m->\u001B[0m \u001B[0mList\u001B[0m\u001B[0;34m[\u001B[0m\u001B[0mstr\u001B[0m\u001B[0;34m]\u001B[0m\u001B[0;34m:\u001B[0m\u001B[0;34m\u001B[0m\u001B[0;34m\u001B[0m\u001B[0m\n\u001B[0;32m-> 1210\u001B[0;31m         \u001B[0mfmt_values\u001B[0m \u001B[0;34m=\u001B[0m \u001B[0mself\u001B[0m\u001B[0;34m.\u001B[0m\u001B[0m_format_strings\u001B[0m\u001B[0;34m(\u001B[0m\u001B[0;34m)\u001B[0m\u001B[0;34m\u001B[0m\u001B[0;34m\u001B[0m\u001B[0m\n\u001B[0m\u001B[1;32m   1211\u001B[0m         \u001B[0;32mreturn\u001B[0m \u001B[0m_make_fixed_width\u001B[0m\u001B[0;34m(\u001B[0m\u001B[0mfmt_values\u001B[0m\u001B[0;34m,\u001B[0m \u001B[0mself\u001B[0m\u001B[0;34m.\u001B[0m\u001B[0mjustify\u001B[0m\u001B[0;34m)\u001B[0m\u001B[0;34m\u001B[0m\u001B[0;34m\u001B[0m\u001B[0m\n\u001B[1;32m   1212\u001B[0m \u001B[0;34m\u001B[0m\u001B[0m\n",
      "\u001B[0;32m~/anaconda3/envs/python36/lib/python3.6/site-packages/pandas/io/formats/format.py\u001B[0m in \u001B[0;36m_format_strings\u001B[0;34m(self)\u001B[0m\n\u001B[1;32m   1275\u001B[0m                 \u001B[0;32melse\u001B[0m\u001B[0;34m:\u001B[0m\u001B[0;34m\u001B[0m\u001B[0;34m\u001B[0m\u001B[0m\n\u001B[1;32m   1276\u001B[0m                     \u001B[0mtpl\u001B[0m \u001B[0;34m=\u001B[0m \u001B[0;34m\" {v}\"\u001B[0m\u001B[0;34m\u001B[0m\u001B[0;34m\u001B[0m\u001B[0m\n\u001B[0;32m-> 1277\u001B[0;31m                 \u001B[0mfmt_values\u001B[0m\u001B[0;34m.\u001B[0m\u001B[0mappend\u001B[0m\u001B[0;34m(\u001B[0m\u001B[0mtpl\u001B[0m\u001B[0;34m.\u001B[0m\u001B[0mformat\u001B[0m\u001B[0;34m(\u001B[0m\u001B[0mv\u001B[0m\u001B[0;34m=\u001B[0m\u001B[0m_format\u001B[0m\u001B[0;34m(\u001B[0m\u001B[0mv\u001B[0m\u001B[0;34m)\u001B[0m\u001B[0;34m)\u001B[0m\u001B[0;34m)\u001B[0m\u001B[0;34m\u001B[0m\u001B[0;34m\u001B[0m\u001B[0m\n\u001B[0m\u001B[1;32m   1278\u001B[0m \u001B[0;34m\u001B[0m\u001B[0m\n\u001B[1;32m   1279\u001B[0m         \u001B[0;32mreturn\u001B[0m \u001B[0mfmt_values\u001B[0m\u001B[0;34m\u001B[0m\u001B[0;34m\u001B[0m\u001B[0m\n",
      "\u001B[0;32m~/anaconda3/envs/python36/lib/python3.6/site-packages/pandas/io/formats/format.py\u001B[0m in \u001B[0;36m_format\u001B[0;34m(x)\u001B[0m\n\u001B[1;32m   1249\u001B[0m             \u001B[0;32melse\u001B[0m\u001B[0;34m:\u001B[0m\u001B[0;34m\u001B[0m\u001B[0;34m\u001B[0m\u001B[0m\n\u001B[1;32m   1250\u001B[0m                 \u001B[0;31m# object dtype\u001B[0m\u001B[0;34m\u001B[0m\u001B[0;34m\u001B[0m\u001B[0;34m\u001B[0m\u001B[0m\n\u001B[0;32m-> 1251\u001B[0;31m                 \u001B[0;32mreturn\u001B[0m \u001B[0mstr\u001B[0m\u001B[0;34m(\u001B[0m\u001B[0mformatter\u001B[0m\u001B[0;34m(\u001B[0m\u001B[0mx\u001B[0m\u001B[0;34m)\u001B[0m\u001B[0;34m)\u001B[0m\u001B[0;34m\u001B[0m\u001B[0;34m\u001B[0m\u001B[0m\n\u001B[0m\u001B[1;32m   1252\u001B[0m \u001B[0;34m\u001B[0m\u001B[0m\n\u001B[1;32m   1253\u001B[0m         \u001B[0mvals\u001B[0m \u001B[0;34m=\u001B[0m \u001B[0mextract_array\u001B[0m\u001B[0;34m(\u001B[0m\u001B[0mself\u001B[0m\u001B[0;34m.\u001B[0m\u001B[0mvalues\u001B[0m\u001B[0;34m,\u001B[0m \u001B[0mextract_numpy\u001B[0m\u001B[0;34m=\u001B[0m\u001B[0;32mTrue\u001B[0m\u001B[0;34m)\u001B[0m\u001B[0;34m\u001B[0m\u001B[0;34m\u001B[0m\u001B[0m\n",
      "\u001B[0;32m~/anaconda3/envs/python36/lib/python3.6/site-packages/pandas/io/formats/printing.py\u001B[0m in \u001B[0;36mpprint_thing\u001B[0;34m(thing, _nest_lvl, escape_chars, default_escapes, quote_strings, max_seq_items)\u001B[0m\n\u001B[1;32m    232\u001B[0m         \u001B[0mresult\u001B[0m \u001B[0;34m=\u001B[0m \u001B[0;34mf\"'{as_escaped_string(thing)}'\"\u001B[0m\u001B[0;34m\u001B[0m\u001B[0;34m\u001B[0m\u001B[0m\n\u001B[1;32m    233\u001B[0m     \u001B[0;32melse\u001B[0m\u001B[0;34m:\u001B[0m\u001B[0;34m\u001B[0m\u001B[0;34m\u001B[0m\u001B[0m\n\u001B[0;32m--> 234\u001B[0;31m         \u001B[0mresult\u001B[0m \u001B[0;34m=\u001B[0m \u001B[0mas_escaped_string\u001B[0m\u001B[0;34m(\u001B[0m\u001B[0mthing\u001B[0m\u001B[0;34m)\u001B[0m\u001B[0;34m\u001B[0m\u001B[0;34m\u001B[0m\u001B[0m\n\u001B[0m\u001B[1;32m    235\u001B[0m \u001B[0;34m\u001B[0m\u001B[0m\n\u001B[1;32m    236\u001B[0m     \u001B[0;32mreturn\u001B[0m \u001B[0mresult\u001B[0m\u001B[0;34m\u001B[0m\u001B[0;34m\u001B[0m\u001B[0m\n",
      "\u001B[0;32m~/anaconda3/envs/python36/lib/python3.6/site-packages/pandas/io/formats/printing.py\u001B[0m in \u001B[0;36mas_escaped_string\u001B[0;34m(thing, escape_chars)\u001B[0m\n\u001B[1;32m    208\u001B[0m             \u001B[0mescape_chars\u001B[0m \u001B[0;34m=\u001B[0m \u001B[0mescape_chars\u001B[0m \u001B[0;32mor\u001B[0m \u001B[0mtuple\u001B[0m\u001B[0;34m(\u001B[0m\u001B[0;34m)\u001B[0m\u001B[0;34m\u001B[0m\u001B[0;34m\u001B[0m\u001B[0m\n\u001B[1;32m    209\u001B[0m \u001B[0;34m\u001B[0m\u001B[0m\n\u001B[0;32m--> 210\u001B[0;31m         \u001B[0mresult\u001B[0m \u001B[0;34m=\u001B[0m \u001B[0mstr\u001B[0m\u001B[0;34m(\u001B[0m\u001B[0mthing\u001B[0m\u001B[0;34m)\u001B[0m\u001B[0;34m\u001B[0m\u001B[0;34m\u001B[0m\u001B[0m\n\u001B[0m\u001B[1;32m    211\u001B[0m         \u001B[0;32mfor\u001B[0m \u001B[0mc\u001B[0m \u001B[0;32min\u001B[0m \u001B[0mescape_chars\u001B[0m\u001B[0;34m:\u001B[0m\u001B[0;34m\u001B[0m\u001B[0;34m\u001B[0m\u001B[0m\n\u001B[1;32m    212\u001B[0m             \u001B[0mresult\u001B[0m \u001B[0;34m=\u001B[0m \u001B[0mresult\u001B[0m\u001B[0;34m.\u001B[0m\u001B[0mreplace\u001B[0m\u001B[0;34m(\u001B[0m\u001B[0mc\u001B[0m\u001B[0;34m,\u001B[0m \u001B[0mtranslate\u001B[0m\u001B[0;34m[\u001B[0m\u001B[0mc\u001B[0m\u001B[0;34m]\u001B[0m\u001B[0;34m)\u001B[0m\u001B[0;34m\u001B[0m\u001B[0;34m\u001B[0m\u001B[0m\n",
      "\u001B[0;32m~/anaconda3/envs/python36/lib/python3.6/site-packages/pandas/core/series.py\u001B[0m in \u001B[0;36m__repr__\u001B[0;34m(self)\u001B[0m\n\u001B[1;32m   1332\u001B[0m             \u001B[0mmin_rows\u001B[0m\u001B[0;34m=\u001B[0m\u001B[0mmin_rows\u001B[0m\u001B[0;34m,\u001B[0m\u001B[0;34m\u001B[0m\u001B[0;34m\u001B[0m\u001B[0m\n\u001B[1;32m   1333\u001B[0m             \u001B[0mmax_rows\u001B[0m\u001B[0;34m=\u001B[0m\u001B[0mmax_rows\u001B[0m\u001B[0;34m,\u001B[0m\u001B[0;34m\u001B[0m\u001B[0;34m\u001B[0m\u001B[0m\n\u001B[0;32m-> 1334\u001B[0;31m             \u001B[0mlength\u001B[0m\u001B[0;34m=\u001B[0m\u001B[0mshow_dimensions\u001B[0m\u001B[0;34m,\u001B[0m\u001B[0;34m\u001B[0m\u001B[0;34m\u001B[0m\u001B[0m\n\u001B[0m\u001B[1;32m   1335\u001B[0m         )\n\u001B[1;32m   1336\u001B[0m         \u001B[0mresult\u001B[0m \u001B[0;34m=\u001B[0m \u001B[0mbuf\u001B[0m\u001B[0;34m.\u001B[0m\u001B[0mgetvalue\u001B[0m\u001B[0;34m(\u001B[0m\u001B[0;34m)\u001B[0m\u001B[0;34m\u001B[0m\u001B[0;34m\u001B[0m\u001B[0m\n",
      "\u001B[0;32m~/anaconda3/envs/python36/lib/python3.6/site-packages/pandas/core/series.py\u001B[0m in \u001B[0;36mto_string\u001B[0;34m(self, buf, na_rep, float_format, header, index, length, dtype, name, max_rows, min_rows)\u001B[0m\n\u001B[1;32m   1397\u001B[0m             \u001B[0mmax_rows\u001B[0m\u001B[0;34m=\u001B[0m\u001B[0mmax_rows\u001B[0m\u001B[0;34m,\u001B[0m\u001B[0;34m\u001B[0m\u001B[0;34m\u001B[0m\u001B[0m\n\u001B[1;32m   1398\u001B[0m         )\n\u001B[0;32m-> 1399\u001B[0;31m         \u001B[0mresult\u001B[0m \u001B[0;34m=\u001B[0m \u001B[0mformatter\u001B[0m\u001B[0;34m.\u001B[0m\u001B[0mto_string\u001B[0m\u001B[0;34m(\u001B[0m\u001B[0;34m)\u001B[0m\u001B[0;34m\u001B[0m\u001B[0;34m\u001B[0m\u001B[0m\n\u001B[0m\u001B[1;32m   1400\u001B[0m \u001B[0;34m\u001B[0m\u001B[0m\n\u001B[1;32m   1401\u001B[0m         \u001B[0;31m# catch contract violations\u001B[0m\u001B[0;34m\u001B[0m\u001B[0;34m\u001B[0m\u001B[0;34m\u001B[0m\u001B[0m\n",
      "\u001B[0;32m~/anaconda3/envs/python36/lib/python3.6/site-packages/pandas/io/formats/format.py\u001B[0m in \u001B[0;36mto_string\u001B[0;34m(self)\u001B[0m\n\u001B[1;32m    356\u001B[0m \u001B[0;34m\u001B[0m\u001B[0m\n\u001B[1;32m    357\u001B[0m         \u001B[0mfmt_index\u001B[0m\u001B[0;34m,\u001B[0m \u001B[0mhave_header\u001B[0m \u001B[0;34m=\u001B[0m \u001B[0mself\u001B[0m\u001B[0;34m.\u001B[0m\u001B[0m_get_formatted_index\u001B[0m\u001B[0;34m(\u001B[0m\u001B[0;34m)\u001B[0m\u001B[0;34m\u001B[0m\u001B[0;34m\u001B[0m\u001B[0m\n\u001B[0;32m--> 358\u001B[0;31m         \u001B[0mfmt_values\u001B[0m \u001B[0;34m=\u001B[0m \u001B[0mself\u001B[0m\u001B[0;34m.\u001B[0m\u001B[0m_get_formatted_values\u001B[0m\u001B[0;34m(\u001B[0m\u001B[0;34m)\u001B[0m\u001B[0;34m\u001B[0m\u001B[0;34m\u001B[0m\u001B[0m\n\u001B[0m\u001B[1;32m    359\u001B[0m \u001B[0;34m\u001B[0m\u001B[0m\n\u001B[1;32m    360\u001B[0m         \u001B[0;32mif\u001B[0m \u001B[0mself\u001B[0m\u001B[0;34m.\u001B[0m\u001B[0mtruncate_v\u001B[0m\u001B[0;34m:\u001B[0m\u001B[0;34m\u001B[0m\u001B[0;34m\u001B[0m\u001B[0m\n",
      "\u001B[0;32m~/anaconda3/envs/python36/lib/python3.6/site-packages/pandas/io/formats/format.py\u001B[0m in \u001B[0;36m_get_formatted_values\u001B[0;34m(self)\u001B[0m\n\u001B[1;32m    345\u001B[0m             \u001B[0;32mNone\u001B[0m\u001B[0;34m,\u001B[0m\u001B[0;34m\u001B[0m\u001B[0;34m\u001B[0m\u001B[0m\n\u001B[1;32m    346\u001B[0m             \u001B[0mfloat_format\u001B[0m\u001B[0;34m=\u001B[0m\u001B[0mself\u001B[0m\u001B[0;34m.\u001B[0m\u001B[0mfloat_format\u001B[0m\u001B[0;34m,\u001B[0m\u001B[0;34m\u001B[0m\u001B[0;34m\u001B[0m\u001B[0m\n\u001B[0;32m--> 347\u001B[0;31m             \u001B[0mna_rep\u001B[0m\u001B[0;34m=\u001B[0m\u001B[0mself\u001B[0m\u001B[0;34m.\u001B[0m\u001B[0mna_rep\u001B[0m\u001B[0;34m,\u001B[0m\u001B[0;34m\u001B[0m\u001B[0;34m\u001B[0m\u001B[0m\n\u001B[0m\u001B[1;32m    348\u001B[0m         )\n\u001B[1;32m    349\u001B[0m \u001B[0;34m\u001B[0m\u001B[0m\n",
      "... last 10 frames repeated, from the frame below ...\n",
      "\u001B[0;32m~/anaconda3/envs/python36/lib/python3.6/site-packages/pandas/io/formats/format.py\u001B[0m in \u001B[0;36mformat_array\u001B[0;34m(values, formatter, float_format, na_rep, digits, space, justify, decimal, leading_space, quoting)\u001B[0m\n\u001B[1;32m   1177\u001B[0m     )\n\u001B[1;32m   1178\u001B[0m \u001B[0;34m\u001B[0m\u001B[0m\n\u001B[0;32m-> 1179\u001B[0;31m     \u001B[0;32mreturn\u001B[0m \u001B[0mfmt_obj\u001B[0m\u001B[0;34m.\u001B[0m\u001B[0mget_result\u001B[0m\u001B[0;34m(\u001B[0m\u001B[0;34m)\u001B[0m\u001B[0;34m\u001B[0m\u001B[0;34m\u001B[0m\u001B[0m\n\u001B[0m\u001B[1;32m   1180\u001B[0m \u001B[0;34m\u001B[0m\u001B[0m\n\u001B[1;32m   1181\u001B[0m \u001B[0;34m\u001B[0m\u001B[0m\n",
      "\u001B[0;31mRecursionError\u001B[0m: maximum recursion depth exceeded"
     ]
    },
    {
     "ename": "RecursionError",
     "evalue": "maximum recursion depth exceeded while calling a Python object",
     "output_type": "error",
     "traceback": [
      "\u001B[0;31m---------------------------------------------------------------------------\u001B[0m",
      "\u001B[0;31mRecursionError\u001B[0m                            Traceback (most recent call last)",
      "\u001B[0;32m~/anaconda3/envs/python36/lib/python3.6/site-packages/IPython/core/formatters.py\u001B[0m in \u001B[0;36m__call__\u001B[0;34m(self, obj)\u001B[0m\n\u001B[1;32m    343\u001B[0m             \u001B[0mmethod\u001B[0m \u001B[0;34m=\u001B[0m \u001B[0mget_real_method\u001B[0m\u001B[0;34m(\u001B[0m\u001B[0mobj\u001B[0m\u001B[0;34m,\u001B[0m \u001B[0mself\u001B[0m\u001B[0;34m.\u001B[0m\u001B[0mprint_method\u001B[0m\u001B[0;34m)\u001B[0m\u001B[0;34m\u001B[0m\u001B[0;34m\u001B[0m\u001B[0m\n\u001B[1;32m    344\u001B[0m             \u001B[0;32mif\u001B[0m \u001B[0mmethod\u001B[0m \u001B[0;32mis\u001B[0m \u001B[0;32mnot\u001B[0m \u001B[0;32mNone\u001B[0m\u001B[0;34m:\u001B[0m\u001B[0;34m\u001B[0m\u001B[0;34m\u001B[0m\u001B[0m\n\u001B[0;32m--> 345\u001B[0;31m                 \u001B[0;32mreturn\u001B[0m \u001B[0mmethod\u001B[0m\u001B[0;34m(\u001B[0m\u001B[0;34m)\u001B[0m\u001B[0;34m\u001B[0m\u001B[0;34m\u001B[0m\u001B[0m\n\u001B[0m\u001B[1;32m    346\u001B[0m             \u001B[0;32mreturn\u001B[0m \u001B[0;32mNone\u001B[0m\u001B[0;34m\u001B[0m\u001B[0;34m\u001B[0m\u001B[0m\n\u001B[1;32m    347\u001B[0m         \u001B[0;32melse\u001B[0m\u001B[0;34m:\u001B[0m\u001B[0;34m\u001B[0m\u001B[0;34m\u001B[0m\u001B[0m\n",
      "\u001B[0;32m~/anaconda3/envs/python36/lib/python3.6/site-packages/pandas/core/frame.py\u001B[0m in \u001B[0;36m_repr_html_\u001B[0;34m(self)\u001B[0m\n\u001B[1;32m    796\u001B[0m                 \u001B[0mrender_links\u001B[0m\u001B[0;34m=\u001B[0m\u001B[0;32mFalse\u001B[0m\u001B[0;34m,\u001B[0m\u001B[0;34m\u001B[0m\u001B[0;34m\u001B[0m\u001B[0m\n\u001B[1;32m    797\u001B[0m             )\n\u001B[0;32m--> 798\u001B[0;31m             \u001B[0;32mreturn\u001B[0m \u001B[0mformatter\u001B[0m\u001B[0;34m.\u001B[0m\u001B[0mto_html\u001B[0m\u001B[0;34m(\u001B[0m\u001B[0mnotebook\u001B[0m\u001B[0;34m=\u001B[0m\u001B[0;32mTrue\u001B[0m\u001B[0;34m)\u001B[0m\u001B[0;34m\u001B[0m\u001B[0;34m\u001B[0m\u001B[0m\n\u001B[0m\u001B[1;32m    799\u001B[0m         \u001B[0;32melse\u001B[0m\u001B[0;34m:\u001B[0m\u001B[0;34m\u001B[0m\u001B[0;34m\u001B[0m\u001B[0m\n\u001B[1;32m    800\u001B[0m             \u001B[0;32mreturn\u001B[0m \u001B[0;32mNone\u001B[0m\u001B[0;34m\u001B[0m\u001B[0;34m\u001B[0m\u001B[0m\n",
      "\u001B[0;32m~/anaconda3/envs/python36/lib/python3.6/site-packages/pandas/io/formats/format.py\u001B[0m in \u001B[0;36mto_html\u001B[0;34m(self, buf, encoding, classes, notebook, border)\u001B[0m\n\u001B[1;32m    987\u001B[0m         \u001B[0mKlass\u001B[0m \u001B[0;34m=\u001B[0m \u001B[0mNotebookFormatter\u001B[0m \u001B[0;32mif\u001B[0m \u001B[0mnotebook\u001B[0m \u001B[0;32melse\u001B[0m \u001B[0mHTMLFormatter\u001B[0m\u001B[0;34m\u001B[0m\u001B[0;34m\u001B[0m\u001B[0m\n\u001B[1;32m    988\u001B[0m         return Klass(self, classes=classes, border=border).get_result(\n\u001B[0;32m--> 989\u001B[0;31m             \u001B[0mbuf\u001B[0m\u001B[0;34m=\u001B[0m\u001B[0mbuf\u001B[0m\u001B[0;34m,\u001B[0m \u001B[0mencoding\u001B[0m\u001B[0;34m=\u001B[0m\u001B[0mencoding\u001B[0m\u001B[0;34m\u001B[0m\u001B[0;34m\u001B[0m\u001B[0m\n\u001B[0m\u001B[1;32m    990\u001B[0m         )\n\u001B[1;32m    991\u001B[0m \u001B[0;34m\u001B[0m\u001B[0m\n",
      "\u001B[0;32m~/anaconda3/envs/python36/lib/python3.6/site-packages/pandas/io/formats/format.py\u001B[0m in \u001B[0;36mget_result\u001B[0;34m(self, buf, encoding)\u001B[0m\n\u001B[1;32m    518\u001B[0m         \"\"\"\n\u001B[1;32m    519\u001B[0m         \u001B[0;32mwith\u001B[0m \u001B[0mself\u001B[0m\u001B[0;34m.\u001B[0m\u001B[0mget_buffer\u001B[0m\u001B[0;34m(\u001B[0m\u001B[0mbuf\u001B[0m\u001B[0;34m,\u001B[0m \u001B[0mencoding\u001B[0m\u001B[0;34m=\u001B[0m\u001B[0mencoding\u001B[0m\u001B[0;34m)\u001B[0m \u001B[0;32mas\u001B[0m \u001B[0mf\u001B[0m\u001B[0;34m:\u001B[0m\u001B[0;34m\u001B[0m\u001B[0;34m\u001B[0m\u001B[0m\n\u001B[0;32m--> 520\u001B[0;31m             \u001B[0mself\u001B[0m\u001B[0;34m.\u001B[0m\u001B[0mwrite_result\u001B[0m\u001B[0;34m(\u001B[0m\u001B[0mbuf\u001B[0m\u001B[0;34m=\u001B[0m\u001B[0mf\u001B[0m\u001B[0;34m)\u001B[0m\u001B[0;34m\u001B[0m\u001B[0;34m\u001B[0m\u001B[0m\n\u001B[0m\u001B[1;32m    521\u001B[0m             \u001B[0;32mif\u001B[0m \u001B[0mbuf\u001B[0m \u001B[0;32mis\u001B[0m \u001B[0;32mNone\u001B[0m\u001B[0;34m:\u001B[0m\u001B[0;34m\u001B[0m\u001B[0;34m\u001B[0m\u001B[0m\n\u001B[1;32m    522\u001B[0m                 \u001B[0;32mreturn\u001B[0m \u001B[0mf\u001B[0m\u001B[0;34m.\u001B[0m\u001B[0mgetvalue\u001B[0m\u001B[0;34m(\u001B[0m\u001B[0;34m)\u001B[0m\u001B[0;34m\u001B[0m\u001B[0;34m\u001B[0m\u001B[0m\n",
      "\u001B[0;32m~/anaconda3/envs/python36/lib/python3.6/site-packages/pandas/io/formats/html.py\u001B[0m in \u001B[0;36mwrite_result\u001B[0;34m(self, buf)\u001B[0m\n\u001B[1;32m    201\u001B[0m \u001B[0;34m\u001B[0m\u001B[0m\n\u001B[1;32m    202\u001B[0m     \u001B[0;32mdef\u001B[0m \u001B[0mwrite_result\u001B[0m\u001B[0;34m(\u001B[0m\u001B[0mself\u001B[0m\u001B[0;34m,\u001B[0m \u001B[0mbuf\u001B[0m\u001B[0;34m:\u001B[0m \u001B[0mIO\u001B[0m\u001B[0;34m[\u001B[0m\u001B[0mstr\u001B[0m\u001B[0;34m]\u001B[0m\u001B[0;34m)\u001B[0m \u001B[0;34m->\u001B[0m \u001B[0;32mNone\u001B[0m\u001B[0;34m:\u001B[0m\u001B[0;34m\u001B[0m\u001B[0;34m\u001B[0m\u001B[0m\n\u001B[0;32m--> 203\u001B[0;31m         \u001B[0mbuffer_put_lines\u001B[0m\u001B[0;34m(\u001B[0m\u001B[0mbuf\u001B[0m\u001B[0;34m,\u001B[0m \u001B[0mself\u001B[0m\u001B[0;34m.\u001B[0m\u001B[0mrender\u001B[0m\u001B[0;34m(\u001B[0m\u001B[0;34m)\u001B[0m\u001B[0;34m)\u001B[0m\u001B[0;34m\u001B[0m\u001B[0;34m\u001B[0m\u001B[0m\n\u001B[0m\u001B[1;32m    204\u001B[0m \u001B[0;34m\u001B[0m\u001B[0m\n\u001B[1;32m    205\u001B[0m     \u001B[0;32mdef\u001B[0m \u001B[0m_write_table\u001B[0m\u001B[0;34m(\u001B[0m\u001B[0mself\u001B[0m\u001B[0;34m,\u001B[0m \u001B[0mindent\u001B[0m\u001B[0;34m:\u001B[0m \u001B[0mint\u001B[0m \u001B[0;34m=\u001B[0m \u001B[0;36m0\u001B[0m\u001B[0;34m)\u001B[0m \u001B[0;34m->\u001B[0m \u001B[0;32mNone\u001B[0m\u001B[0;34m:\u001B[0m\u001B[0;34m\u001B[0m\u001B[0;34m\u001B[0m\u001B[0m\n",
      "\u001B[0;32m~/anaconda3/envs/python36/lib/python3.6/site-packages/pandas/io/formats/html.py\u001B[0m in \u001B[0;36mrender\u001B[0;34m(self)\u001B[0m\n\u001B[1;32m    605\u001B[0m         \u001B[0mself\u001B[0m\u001B[0;34m.\u001B[0m\u001B[0mwrite\u001B[0m\u001B[0;34m(\u001B[0m\u001B[0;34m\"<div>\"\u001B[0m\u001B[0;34m)\u001B[0m\u001B[0;34m\u001B[0m\u001B[0;34m\u001B[0m\u001B[0m\n\u001B[1;32m    606\u001B[0m         \u001B[0mself\u001B[0m\u001B[0;34m.\u001B[0m\u001B[0mwrite_style\u001B[0m\u001B[0;34m(\u001B[0m\u001B[0;34m)\u001B[0m\u001B[0;34m\u001B[0m\u001B[0;34m\u001B[0m\u001B[0m\n\u001B[0;32m--> 607\u001B[0;31m         \u001B[0msuper\u001B[0m\u001B[0;34m(\u001B[0m\u001B[0;34m)\u001B[0m\u001B[0;34m.\u001B[0m\u001B[0mrender\u001B[0m\u001B[0;34m(\u001B[0m\u001B[0;34m)\u001B[0m\u001B[0;34m\u001B[0m\u001B[0;34m\u001B[0m\u001B[0m\n\u001B[0m\u001B[1;32m    608\u001B[0m         \u001B[0mself\u001B[0m\u001B[0;34m.\u001B[0m\u001B[0mwrite\u001B[0m\u001B[0;34m(\u001B[0m\u001B[0;34m\"</div>\"\u001B[0m\u001B[0;34m)\u001B[0m\u001B[0;34m\u001B[0m\u001B[0;34m\u001B[0m\u001B[0m\n\u001B[1;32m    609\u001B[0m         \u001B[0;32mreturn\u001B[0m \u001B[0mself\u001B[0m\u001B[0;34m.\u001B[0m\u001B[0melements\u001B[0m\u001B[0;34m\u001B[0m\u001B[0;34m\u001B[0m\u001B[0m\n",
      "\u001B[0;32m~/anaconda3/envs/python36/lib/python3.6/site-packages/pandas/io/formats/html.py\u001B[0m in \u001B[0;36mrender\u001B[0;34m(self)\u001B[0m\n\u001B[1;32m    190\u001B[0m \u001B[0;34m\u001B[0m\u001B[0m\n\u001B[1;32m    191\u001B[0m     \u001B[0;32mdef\u001B[0m \u001B[0mrender\u001B[0m\u001B[0;34m(\u001B[0m\u001B[0mself\u001B[0m\u001B[0;34m)\u001B[0m \u001B[0;34m->\u001B[0m \u001B[0mList\u001B[0m\u001B[0;34m[\u001B[0m\u001B[0mstr\u001B[0m\u001B[0;34m]\u001B[0m\u001B[0;34m:\u001B[0m\u001B[0;34m\u001B[0m\u001B[0;34m\u001B[0m\u001B[0m\n\u001B[0;32m--> 192\u001B[0;31m         \u001B[0mself\u001B[0m\u001B[0;34m.\u001B[0m\u001B[0m_write_table\u001B[0m\u001B[0;34m(\u001B[0m\u001B[0;34m)\u001B[0m\u001B[0;34m\u001B[0m\u001B[0;34m\u001B[0m\u001B[0m\n\u001B[0m\u001B[1;32m    193\u001B[0m \u001B[0;34m\u001B[0m\u001B[0m\n\u001B[1;32m    194\u001B[0m         \u001B[0;32mif\u001B[0m \u001B[0mself\u001B[0m\u001B[0;34m.\u001B[0m\u001B[0mshould_show_dimensions\u001B[0m\u001B[0;34m:\u001B[0m\u001B[0;34m\u001B[0m\u001B[0;34m\u001B[0m\u001B[0m\n",
      "\u001B[0;32m~/anaconda3/envs/python36/lib/python3.6/site-packages/pandas/io/formats/html.py\u001B[0m in \u001B[0;36m_write_table\u001B[0;34m(self, indent)\u001B[0m\n\u001B[1;32m    231\u001B[0m             \u001B[0mself\u001B[0m\u001B[0;34m.\u001B[0m\u001B[0m_write_header\u001B[0m\u001B[0;34m(\u001B[0m\u001B[0mindent\u001B[0m \u001B[0;34m+\u001B[0m \u001B[0mself\u001B[0m\u001B[0;34m.\u001B[0m\u001B[0mindent_delta\u001B[0m\u001B[0;34m)\u001B[0m\u001B[0;34m\u001B[0m\u001B[0;34m\u001B[0m\u001B[0m\n\u001B[1;32m    232\u001B[0m \u001B[0;34m\u001B[0m\u001B[0m\n\u001B[0;32m--> 233\u001B[0;31m         \u001B[0mself\u001B[0m\u001B[0;34m.\u001B[0m\u001B[0m_write_body\u001B[0m\u001B[0;34m(\u001B[0m\u001B[0mindent\u001B[0m \u001B[0;34m+\u001B[0m \u001B[0mself\u001B[0m\u001B[0;34m.\u001B[0m\u001B[0mindent_delta\u001B[0m\u001B[0;34m)\u001B[0m\u001B[0;34m\u001B[0m\u001B[0;34m\u001B[0m\u001B[0m\n\u001B[0m\u001B[1;32m    234\u001B[0m \u001B[0;34m\u001B[0m\u001B[0m\n\u001B[1;32m    235\u001B[0m         \u001B[0mself\u001B[0m\u001B[0;34m.\u001B[0m\u001B[0mwrite\u001B[0m\u001B[0;34m(\u001B[0m\u001B[0;34m\"</table>\"\u001B[0m\u001B[0;34m,\u001B[0m \u001B[0mindent\u001B[0m\u001B[0;34m)\u001B[0m\u001B[0;34m\u001B[0m\u001B[0;34m\u001B[0m\u001B[0m\n",
      "\u001B[0;32m~/anaconda3/envs/python36/lib/python3.6/site-packages/pandas/io/formats/html.py\u001B[0m in \u001B[0;36m_write_body\u001B[0;34m(self, indent)\u001B[0m\n\u001B[1;32m    377\u001B[0m     \u001B[0;32mdef\u001B[0m \u001B[0m_write_body\u001B[0m\u001B[0;34m(\u001B[0m\u001B[0mself\u001B[0m\u001B[0;34m,\u001B[0m \u001B[0mindent\u001B[0m\u001B[0;34m:\u001B[0m \u001B[0mint\u001B[0m\u001B[0;34m)\u001B[0m \u001B[0;34m->\u001B[0m \u001B[0;32mNone\u001B[0m\u001B[0;34m:\u001B[0m\u001B[0;34m\u001B[0m\u001B[0;34m\u001B[0m\u001B[0m\n\u001B[1;32m    378\u001B[0m         \u001B[0mself\u001B[0m\u001B[0;34m.\u001B[0m\u001B[0mwrite\u001B[0m\u001B[0;34m(\u001B[0m\u001B[0;34m\"<tbody>\"\u001B[0m\u001B[0;34m,\u001B[0m \u001B[0mindent\u001B[0m\u001B[0;34m)\u001B[0m\u001B[0;34m\u001B[0m\u001B[0;34m\u001B[0m\u001B[0m\n\u001B[0;32m--> 379\u001B[0;31m         \u001B[0mfmt_values\u001B[0m \u001B[0;34m=\u001B[0m \u001B[0mself\u001B[0m\u001B[0;34m.\u001B[0m\u001B[0m_get_formatted_values\u001B[0m\u001B[0;34m(\u001B[0m\u001B[0;34m)\u001B[0m\u001B[0;34m\u001B[0m\u001B[0;34m\u001B[0m\u001B[0m\n\u001B[0m\u001B[1;32m    380\u001B[0m \u001B[0;34m\u001B[0m\u001B[0m\n\u001B[1;32m    381\u001B[0m         \u001B[0;31m# write values\u001B[0m\u001B[0;34m\u001B[0m\u001B[0;34m\u001B[0m\u001B[0;34m\u001B[0m\u001B[0m\n",
      "\u001B[0;32m~/anaconda3/envs/python36/lib/python3.6/site-packages/pandas/io/formats/html.py\u001B[0m in \u001B[0;36m_get_formatted_values\u001B[0;34m(self)\u001B[0m\n\u001B[1;32m    569\u001B[0m \u001B[0;34m\u001B[0m\u001B[0m\n\u001B[1;32m    570\u001B[0m     \u001B[0;32mdef\u001B[0m \u001B[0m_get_formatted_values\u001B[0m\u001B[0;34m(\u001B[0m\u001B[0mself\u001B[0m\u001B[0;34m)\u001B[0m \u001B[0;34m->\u001B[0m \u001B[0mDict\u001B[0m\u001B[0;34m[\u001B[0m\u001B[0mint\u001B[0m\u001B[0;34m,\u001B[0m \u001B[0mList\u001B[0m\u001B[0;34m[\u001B[0m\u001B[0mstr\u001B[0m\u001B[0;34m]\u001B[0m\u001B[0;34m]\u001B[0m\u001B[0;34m:\u001B[0m\u001B[0;34m\u001B[0m\u001B[0;34m\u001B[0m\u001B[0m\n\u001B[0;32m--> 571\u001B[0;31m         \u001B[0;32mreturn\u001B[0m \u001B[0;34m{\u001B[0m\u001B[0mi\u001B[0m\u001B[0;34m:\u001B[0m \u001B[0mself\u001B[0m\u001B[0;34m.\u001B[0m\u001B[0mfmt\u001B[0m\u001B[0;34m.\u001B[0m\u001B[0m_format_col\u001B[0m\u001B[0;34m(\u001B[0m\u001B[0mi\u001B[0m\u001B[0;34m)\u001B[0m \u001B[0;32mfor\u001B[0m \u001B[0mi\u001B[0m \u001B[0;32min\u001B[0m \u001B[0mrange\u001B[0m\u001B[0;34m(\u001B[0m\u001B[0mself\u001B[0m\u001B[0;34m.\u001B[0m\u001B[0mncols\u001B[0m\u001B[0;34m)\u001B[0m\u001B[0;34m}\u001B[0m\u001B[0;34m\u001B[0m\u001B[0;34m\u001B[0m\u001B[0m\n\u001B[0m\u001B[1;32m    572\u001B[0m \u001B[0;34m\u001B[0m\u001B[0m\n\u001B[1;32m    573\u001B[0m     \u001B[0;32mdef\u001B[0m \u001B[0m_get_columns_formatted_values\u001B[0m\u001B[0;34m(\u001B[0m\u001B[0mself\u001B[0m\u001B[0;34m)\u001B[0m \u001B[0;34m->\u001B[0m \u001B[0mList\u001B[0m\u001B[0;34m[\u001B[0m\u001B[0mstr\u001B[0m\u001B[0;34m]\u001B[0m\u001B[0;34m:\u001B[0m\u001B[0;34m\u001B[0m\u001B[0;34m\u001B[0m\u001B[0m\n",
      "\u001B[0;32m~/anaconda3/envs/python36/lib/python3.6/site-packages/pandas/io/formats/html.py\u001B[0m in \u001B[0;36m<dictcomp>\u001B[0;34m(.0)\u001B[0m\n\u001B[1;32m    569\u001B[0m \u001B[0;34m\u001B[0m\u001B[0m\n\u001B[1;32m    570\u001B[0m     \u001B[0;32mdef\u001B[0m \u001B[0m_get_formatted_values\u001B[0m\u001B[0;34m(\u001B[0m\u001B[0mself\u001B[0m\u001B[0;34m)\u001B[0m \u001B[0;34m->\u001B[0m \u001B[0mDict\u001B[0m\u001B[0;34m[\u001B[0m\u001B[0mint\u001B[0m\u001B[0;34m,\u001B[0m \u001B[0mList\u001B[0m\u001B[0;34m[\u001B[0m\u001B[0mstr\u001B[0m\u001B[0;34m]\u001B[0m\u001B[0;34m]\u001B[0m\u001B[0;34m:\u001B[0m\u001B[0;34m\u001B[0m\u001B[0;34m\u001B[0m\u001B[0m\n\u001B[0;32m--> 571\u001B[0;31m         \u001B[0;32mreturn\u001B[0m \u001B[0;34m{\u001B[0m\u001B[0mi\u001B[0m\u001B[0;34m:\u001B[0m \u001B[0mself\u001B[0m\u001B[0;34m.\u001B[0m\u001B[0mfmt\u001B[0m\u001B[0;34m.\u001B[0m\u001B[0m_format_col\u001B[0m\u001B[0;34m(\u001B[0m\u001B[0mi\u001B[0m\u001B[0;34m)\u001B[0m \u001B[0;32mfor\u001B[0m \u001B[0mi\u001B[0m \u001B[0;32min\u001B[0m \u001B[0mrange\u001B[0m\u001B[0;34m(\u001B[0m\u001B[0mself\u001B[0m\u001B[0;34m.\u001B[0m\u001B[0mncols\u001B[0m\u001B[0;34m)\u001B[0m\u001B[0;34m}\u001B[0m\u001B[0;34m\u001B[0m\u001B[0;34m\u001B[0m\u001B[0m\n\u001B[0m\u001B[1;32m    572\u001B[0m \u001B[0;34m\u001B[0m\u001B[0m\n\u001B[1;32m    573\u001B[0m     \u001B[0;32mdef\u001B[0m \u001B[0m_get_columns_formatted_values\u001B[0m\u001B[0;34m(\u001B[0m\u001B[0mself\u001B[0m\u001B[0;34m)\u001B[0m \u001B[0;34m->\u001B[0m \u001B[0mList\u001B[0m\u001B[0;34m[\u001B[0m\u001B[0mstr\u001B[0m\u001B[0;34m]\u001B[0m\u001B[0;34m:\u001B[0m\u001B[0;34m\u001B[0m\u001B[0;34m\u001B[0m\u001B[0m\n",
      "\u001B[0;32m~/anaconda3/envs/python36/lib/python3.6/site-packages/pandas/io/formats/format.py\u001B[0m in \u001B[0;36m_format_col\u001B[0;34m(self, i)\u001B[0m\n\u001B[1;32m    958\u001B[0m             \u001B[0mna_rep\u001B[0m\u001B[0;34m=\u001B[0m\u001B[0mself\u001B[0m\u001B[0;34m.\u001B[0m\u001B[0mna_rep\u001B[0m\u001B[0;34m,\u001B[0m\u001B[0;34m\u001B[0m\u001B[0;34m\u001B[0m\u001B[0m\n\u001B[1;32m    959\u001B[0m             \u001B[0mspace\u001B[0m\u001B[0;34m=\u001B[0m\u001B[0mself\u001B[0m\u001B[0;34m.\u001B[0m\u001B[0mcol_space\u001B[0m\u001B[0;34m.\u001B[0m\u001B[0mget\u001B[0m\u001B[0;34m(\u001B[0m\u001B[0mframe\u001B[0m\u001B[0;34m.\u001B[0m\u001B[0mcolumns\u001B[0m\u001B[0;34m[\u001B[0m\u001B[0mi\u001B[0m\u001B[0;34m]\u001B[0m\u001B[0;34m)\u001B[0m\u001B[0;34m,\u001B[0m\u001B[0;34m\u001B[0m\u001B[0;34m\u001B[0m\u001B[0m\n\u001B[0;32m--> 960\u001B[0;31m             \u001B[0mdecimal\u001B[0m\u001B[0;34m=\u001B[0m\u001B[0mself\u001B[0m\u001B[0;34m.\u001B[0m\u001B[0mdecimal\u001B[0m\u001B[0;34m,\u001B[0m\u001B[0;34m\u001B[0m\u001B[0;34m\u001B[0m\u001B[0m\n\u001B[0m\u001B[1;32m    961\u001B[0m         )\n\u001B[1;32m    962\u001B[0m \u001B[0;34m\u001B[0m\u001B[0m\n",
      "\u001B[0;32m~/anaconda3/envs/python36/lib/python3.6/site-packages/pandas/io/formats/format.py\u001B[0m in \u001B[0;36mformat_array\u001B[0;34m(values, formatter, float_format, na_rep, digits, space, justify, decimal, leading_space, quoting)\u001B[0m\n\u001B[1;32m   1177\u001B[0m     )\n\u001B[1;32m   1178\u001B[0m \u001B[0;34m\u001B[0m\u001B[0m\n\u001B[0;32m-> 1179\u001B[0;31m     \u001B[0;32mreturn\u001B[0m \u001B[0mfmt_obj\u001B[0m\u001B[0;34m.\u001B[0m\u001B[0mget_result\u001B[0m\u001B[0;34m(\u001B[0m\u001B[0;34m)\u001B[0m\u001B[0;34m\u001B[0m\u001B[0;34m\u001B[0m\u001B[0m\n\u001B[0m\u001B[1;32m   1180\u001B[0m \u001B[0;34m\u001B[0m\u001B[0m\n\u001B[1;32m   1181\u001B[0m \u001B[0;34m\u001B[0m\u001B[0m\n",
      "\u001B[0;32m~/anaconda3/envs/python36/lib/python3.6/site-packages/pandas/io/formats/format.py\u001B[0m in \u001B[0;36mget_result\u001B[0;34m(self)\u001B[0m\n\u001B[1;32m   1208\u001B[0m \u001B[0;34m\u001B[0m\u001B[0m\n\u001B[1;32m   1209\u001B[0m     \u001B[0;32mdef\u001B[0m \u001B[0mget_result\u001B[0m\u001B[0;34m(\u001B[0m\u001B[0mself\u001B[0m\u001B[0;34m)\u001B[0m \u001B[0;34m->\u001B[0m \u001B[0mList\u001B[0m\u001B[0;34m[\u001B[0m\u001B[0mstr\u001B[0m\u001B[0;34m]\u001B[0m\u001B[0;34m:\u001B[0m\u001B[0;34m\u001B[0m\u001B[0;34m\u001B[0m\u001B[0m\n\u001B[0;32m-> 1210\u001B[0;31m         \u001B[0mfmt_values\u001B[0m \u001B[0;34m=\u001B[0m \u001B[0mself\u001B[0m\u001B[0;34m.\u001B[0m\u001B[0m_format_strings\u001B[0m\u001B[0;34m(\u001B[0m\u001B[0;34m)\u001B[0m\u001B[0;34m\u001B[0m\u001B[0;34m\u001B[0m\u001B[0m\n\u001B[0m\u001B[1;32m   1211\u001B[0m         \u001B[0;32mreturn\u001B[0m \u001B[0m_make_fixed_width\u001B[0m\u001B[0;34m(\u001B[0m\u001B[0mfmt_values\u001B[0m\u001B[0;34m,\u001B[0m \u001B[0mself\u001B[0m\u001B[0;34m.\u001B[0m\u001B[0mjustify\u001B[0m\u001B[0;34m)\u001B[0m\u001B[0;34m\u001B[0m\u001B[0;34m\u001B[0m\u001B[0m\n\u001B[1;32m   1212\u001B[0m \u001B[0;34m\u001B[0m\u001B[0m\n",
      "\u001B[0;32m~/anaconda3/envs/python36/lib/python3.6/site-packages/pandas/io/formats/format.py\u001B[0m in \u001B[0;36m_format_strings\u001B[0;34m(self)\u001B[0m\n\u001B[1;32m   1275\u001B[0m                 \u001B[0;32melse\u001B[0m\u001B[0;34m:\u001B[0m\u001B[0;34m\u001B[0m\u001B[0;34m\u001B[0m\u001B[0m\n\u001B[1;32m   1276\u001B[0m                     \u001B[0mtpl\u001B[0m \u001B[0;34m=\u001B[0m \u001B[0;34m\" {v}\"\u001B[0m\u001B[0;34m\u001B[0m\u001B[0;34m\u001B[0m\u001B[0m\n\u001B[0;32m-> 1277\u001B[0;31m                 \u001B[0mfmt_values\u001B[0m\u001B[0;34m.\u001B[0m\u001B[0mappend\u001B[0m\u001B[0;34m(\u001B[0m\u001B[0mtpl\u001B[0m\u001B[0;34m.\u001B[0m\u001B[0mformat\u001B[0m\u001B[0;34m(\u001B[0m\u001B[0mv\u001B[0m\u001B[0;34m=\u001B[0m\u001B[0m_format\u001B[0m\u001B[0;34m(\u001B[0m\u001B[0mv\u001B[0m\u001B[0;34m)\u001B[0m\u001B[0;34m)\u001B[0m\u001B[0;34m)\u001B[0m\u001B[0;34m\u001B[0m\u001B[0;34m\u001B[0m\u001B[0m\n\u001B[0m\u001B[1;32m   1278\u001B[0m \u001B[0;34m\u001B[0m\u001B[0m\n\u001B[1;32m   1279\u001B[0m         \u001B[0;32mreturn\u001B[0m \u001B[0mfmt_values\u001B[0m\u001B[0;34m\u001B[0m\u001B[0;34m\u001B[0m\u001B[0m\n",
      "\u001B[0;32m~/anaconda3/envs/python36/lib/python3.6/site-packages/pandas/io/formats/format.py\u001B[0m in \u001B[0;36m_format\u001B[0;34m(x)\u001B[0m\n\u001B[1;32m   1249\u001B[0m             \u001B[0;32melse\u001B[0m\u001B[0;34m:\u001B[0m\u001B[0;34m\u001B[0m\u001B[0;34m\u001B[0m\u001B[0m\n\u001B[1;32m   1250\u001B[0m                 \u001B[0;31m# object dtype\u001B[0m\u001B[0;34m\u001B[0m\u001B[0;34m\u001B[0m\u001B[0;34m\u001B[0m\u001B[0m\n\u001B[0;32m-> 1251\u001B[0;31m                 \u001B[0;32mreturn\u001B[0m \u001B[0mstr\u001B[0m\u001B[0;34m(\u001B[0m\u001B[0mformatter\u001B[0m\u001B[0;34m(\u001B[0m\u001B[0mx\u001B[0m\u001B[0;34m)\u001B[0m\u001B[0;34m)\u001B[0m\u001B[0;34m\u001B[0m\u001B[0;34m\u001B[0m\u001B[0m\n\u001B[0m\u001B[1;32m   1252\u001B[0m \u001B[0;34m\u001B[0m\u001B[0m\n\u001B[1;32m   1253\u001B[0m         \u001B[0mvals\u001B[0m \u001B[0;34m=\u001B[0m \u001B[0mextract_array\u001B[0m\u001B[0;34m(\u001B[0m\u001B[0mself\u001B[0m\u001B[0;34m.\u001B[0m\u001B[0mvalues\u001B[0m\u001B[0;34m,\u001B[0m \u001B[0mextract_numpy\u001B[0m\u001B[0;34m=\u001B[0m\u001B[0;32mTrue\u001B[0m\u001B[0;34m)\u001B[0m\u001B[0;34m\u001B[0m\u001B[0;34m\u001B[0m\u001B[0m\n",
      "\u001B[0;32m~/anaconda3/envs/python36/lib/python3.6/site-packages/pandas/io/formats/printing.py\u001B[0m in \u001B[0;36mpprint_thing\u001B[0;34m(thing, _nest_lvl, escape_chars, default_escapes, quote_strings, max_seq_items)\u001B[0m\n\u001B[1;32m    232\u001B[0m         \u001B[0mresult\u001B[0m \u001B[0;34m=\u001B[0m \u001B[0;34mf\"'{as_escaped_string(thing)}'\"\u001B[0m\u001B[0;34m\u001B[0m\u001B[0;34m\u001B[0m\u001B[0m\n\u001B[1;32m    233\u001B[0m     \u001B[0;32melse\u001B[0m\u001B[0;34m:\u001B[0m\u001B[0;34m\u001B[0m\u001B[0;34m\u001B[0m\u001B[0m\n\u001B[0;32m--> 234\u001B[0;31m         \u001B[0mresult\u001B[0m \u001B[0;34m=\u001B[0m \u001B[0mas_escaped_string\u001B[0m\u001B[0;34m(\u001B[0m\u001B[0mthing\u001B[0m\u001B[0;34m)\u001B[0m\u001B[0;34m\u001B[0m\u001B[0;34m\u001B[0m\u001B[0m\n\u001B[0m\u001B[1;32m    235\u001B[0m \u001B[0;34m\u001B[0m\u001B[0m\n\u001B[1;32m    236\u001B[0m     \u001B[0;32mreturn\u001B[0m \u001B[0mresult\u001B[0m\u001B[0;34m\u001B[0m\u001B[0;34m\u001B[0m\u001B[0m\n",
      "\u001B[0;32m~/anaconda3/envs/python36/lib/python3.6/site-packages/pandas/io/formats/printing.py\u001B[0m in \u001B[0;36mas_escaped_string\u001B[0;34m(thing, escape_chars)\u001B[0m\n\u001B[1;32m    208\u001B[0m             \u001B[0mescape_chars\u001B[0m \u001B[0;34m=\u001B[0m \u001B[0mescape_chars\u001B[0m \u001B[0;32mor\u001B[0m \u001B[0mtuple\u001B[0m\u001B[0;34m(\u001B[0m\u001B[0;34m)\u001B[0m\u001B[0;34m\u001B[0m\u001B[0;34m\u001B[0m\u001B[0m\n\u001B[1;32m    209\u001B[0m \u001B[0;34m\u001B[0m\u001B[0m\n\u001B[0;32m--> 210\u001B[0;31m         \u001B[0mresult\u001B[0m \u001B[0;34m=\u001B[0m \u001B[0mstr\u001B[0m\u001B[0;34m(\u001B[0m\u001B[0mthing\u001B[0m\u001B[0;34m)\u001B[0m\u001B[0;34m\u001B[0m\u001B[0;34m\u001B[0m\u001B[0m\n\u001B[0m\u001B[1;32m    211\u001B[0m         \u001B[0;32mfor\u001B[0m \u001B[0mc\u001B[0m \u001B[0;32min\u001B[0m \u001B[0mescape_chars\u001B[0m\u001B[0;34m:\u001B[0m\u001B[0;34m\u001B[0m\u001B[0;34m\u001B[0m\u001B[0m\n\u001B[1;32m    212\u001B[0m             \u001B[0mresult\u001B[0m \u001B[0;34m=\u001B[0m \u001B[0mresult\u001B[0m\u001B[0;34m.\u001B[0m\u001B[0mreplace\u001B[0m\u001B[0;34m(\u001B[0m\u001B[0mc\u001B[0m\u001B[0;34m,\u001B[0m \u001B[0mtranslate\u001B[0m\u001B[0;34m[\u001B[0m\u001B[0mc\u001B[0m\u001B[0;34m]\u001B[0m\u001B[0;34m)\u001B[0m\u001B[0;34m\u001B[0m\u001B[0;34m\u001B[0m\u001B[0m\n",
      "\u001B[0;32m~/anaconda3/envs/python36/lib/python3.6/site-packages/pandas/core/series.py\u001B[0m in \u001B[0;36m__repr__\u001B[0;34m(self)\u001B[0m\n\u001B[1;32m   1332\u001B[0m             \u001B[0mmin_rows\u001B[0m\u001B[0;34m=\u001B[0m\u001B[0mmin_rows\u001B[0m\u001B[0;34m,\u001B[0m\u001B[0;34m\u001B[0m\u001B[0;34m\u001B[0m\u001B[0m\n\u001B[1;32m   1333\u001B[0m             \u001B[0mmax_rows\u001B[0m\u001B[0;34m=\u001B[0m\u001B[0mmax_rows\u001B[0m\u001B[0;34m,\u001B[0m\u001B[0;34m\u001B[0m\u001B[0;34m\u001B[0m\u001B[0m\n\u001B[0;32m-> 1334\u001B[0;31m             \u001B[0mlength\u001B[0m\u001B[0;34m=\u001B[0m\u001B[0mshow_dimensions\u001B[0m\u001B[0;34m,\u001B[0m\u001B[0;34m\u001B[0m\u001B[0;34m\u001B[0m\u001B[0m\n\u001B[0m\u001B[1;32m   1335\u001B[0m         )\n\u001B[1;32m   1336\u001B[0m         \u001B[0mresult\u001B[0m \u001B[0;34m=\u001B[0m \u001B[0mbuf\u001B[0m\u001B[0;34m.\u001B[0m\u001B[0mgetvalue\u001B[0m\u001B[0;34m(\u001B[0m\u001B[0;34m)\u001B[0m\u001B[0;34m\u001B[0m\u001B[0;34m\u001B[0m\u001B[0m\n",
      "\u001B[0;32m~/anaconda3/envs/python36/lib/python3.6/site-packages/pandas/core/series.py\u001B[0m in \u001B[0;36mto_string\u001B[0;34m(self, buf, na_rep, float_format, header, index, length, dtype, name, max_rows, min_rows)\u001B[0m\n\u001B[1;32m   1397\u001B[0m             \u001B[0mmax_rows\u001B[0m\u001B[0;34m=\u001B[0m\u001B[0mmax_rows\u001B[0m\u001B[0;34m,\u001B[0m\u001B[0;34m\u001B[0m\u001B[0;34m\u001B[0m\u001B[0m\n\u001B[1;32m   1398\u001B[0m         )\n\u001B[0;32m-> 1399\u001B[0;31m         \u001B[0mresult\u001B[0m \u001B[0;34m=\u001B[0m \u001B[0mformatter\u001B[0m\u001B[0;34m.\u001B[0m\u001B[0mto_string\u001B[0m\u001B[0;34m(\u001B[0m\u001B[0;34m)\u001B[0m\u001B[0;34m\u001B[0m\u001B[0;34m\u001B[0m\u001B[0m\n\u001B[0m\u001B[1;32m   1400\u001B[0m \u001B[0;34m\u001B[0m\u001B[0m\n\u001B[1;32m   1401\u001B[0m         \u001B[0;31m# catch contract violations\u001B[0m\u001B[0;34m\u001B[0m\u001B[0;34m\u001B[0m\u001B[0;34m\u001B[0m\u001B[0m\n",
      "\u001B[0;32m~/anaconda3/envs/python36/lib/python3.6/site-packages/pandas/io/formats/format.py\u001B[0m in \u001B[0;36mto_string\u001B[0;34m(self)\u001B[0m\n\u001B[1;32m    356\u001B[0m \u001B[0;34m\u001B[0m\u001B[0m\n\u001B[1;32m    357\u001B[0m         \u001B[0mfmt_index\u001B[0m\u001B[0;34m,\u001B[0m \u001B[0mhave_header\u001B[0m \u001B[0;34m=\u001B[0m \u001B[0mself\u001B[0m\u001B[0;34m.\u001B[0m\u001B[0m_get_formatted_index\u001B[0m\u001B[0;34m(\u001B[0m\u001B[0;34m)\u001B[0m\u001B[0;34m\u001B[0m\u001B[0;34m\u001B[0m\u001B[0m\n\u001B[0;32m--> 358\u001B[0;31m         \u001B[0mfmt_values\u001B[0m \u001B[0;34m=\u001B[0m \u001B[0mself\u001B[0m\u001B[0;34m.\u001B[0m\u001B[0m_get_formatted_values\u001B[0m\u001B[0;34m(\u001B[0m\u001B[0;34m)\u001B[0m\u001B[0;34m\u001B[0m\u001B[0;34m\u001B[0m\u001B[0m\n\u001B[0m\u001B[1;32m    359\u001B[0m \u001B[0;34m\u001B[0m\u001B[0m\n\u001B[1;32m    360\u001B[0m         \u001B[0;32mif\u001B[0m \u001B[0mself\u001B[0m\u001B[0;34m.\u001B[0m\u001B[0mtruncate_v\u001B[0m\u001B[0;34m:\u001B[0m\u001B[0;34m\u001B[0m\u001B[0;34m\u001B[0m\u001B[0m\n",
      "\u001B[0;32m~/anaconda3/envs/python36/lib/python3.6/site-packages/pandas/io/formats/format.py\u001B[0m in \u001B[0;36m_get_formatted_values\u001B[0;34m(self)\u001B[0m\n\u001B[1;32m    345\u001B[0m             \u001B[0;32mNone\u001B[0m\u001B[0;34m,\u001B[0m\u001B[0;34m\u001B[0m\u001B[0;34m\u001B[0m\u001B[0m\n\u001B[1;32m    346\u001B[0m             \u001B[0mfloat_format\u001B[0m\u001B[0;34m=\u001B[0m\u001B[0mself\u001B[0m\u001B[0;34m.\u001B[0m\u001B[0mfloat_format\u001B[0m\u001B[0;34m,\u001B[0m\u001B[0;34m\u001B[0m\u001B[0;34m\u001B[0m\u001B[0m\n\u001B[0;32m--> 347\u001B[0;31m             \u001B[0mna_rep\u001B[0m\u001B[0;34m=\u001B[0m\u001B[0mself\u001B[0m\u001B[0;34m.\u001B[0m\u001B[0mna_rep\u001B[0m\u001B[0;34m,\u001B[0m\u001B[0;34m\u001B[0m\u001B[0;34m\u001B[0m\u001B[0m\n\u001B[0m\u001B[1;32m    348\u001B[0m         )\n\u001B[1;32m    349\u001B[0m \u001B[0;34m\u001B[0m\u001B[0m\n",
      "... last 10 frames repeated, from the frame below ...\n",
      "\u001B[0;32m~/anaconda3/envs/python36/lib/python3.6/site-packages/pandas/io/formats/format.py\u001B[0m in \u001B[0;36mformat_array\u001B[0;34m(values, formatter, float_format, na_rep, digits, space, justify, decimal, leading_space, quoting)\u001B[0m\n\u001B[1;32m   1177\u001B[0m     )\n\u001B[1;32m   1178\u001B[0m \u001B[0;34m\u001B[0m\u001B[0m\n\u001B[0;32m-> 1179\u001B[0;31m     \u001B[0;32mreturn\u001B[0m \u001B[0mfmt_obj\u001B[0m\u001B[0;34m.\u001B[0m\u001B[0mget_result\u001B[0m\u001B[0;34m(\u001B[0m\u001B[0;34m)\u001B[0m\u001B[0;34m\u001B[0m\u001B[0;34m\u001B[0m\u001B[0m\n\u001B[0m\u001B[1;32m   1180\u001B[0m \u001B[0;34m\u001B[0m\u001B[0m\n\u001B[1;32m   1181\u001B[0m \u001B[0;34m\u001B[0m\u001B[0m\n",
      "\u001B[0;31mRecursionError\u001B[0m: maximum recursion depth exceeded while calling a Python object"
     ]
    }
   ],
   "source": [
    "print(\"特征维度：\", tickets.shape[1])\n",
    "print(\"数据大小：\", tickets.shape[0])\n",
    "print(tickets.info())\n",
    "tickets.iloc[18:21, 10:12]"
   ],
   "metadata": {
    "collapsed": false,
    "pycharm": {
     "name": "#%%\n"
    }
   }
  },
  {
   "cell_type": "markdown",
   "source": [
    "可以发现所有字段都不存在null类型的值，但这不代表数据都是完整的，可能存在空字符串，下面对空字符串进行处理"
   ],
   "metadata": {
    "collapsed": false,
    "pycharm": {
     "name": "#%% md\n"
    }
   }
  },
  {
   "cell_type": "code",
   "execution_count": 128,
   "outputs": [
    {
     "name": "stdout",
     "output_type": "stream",
     "text": [
      "<class 'pandas.core.frame.DataFrame'>\n",
      "Int64Index: 9097 entries, 0 to 9999\n",
      "Data columns (total 21 columns):\n",
      " #   Column              Non-Null Count  Dtype         \n",
      "---  ------              --------------  -----         \n",
      " 0   craft_1             9097 non-null   object        \n",
      " 1   plane_name_1        9097 non-null   object        \n",
      " 2   company_1           9097 non-null   object        \n",
      " 3   arrival_airport     9097 non-null   object        \n",
      " 4   arrival_terminal    9097 non-null   object        \n",
      " 5   arrival_time        9097 non-null   object        \n",
      " 6   cross_day           9097 non-null   object        \n",
      " 7   departure_time      9097 non-null   object        \n",
      " 8   departure_airport   9097 non-null   object        \n",
      " 9   departure_terminal  9097 non-null   object        \n",
      " 10  departure_week      9097 non-null   object        \n",
      " 11  in_time             9097 non-null   object        \n",
      " 12  craft_size          9097 non-null   object        \n",
      " 13  meat                9097 non-null   object        \n",
      " 14  flyman              9097 non-null   object        \n",
      " 15  economy_price       9097 non-null   float64       \n",
      " 16  busniess_price      9097 non-null   float64       \n",
      " 17  total_time          9097 non-null   object        \n",
      " 18  departure_city      9097 non-null   object        \n",
      " 19  arrival_city        9097 non-null   object        \n",
      " 20  create_time         9097 non-null   datetime64[ns]\n",
      "dtypes: datetime64[ns](1), float64(2), object(18)\n",
      "memory usage: 1.8+ MB\n"
     ]
    }
   ],
   "source": [
    "tickets.replace(to_replace=\"^\\s*$\", regex=True, value=np.nan, inplace=True)\n",
    "tickets.info()"
   ],
   "metadata": {
    "collapsed": false,
    "pycharm": {
     "name": "#%%\n"
    }
   }
  },
  {
   "cell_type": "markdown",
   "source": [
    "1. craft_2、plane_name_2、company_2、transit、transit_time代表中转的航班，大多为空值。--->暂时直接删除行，后期可能单独对这类航班进行分析\n",
    "2. in_time为准点率，有第三方提供，所以可能没有。--->缺省的以均值填充\n",
    "3. craft_1、craft_size、meat部分官方没有提供数据，所以也存在少量空值。--->craft_1行删除、craft_size列删除或者以众数填充、meat空值以不提供填充\n",
    "\n",
    "下面对缺失值处理："
   ],
   "metadata": {
    "collapsed": false,
    "pycharm": {
     "name": "#%% md\n"
    }
   }
  },
  {
   "cell_type": "code",
   "execution_count": 95,
   "outputs": [],
   "source": [
    "# tickets_t = tickets.copy(deep=True)"
   ],
   "metadata": {
    "collapsed": false,
    "pycharm": {
     "name": "#%%\n"
    }
   }
  },
  {
   "cell_type": "code",
   "execution_count": 96,
   "outputs": [
    {
     "name": "stdout",
     "output_type": "stream",
     "text": [
      "<class 'pandas.core.frame.DataFrame'>\n",
      "Int64Index: 9097 entries, 0 to 9999\n",
      "Data columns (total 22 columns):\n",
      " #   Column              Non-Null Count  Dtype         \n",
      "---  ------              --------------  -----         \n",
      " 0   id                  9097 non-null   int64         \n",
      " 1   craft_1             9097 non-null   object        \n",
      " 2   plane_name_1        9097 non-null   object        \n",
      " 3   company_1           9097 non-null   object        \n",
      " 4   arrival_airport     9097 non-null   object        \n",
      " 5   arrival_terminal    9097 non-null   object        \n",
      " 6   arrival_time        9097 non-null   object        \n",
      " 7   cross_day           9097 non-null   object        \n",
      " 8   departure_time      9097 non-null   object        \n",
      " 9   departure_airport   9097 non-null   object        \n",
      " 10  departure_terminal  9097 non-null   object        \n",
      " 11  departure_week      9097 non-null   object        \n",
      " 12  in_time             9097 non-null   object        \n",
      " 13  craft_size          9097 non-null   object        \n",
      " 14  meat                9097 non-null   object        \n",
      " 15  flyman              9097 non-null   object        \n",
      " 16  economy_price       9097 non-null   float64       \n",
      " 17  busniess_price      9097 non-null   float64       \n",
      " 18  total_time          9097 non-null   object        \n",
      " 19  departure_city      9097 non-null   object        \n",
      " 20  arrival_city        9097 non-null   object        \n",
      " 21  create_time         9097 non-null   datetime64[ns]\n",
      "dtypes: datetime64[ns](1), float64(2), int64(1), object(18)\n",
      "memory usage: 1.6+ MB\n"
     ]
    }
   ],
   "source": [
    "tickets = tickets[tickets[['craft_2', 'plane_name_2', 'company_2', 'transit', 'transit_time']].isna().sum(1)==5]\n",
    "tickets['in_time'].fillna(value=tickets.in_time.mean, inplace=True)\n",
    "tickets.dropna(subset=['craft_1'], inplace=True)\n",
    "tickets.craft_size.fillna(value=tickets.craft_size.mode(), inplace=True)\n",
    "tickets.meat.fillna(\"无餐食\", inplace=True)\n",
    "tickets.dropna(axis=1, inplace=True)\n",
    "tickets.info()"
   ],
   "metadata": {
    "collapsed": false,
    "pycharm": {
     "name": "#%%\n"
    }
   }
  },
  {
   "cell_type": "markdown",
   "source": [
    "删除一些无用数据"
   ],
   "metadata": {
    "collapsed": false,
    "pycharm": {
     "name": "#%% md\n"
    }
   }
  },
  {
   "cell_type": "code",
   "execution_count": 97,
   "outputs": [],
   "source": [
    "del tickets['id']"
   ],
   "metadata": {
    "collapsed": false,
    "pycharm": {
     "name": "#%%\n"
    }
   }
  },
  {
   "cell_type": "markdown",
   "source": [
    "异常值处理（箱型图+3sigma法则）"
   ],
   "metadata": {
    "collapsed": false,
    "pycharm": {
     "name": "#%% md\n"
    }
   }
  },
  {
   "cell_type": "code",
   "execution_count": 114,
   "outputs": [
    {
     "name": "stdout",
     "output_type": "stream",
     "text": [
      "error: 19 "
     ]
    },
    {
     "ename": "RecursionError",
     "evalue": "maximum recursion depth exceeded",
     "output_type": "error",
     "traceback": [
      "\u001B[0;31m---------------------------------------------------------------------------\u001B[0m",
      "\u001B[0;31mTypeError\u001B[0m                                 Traceback (most recent call last)",
      "\u001B[0;32m<ipython-input-114-81f2a1c999e8>\u001B[0m in \u001B[0;36mto_int\u001B[0;34m(s)\u001B[0m\n\u001B[1;32m     28\u001B[0m         \u001B[0mt\u001B[0m \u001B[0;34m+=\u001B[0m \u001B[0;36m1\u001B[0m\u001B[0;34m\u001B[0m\u001B[0;34m\u001B[0m\u001B[0m\n\u001B[0;32m---> 29\u001B[0;31m         \u001B[0;32mreturn\u001B[0m \u001B[0mint\u001B[0m\u001B[0;34m(\u001B[0m\u001B[0ms\u001B[0m\u001B[0;34m)\u001B[0m\u001B[0;34m\u001B[0m\u001B[0;34m\u001B[0m\u001B[0m\n\u001B[0m\u001B[1;32m     30\u001B[0m     \u001B[0;32mexcept\u001B[0m\u001B[0;34m:\u001B[0m\u001B[0;34m\u001B[0m\u001B[0;34m\u001B[0m\u001B[0m\n",
      "\u001B[0;31mTypeError\u001B[0m: int() argument must be a string, a bytes-like object or a number, not 'method'",
      "\nDuring handling of the above exception, another exception occurred:\n",
      "\u001B[0;31mRecursionError\u001B[0m                            Traceback (most recent call last)",
      "\u001B[0;32m<ipython-input-114-81f2a1c999e8>\u001B[0m in \u001B[0;36m<module>\u001B[0;34m\u001B[0m\n\u001B[1;32m     33\u001B[0m \u001B[0;34m\u001B[0m\u001B[0m\n\u001B[1;32m     34\u001B[0m \u001B[0;31m# tickets.total_time = tickets.total_time.apply(time2num)\u001B[0m\u001B[0;34m\u001B[0m\u001B[0;34m\u001B[0m\u001B[0;34m\u001B[0m\u001B[0m\n\u001B[0;32m---> 35\u001B[0;31m \u001B[0mtickets\u001B[0m\u001B[0;34m.\u001B[0m\u001B[0min_time\u001B[0m\u001B[0;34m.\u001B[0m\u001B[0mapply\u001B[0m\u001B[0;34m(\u001B[0m\u001B[0mto_int\u001B[0m\u001B[0;34m)\u001B[0m\u001B[0;34m.\u001B[0m\u001B[0mhead\u001B[0m\u001B[0;34m(\u001B[0m\u001B[0;34m)\u001B[0m\u001B[0;34m\u001B[0m\u001B[0;34m\u001B[0m\u001B[0m\n\u001B[0m\u001B[1;32m     36\u001B[0m \u001B[0;31m# plt.figure()\u001B[0m\u001B[0;34m\u001B[0m\u001B[0;34m\u001B[0m\u001B[0;34m\u001B[0m\u001B[0m\n\u001B[1;32m     37\u001B[0m \u001B[0;31m# tickets.boxplot()\u001B[0m\u001B[0;34m\u001B[0m\u001B[0;34m\u001B[0m\u001B[0;34m\u001B[0m\u001B[0m\n",
      "\u001B[0;32m~/anaconda3/envs/python36/lib/python3.6/site-packages/pandas/core/series.py\u001B[0m in \u001B[0;36mapply\u001B[0;34m(self, func, convert_dtype, args, **kwds)\u001B[0m\n\u001B[1;32m   4211\u001B[0m             \u001B[0;32melse\u001B[0m\u001B[0;34m:\u001B[0m\u001B[0;34m\u001B[0m\u001B[0;34m\u001B[0m\u001B[0m\n\u001B[1;32m   4212\u001B[0m                 \u001B[0mvalues\u001B[0m \u001B[0;34m=\u001B[0m \u001B[0mself\u001B[0m\u001B[0;34m.\u001B[0m\u001B[0mastype\u001B[0m\u001B[0;34m(\u001B[0m\u001B[0mobject\u001B[0m\u001B[0;34m)\u001B[0m\u001B[0;34m.\u001B[0m\u001B[0m_values\u001B[0m\u001B[0;34m\u001B[0m\u001B[0;34m\u001B[0m\u001B[0m\n\u001B[0;32m-> 4213\u001B[0;31m                 \u001B[0mmapped\u001B[0m \u001B[0;34m=\u001B[0m \u001B[0mlib\u001B[0m\u001B[0;34m.\u001B[0m\u001B[0mmap_infer\u001B[0m\u001B[0;34m(\u001B[0m\u001B[0mvalues\u001B[0m\u001B[0;34m,\u001B[0m \u001B[0mf\u001B[0m\u001B[0;34m,\u001B[0m \u001B[0mconvert\u001B[0m\u001B[0;34m=\u001B[0m\u001B[0mconvert_dtype\u001B[0m\u001B[0;34m)\u001B[0m\u001B[0;34m\u001B[0m\u001B[0;34m\u001B[0m\u001B[0m\n\u001B[0m\u001B[1;32m   4214\u001B[0m \u001B[0;34m\u001B[0m\u001B[0m\n\u001B[1;32m   4215\u001B[0m         \u001B[0;32mif\u001B[0m \u001B[0mlen\u001B[0m\u001B[0;34m(\u001B[0m\u001B[0mmapped\u001B[0m\u001B[0;34m)\u001B[0m \u001B[0;32mand\u001B[0m \u001B[0misinstance\u001B[0m\u001B[0;34m(\u001B[0m\u001B[0mmapped\u001B[0m\u001B[0;34m[\u001B[0m\u001B[0;36m0\u001B[0m\u001B[0;34m]\u001B[0m\u001B[0;34m,\u001B[0m \u001B[0mSeries\u001B[0m\u001B[0;34m)\u001B[0m\u001B[0;34m:\u001B[0m\u001B[0;34m\u001B[0m\u001B[0;34m\u001B[0m\u001B[0m\n",
      "\u001B[0;32mpandas/_libs/lib.pyx\u001B[0m in \u001B[0;36mpandas._libs.lib.map_infer\u001B[0;34m()\u001B[0m\n",
      "\u001B[0;32m<ipython-input-114-81f2a1c999e8>\u001B[0m in \u001B[0;36mto_int\u001B[0;34m(s)\u001B[0m\n\u001B[1;32m     29\u001B[0m         \u001B[0;32mreturn\u001B[0m \u001B[0mint\u001B[0m\u001B[0;34m(\u001B[0m\u001B[0ms\u001B[0m\u001B[0;34m)\u001B[0m\u001B[0;34m\u001B[0m\u001B[0;34m\u001B[0m\u001B[0m\n\u001B[1;32m     30\u001B[0m     \u001B[0;32mexcept\u001B[0m\u001B[0;34m:\u001B[0m\u001B[0;34m\u001B[0m\u001B[0;34m\u001B[0m\u001B[0m\n\u001B[0;32m---> 31\u001B[0;31m         \u001B[0mprint\u001B[0m\u001B[0;34m(\u001B[0m\u001B[0;34m\"error:\"\u001B[0m\u001B[0;34m,\u001B[0m \u001B[0mt\u001B[0m\u001B[0;34m,\u001B[0m \u001B[0ms\u001B[0m\u001B[0;34m)\u001B[0m\u001B[0;34m\u001B[0m\u001B[0;34m\u001B[0m\u001B[0m\n\u001B[0m\u001B[1;32m     32\u001B[0m \u001B[0;34m\u001B[0m\u001B[0m\n\u001B[1;32m     33\u001B[0m \u001B[0;34m\u001B[0m\u001B[0m\n",
      "\u001B[0;32m~/anaconda3/envs/python36/lib/python3.6/site-packages/pandas/core/series.py\u001B[0m in \u001B[0;36m__repr__\u001B[0;34m(self)\u001B[0m\n\u001B[1;32m   1332\u001B[0m             \u001B[0mmin_rows\u001B[0m\u001B[0;34m=\u001B[0m\u001B[0mmin_rows\u001B[0m\u001B[0;34m,\u001B[0m\u001B[0;34m\u001B[0m\u001B[0;34m\u001B[0m\u001B[0m\n\u001B[1;32m   1333\u001B[0m             \u001B[0mmax_rows\u001B[0m\u001B[0;34m=\u001B[0m\u001B[0mmax_rows\u001B[0m\u001B[0;34m,\u001B[0m\u001B[0;34m\u001B[0m\u001B[0;34m\u001B[0m\u001B[0m\n\u001B[0;32m-> 1334\u001B[0;31m             \u001B[0mlength\u001B[0m\u001B[0;34m=\u001B[0m\u001B[0mshow_dimensions\u001B[0m\u001B[0;34m,\u001B[0m\u001B[0;34m\u001B[0m\u001B[0;34m\u001B[0m\u001B[0m\n\u001B[0m\u001B[1;32m   1335\u001B[0m         )\n\u001B[1;32m   1336\u001B[0m         \u001B[0mresult\u001B[0m \u001B[0;34m=\u001B[0m \u001B[0mbuf\u001B[0m\u001B[0;34m.\u001B[0m\u001B[0mgetvalue\u001B[0m\u001B[0;34m(\u001B[0m\u001B[0;34m)\u001B[0m\u001B[0;34m\u001B[0m\u001B[0;34m\u001B[0m\u001B[0m\n",
      "\u001B[0;32m~/anaconda3/envs/python36/lib/python3.6/site-packages/pandas/core/series.py\u001B[0m in \u001B[0;36mto_string\u001B[0;34m(self, buf, na_rep, float_format, header, index, length, dtype, name, max_rows, min_rows)\u001B[0m\n\u001B[1;32m   1397\u001B[0m             \u001B[0mmax_rows\u001B[0m\u001B[0;34m=\u001B[0m\u001B[0mmax_rows\u001B[0m\u001B[0;34m,\u001B[0m\u001B[0;34m\u001B[0m\u001B[0;34m\u001B[0m\u001B[0m\n\u001B[1;32m   1398\u001B[0m         )\n\u001B[0;32m-> 1399\u001B[0;31m         \u001B[0mresult\u001B[0m \u001B[0;34m=\u001B[0m \u001B[0mformatter\u001B[0m\u001B[0;34m.\u001B[0m\u001B[0mto_string\u001B[0m\u001B[0;34m(\u001B[0m\u001B[0;34m)\u001B[0m\u001B[0;34m\u001B[0m\u001B[0;34m\u001B[0m\u001B[0m\n\u001B[0m\u001B[1;32m   1400\u001B[0m \u001B[0;34m\u001B[0m\u001B[0m\n\u001B[1;32m   1401\u001B[0m         \u001B[0;31m# catch contract violations\u001B[0m\u001B[0;34m\u001B[0m\u001B[0;34m\u001B[0m\u001B[0;34m\u001B[0m\u001B[0m\n",
      "\u001B[0;32m~/anaconda3/envs/python36/lib/python3.6/site-packages/pandas/io/formats/format.py\u001B[0m in \u001B[0;36mto_string\u001B[0;34m(self)\u001B[0m\n\u001B[1;32m    356\u001B[0m \u001B[0;34m\u001B[0m\u001B[0m\n\u001B[1;32m    357\u001B[0m         \u001B[0mfmt_index\u001B[0m\u001B[0;34m,\u001B[0m \u001B[0mhave_header\u001B[0m \u001B[0;34m=\u001B[0m \u001B[0mself\u001B[0m\u001B[0;34m.\u001B[0m\u001B[0m_get_formatted_index\u001B[0m\u001B[0;34m(\u001B[0m\u001B[0;34m)\u001B[0m\u001B[0;34m\u001B[0m\u001B[0;34m\u001B[0m\u001B[0m\n\u001B[0;32m--> 358\u001B[0;31m         \u001B[0mfmt_values\u001B[0m \u001B[0;34m=\u001B[0m \u001B[0mself\u001B[0m\u001B[0;34m.\u001B[0m\u001B[0m_get_formatted_values\u001B[0m\u001B[0;34m(\u001B[0m\u001B[0;34m)\u001B[0m\u001B[0;34m\u001B[0m\u001B[0;34m\u001B[0m\u001B[0m\n\u001B[0m\u001B[1;32m    359\u001B[0m \u001B[0;34m\u001B[0m\u001B[0m\n\u001B[1;32m    360\u001B[0m         \u001B[0;32mif\u001B[0m \u001B[0mself\u001B[0m\u001B[0;34m.\u001B[0m\u001B[0mtruncate_v\u001B[0m\u001B[0;34m:\u001B[0m\u001B[0;34m\u001B[0m\u001B[0;34m\u001B[0m\u001B[0m\n",
      "\u001B[0;32m~/anaconda3/envs/python36/lib/python3.6/site-packages/pandas/io/formats/format.py\u001B[0m in \u001B[0;36m_get_formatted_values\u001B[0;34m(self)\u001B[0m\n\u001B[1;32m    345\u001B[0m             \u001B[0;32mNone\u001B[0m\u001B[0;34m,\u001B[0m\u001B[0;34m\u001B[0m\u001B[0;34m\u001B[0m\u001B[0m\n\u001B[1;32m    346\u001B[0m             \u001B[0mfloat_format\u001B[0m\u001B[0;34m=\u001B[0m\u001B[0mself\u001B[0m\u001B[0;34m.\u001B[0m\u001B[0mfloat_format\u001B[0m\u001B[0;34m,\u001B[0m\u001B[0;34m\u001B[0m\u001B[0;34m\u001B[0m\u001B[0m\n\u001B[0;32m--> 347\u001B[0;31m             \u001B[0mna_rep\u001B[0m\u001B[0;34m=\u001B[0m\u001B[0mself\u001B[0m\u001B[0;34m.\u001B[0m\u001B[0mna_rep\u001B[0m\u001B[0;34m,\u001B[0m\u001B[0;34m\u001B[0m\u001B[0;34m\u001B[0m\u001B[0m\n\u001B[0m\u001B[1;32m    348\u001B[0m         )\n\u001B[1;32m    349\u001B[0m \u001B[0;34m\u001B[0m\u001B[0m\n",
      "\u001B[0;32m~/anaconda3/envs/python36/lib/python3.6/site-packages/pandas/io/formats/format.py\u001B[0m in \u001B[0;36mformat_array\u001B[0;34m(values, formatter, float_format, na_rep, digits, space, justify, decimal, leading_space, quoting)\u001B[0m\n\u001B[1;32m   1177\u001B[0m     )\n\u001B[1;32m   1178\u001B[0m \u001B[0;34m\u001B[0m\u001B[0m\n\u001B[0;32m-> 1179\u001B[0;31m     \u001B[0;32mreturn\u001B[0m \u001B[0mfmt_obj\u001B[0m\u001B[0;34m.\u001B[0m\u001B[0mget_result\u001B[0m\u001B[0;34m(\u001B[0m\u001B[0;34m)\u001B[0m\u001B[0;34m\u001B[0m\u001B[0;34m\u001B[0m\u001B[0m\n\u001B[0m\u001B[1;32m   1180\u001B[0m \u001B[0;34m\u001B[0m\u001B[0m\n\u001B[1;32m   1181\u001B[0m \u001B[0;34m\u001B[0m\u001B[0m\n",
      "\u001B[0;32m~/anaconda3/envs/python36/lib/python3.6/site-packages/pandas/io/formats/format.py\u001B[0m in \u001B[0;36mget_result\u001B[0;34m(self)\u001B[0m\n\u001B[1;32m   1208\u001B[0m \u001B[0;34m\u001B[0m\u001B[0m\n\u001B[1;32m   1209\u001B[0m     \u001B[0;32mdef\u001B[0m \u001B[0mget_result\u001B[0m\u001B[0;34m(\u001B[0m\u001B[0mself\u001B[0m\u001B[0;34m)\u001B[0m \u001B[0;34m->\u001B[0m \u001B[0mList\u001B[0m\u001B[0;34m[\u001B[0m\u001B[0mstr\u001B[0m\u001B[0;34m]\u001B[0m\u001B[0;34m:\u001B[0m\u001B[0;34m\u001B[0m\u001B[0;34m\u001B[0m\u001B[0m\n\u001B[0;32m-> 1210\u001B[0;31m         \u001B[0mfmt_values\u001B[0m \u001B[0;34m=\u001B[0m \u001B[0mself\u001B[0m\u001B[0;34m.\u001B[0m\u001B[0m_format_strings\u001B[0m\u001B[0;34m(\u001B[0m\u001B[0;34m)\u001B[0m\u001B[0;34m\u001B[0m\u001B[0;34m\u001B[0m\u001B[0m\n\u001B[0m\u001B[1;32m   1211\u001B[0m         \u001B[0;32mreturn\u001B[0m \u001B[0m_make_fixed_width\u001B[0m\u001B[0;34m(\u001B[0m\u001B[0mfmt_values\u001B[0m\u001B[0;34m,\u001B[0m \u001B[0mself\u001B[0m\u001B[0;34m.\u001B[0m\u001B[0mjustify\u001B[0m\u001B[0;34m)\u001B[0m\u001B[0;34m\u001B[0m\u001B[0;34m\u001B[0m\u001B[0m\n\u001B[1;32m   1212\u001B[0m \u001B[0;34m\u001B[0m\u001B[0m\n",
      "\u001B[0;32m~/anaconda3/envs/python36/lib/python3.6/site-packages/pandas/io/formats/format.py\u001B[0m in \u001B[0;36m_format_strings\u001B[0;34m(self)\u001B[0m\n\u001B[1;32m   1275\u001B[0m                 \u001B[0;32melse\u001B[0m\u001B[0;34m:\u001B[0m\u001B[0;34m\u001B[0m\u001B[0;34m\u001B[0m\u001B[0m\n\u001B[1;32m   1276\u001B[0m                     \u001B[0mtpl\u001B[0m \u001B[0;34m=\u001B[0m \u001B[0;34m\" {v}\"\u001B[0m\u001B[0;34m\u001B[0m\u001B[0;34m\u001B[0m\u001B[0m\n\u001B[0;32m-> 1277\u001B[0;31m                 \u001B[0mfmt_values\u001B[0m\u001B[0;34m.\u001B[0m\u001B[0mappend\u001B[0m\u001B[0;34m(\u001B[0m\u001B[0mtpl\u001B[0m\u001B[0;34m.\u001B[0m\u001B[0mformat\u001B[0m\u001B[0;34m(\u001B[0m\u001B[0mv\u001B[0m\u001B[0;34m=\u001B[0m\u001B[0m_format\u001B[0m\u001B[0;34m(\u001B[0m\u001B[0mv\u001B[0m\u001B[0;34m)\u001B[0m\u001B[0;34m)\u001B[0m\u001B[0;34m)\u001B[0m\u001B[0;34m\u001B[0m\u001B[0;34m\u001B[0m\u001B[0m\n\u001B[0m\u001B[1;32m   1278\u001B[0m \u001B[0;34m\u001B[0m\u001B[0m\n\u001B[1;32m   1279\u001B[0m         \u001B[0;32mreturn\u001B[0m \u001B[0mfmt_values\u001B[0m\u001B[0;34m\u001B[0m\u001B[0;34m\u001B[0m\u001B[0m\n",
      "\u001B[0;32m~/anaconda3/envs/python36/lib/python3.6/site-packages/pandas/io/formats/format.py\u001B[0m in \u001B[0;36m_format\u001B[0;34m(x)\u001B[0m\n\u001B[1;32m   1249\u001B[0m             \u001B[0;32melse\u001B[0m\u001B[0;34m:\u001B[0m\u001B[0;34m\u001B[0m\u001B[0;34m\u001B[0m\u001B[0m\n\u001B[1;32m   1250\u001B[0m                 \u001B[0;31m# object dtype\u001B[0m\u001B[0;34m\u001B[0m\u001B[0;34m\u001B[0m\u001B[0;34m\u001B[0m\u001B[0m\n\u001B[0;32m-> 1251\u001B[0;31m                 \u001B[0;32mreturn\u001B[0m \u001B[0mstr\u001B[0m\u001B[0;34m(\u001B[0m\u001B[0mformatter\u001B[0m\u001B[0;34m(\u001B[0m\u001B[0mx\u001B[0m\u001B[0;34m)\u001B[0m\u001B[0;34m)\u001B[0m\u001B[0;34m\u001B[0m\u001B[0;34m\u001B[0m\u001B[0m\n\u001B[0m\u001B[1;32m   1252\u001B[0m \u001B[0;34m\u001B[0m\u001B[0m\n\u001B[1;32m   1253\u001B[0m         \u001B[0mvals\u001B[0m \u001B[0;34m=\u001B[0m \u001B[0mextract_array\u001B[0m\u001B[0;34m(\u001B[0m\u001B[0mself\u001B[0m\u001B[0;34m.\u001B[0m\u001B[0mvalues\u001B[0m\u001B[0;34m,\u001B[0m \u001B[0mextract_numpy\u001B[0m\u001B[0;34m=\u001B[0m\u001B[0;32mTrue\u001B[0m\u001B[0;34m)\u001B[0m\u001B[0;34m\u001B[0m\u001B[0;34m\u001B[0m\u001B[0m\n",
      "\u001B[0;32m~/anaconda3/envs/python36/lib/python3.6/site-packages/pandas/io/formats/printing.py\u001B[0m in \u001B[0;36mpprint_thing\u001B[0;34m(thing, _nest_lvl, escape_chars, default_escapes, quote_strings, max_seq_items)\u001B[0m\n\u001B[1;32m    232\u001B[0m         \u001B[0mresult\u001B[0m \u001B[0;34m=\u001B[0m \u001B[0;34mf\"'{as_escaped_string(thing)}'\"\u001B[0m\u001B[0;34m\u001B[0m\u001B[0;34m\u001B[0m\u001B[0m\n\u001B[1;32m    233\u001B[0m     \u001B[0;32melse\u001B[0m\u001B[0;34m:\u001B[0m\u001B[0;34m\u001B[0m\u001B[0;34m\u001B[0m\u001B[0m\n\u001B[0;32m--> 234\u001B[0;31m         \u001B[0mresult\u001B[0m \u001B[0;34m=\u001B[0m \u001B[0mas_escaped_string\u001B[0m\u001B[0;34m(\u001B[0m\u001B[0mthing\u001B[0m\u001B[0;34m)\u001B[0m\u001B[0;34m\u001B[0m\u001B[0;34m\u001B[0m\u001B[0m\n\u001B[0m\u001B[1;32m    235\u001B[0m \u001B[0;34m\u001B[0m\u001B[0m\n\u001B[1;32m    236\u001B[0m     \u001B[0;32mreturn\u001B[0m \u001B[0mresult\u001B[0m\u001B[0;34m\u001B[0m\u001B[0;34m\u001B[0m\u001B[0m\n",
      "\u001B[0;32m~/anaconda3/envs/python36/lib/python3.6/site-packages/pandas/io/formats/printing.py\u001B[0m in \u001B[0;36mas_escaped_string\u001B[0;34m(thing, escape_chars)\u001B[0m\n\u001B[1;32m    208\u001B[0m             \u001B[0mescape_chars\u001B[0m \u001B[0;34m=\u001B[0m \u001B[0mescape_chars\u001B[0m \u001B[0;32mor\u001B[0m \u001B[0mtuple\u001B[0m\u001B[0;34m(\u001B[0m\u001B[0;34m)\u001B[0m\u001B[0;34m\u001B[0m\u001B[0;34m\u001B[0m\u001B[0m\n\u001B[1;32m    209\u001B[0m \u001B[0;34m\u001B[0m\u001B[0m\n\u001B[0;32m--> 210\u001B[0;31m         \u001B[0mresult\u001B[0m \u001B[0;34m=\u001B[0m \u001B[0mstr\u001B[0m\u001B[0;34m(\u001B[0m\u001B[0mthing\u001B[0m\u001B[0;34m)\u001B[0m\u001B[0;34m\u001B[0m\u001B[0;34m\u001B[0m\u001B[0m\n\u001B[0m\u001B[1;32m    211\u001B[0m         \u001B[0;32mfor\u001B[0m \u001B[0mc\u001B[0m \u001B[0;32min\u001B[0m \u001B[0mescape_chars\u001B[0m\u001B[0;34m:\u001B[0m\u001B[0;34m\u001B[0m\u001B[0;34m\u001B[0m\u001B[0m\n\u001B[1;32m    212\u001B[0m             \u001B[0mresult\u001B[0m \u001B[0;34m=\u001B[0m \u001B[0mresult\u001B[0m\u001B[0;34m.\u001B[0m\u001B[0mreplace\u001B[0m\u001B[0;34m(\u001B[0m\u001B[0mc\u001B[0m\u001B[0;34m,\u001B[0m \u001B[0mtranslate\u001B[0m\u001B[0;34m[\u001B[0m\u001B[0mc\u001B[0m\u001B[0;34m]\u001B[0m\u001B[0;34m)\u001B[0m\u001B[0;34m\u001B[0m\u001B[0;34m\u001B[0m\u001B[0m\n",
      "... last 10 frames repeated, from the frame below ...\n",
      "\u001B[0;32m~/anaconda3/envs/python36/lib/python3.6/site-packages/pandas/core/series.py\u001B[0m in \u001B[0;36m__repr__\u001B[0;34m(self)\u001B[0m\n\u001B[1;32m   1332\u001B[0m             \u001B[0mmin_rows\u001B[0m\u001B[0;34m=\u001B[0m\u001B[0mmin_rows\u001B[0m\u001B[0;34m,\u001B[0m\u001B[0;34m\u001B[0m\u001B[0;34m\u001B[0m\u001B[0m\n\u001B[1;32m   1333\u001B[0m             \u001B[0mmax_rows\u001B[0m\u001B[0;34m=\u001B[0m\u001B[0mmax_rows\u001B[0m\u001B[0;34m,\u001B[0m\u001B[0;34m\u001B[0m\u001B[0;34m\u001B[0m\u001B[0m\n\u001B[0;32m-> 1334\u001B[0;31m             \u001B[0mlength\u001B[0m\u001B[0;34m=\u001B[0m\u001B[0mshow_dimensions\u001B[0m\u001B[0;34m,\u001B[0m\u001B[0;34m\u001B[0m\u001B[0;34m\u001B[0m\u001B[0m\n\u001B[0m\u001B[1;32m   1335\u001B[0m         )\n\u001B[1;32m   1336\u001B[0m         \u001B[0mresult\u001B[0m \u001B[0;34m=\u001B[0m \u001B[0mbuf\u001B[0m\u001B[0;34m.\u001B[0m\u001B[0mgetvalue\u001B[0m\u001B[0;34m(\u001B[0m\u001B[0;34m)\u001B[0m\u001B[0;34m\u001B[0m\u001B[0;34m\u001B[0m\u001B[0m\n",
      "\u001B[0;31mRecursionError\u001B[0m: maximum recursion depth exceeded"
     ]
    }
   ],
   "source": [
    "import matplotlib.pyplot as plt\n",
    "\n",
    "# 先要将一些数据转化为number类型\n",
    "def time2num(total_time):\n",
    "    try:\n",
    "        if 'm' in total_time and 'h' in total_time:\n",
    "            hour, minute = total_time.split(\"h\")\n",
    "            hour = int(hour)\n",
    "            minute = int(minute.split(\"m\")[0])\n",
    "        elif 'm' in total_time:\n",
    "            hour = 0\n",
    "            minute = int(total_time.strip('m'))\n",
    "        elif 'h' in total_time:\n",
    "            minute = 0\n",
    "            hour = int(total_time.strip('h'))\n",
    "        else:\n",
    "            minute = 0\n",
    "            hour = 0\n",
    "            print(f\"error:{total_time}\")\n",
    "        return minute + hour*60\n",
    "    except Exception as e:\n",
    "        print(e, total_time)\n",
    "\n",
    "t = 0\n",
    "def to_int(s):\n",
    "    global t\n",
    "    try:\n",
    "        t += 1\n",
    "        return int(s)\n",
    "    except:\n",
    "        print(\"error:\", t, s)\n",
    "\n",
    "\n",
    "# tickets.total_time = tickets.total_time.apply(time2num)\n",
    "tickets.in_time.apply(to_int).head()\n",
    "# plt.figure()\n",
    "# tickets.boxplot()\n",
    "# plt.show()\n"
   ],
   "metadata": {
    "collapsed": false,
    "pycharm": {
     "name": "#%%\n"
    }
   }
  },
  {
   "cell_type": "code",
   "execution_count": 118,
   "outputs": [
    {
     "data": {
      "text/plain": "Series([], Name: in_time, dtype: object)"
     },
     "execution_count": 118,
     "metadata": {},
     "output_type": "execute_result"
    }
   ],
   "source": [
    "tickets.loc[18:19, 'in_time']"
   ],
   "metadata": {
    "collapsed": false,
    "pycharm": {
     "name": "#%%\n"
    }
   }
  },
  {
   "cell_type": "markdown",
   "source": [
    "先查看一下数据大致情况"
   ],
   "metadata": {
    "collapsed": false,
    "pycharm": {
     "name": "#%% md\n"
    }
   }
  },
  {
   "cell_type": "code",
   "execution_count": 100,
   "outputs": [
    {
     "data": {
      "text/plain": "       economy_price  busniess_price\ncount    9097.000000     9097.000000\nmean     1144.478839     2326.490162\nstd       494.213746     2368.069411\nmin         0.000000        0.000000\n25%       797.000000        0.000000\n50%      1046.000000     1709.000000\n75%      1490.000000     3240.000000\nmax      3100.000000    15840.000000",
      "text/html": "<div>\n<style scoped>\n    .dataframe tbody tr th:only-of-type {\n        vertical-align: middle;\n    }\n\n    .dataframe tbody tr th {\n        vertical-align: top;\n    }\n\n    .dataframe thead th {\n        text-align: right;\n    }\n</style>\n<table border=\"1\" class=\"dataframe\">\n  <thead>\n    <tr style=\"text-align: right;\">\n      <th></th>\n      <th>economy_price</th>\n      <th>busniess_price</th>\n    </tr>\n  </thead>\n  <tbody>\n    <tr>\n      <th>count</th>\n      <td>9097.000000</td>\n      <td>9097.000000</td>\n    </tr>\n    <tr>\n      <th>mean</th>\n      <td>1144.478839</td>\n      <td>2326.490162</td>\n    </tr>\n    <tr>\n      <th>std</th>\n      <td>494.213746</td>\n      <td>2368.069411</td>\n    </tr>\n    <tr>\n      <th>min</th>\n      <td>0.000000</td>\n      <td>0.000000</td>\n    </tr>\n    <tr>\n      <th>25%</th>\n      <td>797.000000</td>\n      <td>0.000000</td>\n    </tr>\n    <tr>\n      <th>50%</th>\n      <td>1046.000000</td>\n      <td>1709.000000</td>\n    </tr>\n    <tr>\n      <th>75%</th>\n      <td>1490.000000</td>\n      <td>3240.000000</td>\n    </tr>\n    <tr>\n      <th>max</th>\n      <td>3100.000000</td>\n      <td>15840.000000</td>\n    </tr>\n  </tbody>\n</table>\n</div>"
     },
     "execution_count": 100,
     "metadata": {},
     "output_type": "execute_result"
    }
   ],
   "source": [
    "tickets.describe(include=np.number)"
   ],
   "metadata": {
    "collapsed": false,
    "pycharm": {
     "name": "#%%\n"
    }
   }
  },
  {
   "cell_type": "markdown",
   "source": [
    "对数值类型进行统计，可以看到：\n",
    "1. 经济舱的票价均值为1144\n",
    "2. 最小值存在0,应"
   ],
   "metadata": {
    "collapsed": false,
    "pycharm": {
     "name": "#%% md\n"
    }
   }
  },
  {
   "cell_type": "code",
   "execution_count": 101,
   "outputs": [
    {
     "data": {
      "text/plain": "         craft_1 plane_name_1 company_1 arrival_airport arrival_terminal  \\\ncount       9097         9097      9097            9097             9097   \nunique        58          899        26              19               26   \ntop     波音738(中)     东航MU5505      东方航空            宝安机场             宝安T3   \nfreq        1813           24      2419            1320             1320   \n\n               arrival_time cross_day       departure_time departure_airport  \\\ncount                  9097      9097                 9097              9097   \nunique                 2176         2                 2204                 2   \ntop     2022-08-01 19:00:00         0  2022-08-03 11:25:00              虹桥机场   \nfreq                     18      8527                   12              5551   \n\n       departure_terminal departure_week in_time craft_size  meat flyman  \\\ncount                9097           9097    9097       9097  9097   9097   \nunique                  4              7       7          3     3      1   \ntop                  虹桥T2             周三     100        中机型   有小食      0   \nfreq                 4683           1633    3755       7204  3497   9097   \n\n       total_time departure_city arrival_city  \ncount        9097           9097         9097  \nunique         43              1           17  \ntop         2h30m             上海           深圳  \nfreq         1001           9097         1320  ",
      "text/html": "<div>\n<style scoped>\n    .dataframe tbody tr th:only-of-type {\n        vertical-align: middle;\n    }\n\n    .dataframe tbody tr th {\n        vertical-align: top;\n    }\n\n    .dataframe thead th {\n        text-align: right;\n    }\n</style>\n<table border=\"1\" class=\"dataframe\">\n  <thead>\n    <tr style=\"text-align: right;\">\n      <th></th>\n      <th>craft_1</th>\n      <th>plane_name_1</th>\n      <th>company_1</th>\n      <th>arrival_airport</th>\n      <th>arrival_terminal</th>\n      <th>arrival_time</th>\n      <th>cross_day</th>\n      <th>departure_time</th>\n      <th>departure_airport</th>\n      <th>departure_terminal</th>\n      <th>departure_week</th>\n      <th>in_time</th>\n      <th>craft_size</th>\n      <th>meat</th>\n      <th>flyman</th>\n      <th>total_time</th>\n      <th>departure_city</th>\n      <th>arrival_city</th>\n    </tr>\n  </thead>\n  <tbody>\n    <tr>\n      <th>count</th>\n      <td>9097</td>\n      <td>9097</td>\n      <td>9097</td>\n      <td>9097</td>\n      <td>9097</td>\n      <td>9097</td>\n      <td>9097</td>\n      <td>9097</td>\n      <td>9097</td>\n      <td>9097</td>\n      <td>9097</td>\n      <td>9097</td>\n      <td>9097</td>\n      <td>9097</td>\n      <td>9097</td>\n      <td>9097</td>\n      <td>9097</td>\n      <td>9097</td>\n    </tr>\n    <tr>\n      <th>unique</th>\n      <td>58</td>\n      <td>899</td>\n      <td>26</td>\n      <td>19</td>\n      <td>26</td>\n      <td>2176</td>\n      <td>2</td>\n      <td>2204</td>\n      <td>2</td>\n      <td>4</td>\n      <td>7</td>\n      <td>7</td>\n      <td>3</td>\n      <td>3</td>\n      <td>1</td>\n      <td>43</td>\n      <td>1</td>\n      <td>17</td>\n    </tr>\n    <tr>\n      <th>top</th>\n      <td>波音738(中)</td>\n      <td>东航MU5505</td>\n      <td>东方航空</td>\n      <td>宝安机场</td>\n      <td>宝安T3</td>\n      <td>2022-08-01 19:00:00</td>\n      <td>0</td>\n      <td>2022-08-03 11:25:00</td>\n      <td>虹桥机场</td>\n      <td>虹桥T2</td>\n      <td>周三</td>\n      <td>100</td>\n      <td>中机型</td>\n      <td>有小食</td>\n      <td>0</td>\n      <td>2h30m</td>\n      <td>上海</td>\n      <td>深圳</td>\n    </tr>\n    <tr>\n      <th>freq</th>\n      <td>1813</td>\n      <td>24</td>\n      <td>2419</td>\n      <td>1320</td>\n      <td>1320</td>\n      <td>18</td>\n      <td>8527</td>\n      <td>12</td>\n      <td>5551</td>\n      <td>4683</td>\n      <td>1633</td>\n      <td>3755</td>\n      <td>7204</td>\n      <td>3497</td>\n      <td>9097</td>\n      <td>1001</td>\n      <td>9097</td>\n      <td>1320</td>\n    </tr>\n  </tbody>\n</table>\n</div>"
     },
     "execution_count": 101,
     "metadata": {},
     "output_type": "execute_result"
    }
   ],
   "source": [
    "tickets.describe(include=np.object)"
   ],
   "metadata": {
    "collapsed": false,
    "pycharm": {
     "name": "#%%\n"
    }
   }
  },
  {
   "cell_type": "code",
   "execution_count": 101,
   "outputs": [],
   "source": [],
   "metadata": {
    "collapsed": false,
    "pycharm": {
     "name": "#%%\n"
    }
   }
  },
  {
   "cell_type": "markdown",
   "source": [],
   "metadata": {
    "collapsed": false,
    "pycharm": {
     "name": "#%% md\n"
    }
   }
  }
 ],
 "metadata": {
  "kernelspec": {
   "display_name": "Python 3",
   "language": "python",
   "name": "python3"
  },
  "language_info": {
   "codemirror_mode": {
    "name": "ipython",
    "version": 2
   },
   "file_extension": ".py",
   "mimetype": "text/x-python",
   "name": "python",
   "nbconvert_exporter": "python",
   "pygments_lexer": "ipython2",
   "version": "2.7.6"
  }
 },
 "nbformat": 4,
 "nbformat_minor": 0
}