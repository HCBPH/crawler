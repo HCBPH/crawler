{
 "cells": [
  {
   "cell_type": "code",
   "execution_count": 436,
   "outputs": [],
   "source": [
    "import pymysql\n",
    "import numpy as np\n",
    "import pandas as pd\n",
    "\n",
    "connection = pymysql.connect(host='1.117.74.41',\n",
    "                             user='xiecheng',\n",
    "                             password='xiecheng',\n",
    "                             database='xiecheng',\n",
    "                             cursorclass=pymysql.cursors.DictCursor)\n",
    "\n",
    "with connection:\n",
    "    with connection.cursor() as cursor:\n",
    "        sql = \"SELECT * FROM  `xiecheng_ticket` order by id desc\"\n",
    "\n",
    "        data = pd.read_sql(sql, connection)"
   ],
   "metadata": {
    "collapsed": false,
    "pycharm": {
     "name": "#%%\n"
    }
   }
  },
  {
   "cell_type": "code",
   "execution_count": 444,
   "outputs": [],
   "source": [
    "tickets = data.copy(deep=True)"
   ],
   "metadata": {
    "collapsed": false,
    "pycharm": {
     "name": "#%%\n"
    }
   }
  },
  {
   "cell_type": "markdown",
   "source": [
    "# 数据预处理"
   ],
   "metadata": {
    "collapsed": false,
    "pycharm": {
     "name": "#%% md\n"
    }
   }
  },
  {
   "cell_type": "code",
   "execution_count": 445,
   "outputs": [
    {
     "name": "stdout",
     "output_type": "stream",
     "text": [
      "特征维度： 27\n",
      "数据大小： 115059\n",
      "<class 'pandas.core.frame.DataFrame'>\n",
      "RangeIndex: 115059 entries, 0 to 115058\n",
      "Data columns (total 27 columns):\n",
      " #   Column              Non-Null Count   Dtype         \n",
      "---  ------              --------------   -----         \n",
      " 0   id                  115059 non-null  int64         \n",
      " 1   craft_1             115059 non-null  object        \n",
      " 2   plane_name_1        115059 non-null  object        \n",
      " 3   company_1           115059 non-null  object        \n",
      " 4   craft_2             115059 non-null  object        \n",
      " 5   plane_name_2        115059 non-null  object        \n",
      " 6   company_2           115059 non-null  object        \n",
      " 7   arrival_airport     115059 non-null  object        \n",
      " 8   arrival_terminal    115059 non-null  object        \n",
      " 9   arrival_time        115059 non-null  object        \n",
      " 10  cross_day           115059 non-null  object        \n",
      " 11  departure_time      115059 non-null  object        \n",
      " 12  departure_airport   115059 non-null  object        \n",
      " 13  departure_terminal  115059 non-null  object        \n",
      " 14  departure_week      115059 non-null  object        \n",
      " 15  in_time             115059 non-null  object        \n",
      " 16  craft_size          115059 non-null  object        \n",
      " 17  meat                115059 non-null  object        \n",
      " 18  flyman              115059 non-null  object        \n",
      " 19  economy_price       115059 non-null  float64       \n",
      " 20  busniess_price      115059 non-null  float64       \n",
      " 21  total_time          115059 non-null  object        \n",
      " 22  transit             115059 non-null  object        \n",
      " 23  transit_time        115059 non-null  object        \n",
      " 24  departure_city      115059 non-null  object        \n",
      " 25  arrival_city        115059 non-null  object        \n",
      " 26  create_time         115059 non-null  datetime64[ns]\n",
      "dtypes: datetime64[ns](1), float64(2), int64(1), object(23)\n",
      "memory usage: 23.7+ MB\n",
      "None\n"
     ]
    },
    {
     "data": {
      "text/plain": "   cross_day       departure_time departure_airport departure_terminal  \\\n18         0  2022-08-04 12:20:00              浦东机场               浦东T1   \n19         0  2022-08-04 13:20:00              虹桥机场               虹桥T2   \n\n   departure_week in_time craft_size meat flyman  economy_price  \\\n18             周四     100        中机型           0         1350.0   \n19             周四      97        中机型           0         1656.0   \n\n    busniess_price total_time transit transit_time departure_city  \\\n18             0.0      7h35m      昆明        1h20m             上海   \n19          4432.0         7h      西安        2h35m             上海   \n\n   arrival_city         create_time  \n18           济南 2022-07-06 10:27:37  \n19           济南 2022-07-06 10:27:37  ",
      "text/html": "<div>\n<style scoped>\n    .dataframe tbody tr th:only-of-type {\n        vertical-align: middle;\n    }\n\n    .dataframe tbody tr th {\n        vertical-align: top;\n    }\n\n    .dataframe thead th {\n        text-align: right;\n    }\n</style>\n<table border=\"1\" class=\"dataframe\">\n  <thead>\n    <tr style=\"text-align: right;\">\n      <th></th>\n      <th>cross_day</th>\n      <th>departure_time</th>\n      <th>departure_airport</th>\n      <th>departure_terminal</th>\n      <th>departure_week</th>\n      <th>in_time</th>\n      <th>craft_size</th>\n      <th>meat</th>\n      <th>flyman</th>\n      <th>economy_price</th>\n      <th>busniess_price</th>\n      <th>total_time</th>\n      <th>transit</th>\n      <th>transit_time</th>\n      <th>departure_city</th>\n      <th>arrival_city</th>\n      <th>create_time</th>\n    </tr>\n  </thead>\n  <tbody>\n    <tr>\n      <th>18</th>\n      <td>0</td>\n      <td>2022-08-04 12:20:00</td>\n      <td>浦东机场</td>\n      <td>浦东T1</td>\n      <td>周四</td>\n      <td>100</td>\n      <td>中机型</td>\n      <td></td>\n      <td>0</td>\n      <td>1350.0</td>\n      <td>0.0</td>\n      <td>7h35m</td>\n      <td>昆明</td>\n      <td>1h20m</td>\n      <td>上海</td>\n      <td>济南</td>\n      <td>2022-07-06 10:27:37</td>\n    </tr>\n    <tr>\n      <th>19</th>\n      <td>0</td>\n      <td>2022-08-04 13:20:00</td>\n      <td>虹桥机场</td>\n      <td>虹桥T2</td>\n      <td>周四</td>\n      <td>97</td>\n      <td>中机型</td>\n      <td></td>\n      <td>0</td>\n      <td>1656.0</td>\n      <td>4432.0</td>\n      <td>7h</td>\n      <td>西安</td>\n      <td>2h35m</td>\n      <td>上海</td>\n      <td>济南</td>\n      <td>2022-07-06 10:27:37</td>\n    </tr>\n  </tbody>\n</table>\n</div>"
     },
     "execution_count": 445,
     "metadata": {},
     "output_type": "execute_result"
    }
   ],
   "source": [
    "print(\"特征维度：\", tickets.shape[1])\n",
    "print(\"数据大小：\", tickets.shape[0])\n",
    "print(tickets.info())\n",
    "\n",
    "import sys\n",
    "tickets.iloc[18:20, 10:]"
   ],
   "metadata": {
    "collapsed": false,
    "pycharm": {
     "name": "#%%\n"
    }
   }
  },
  {
   "cell_type": "markdown",
   "source": [
    "可以发现所有字段都不存在null类型的值，但这不代表数据都是完整的，可能存在空字符串，下面对空字符串进行处理"
   ],
   "metadata": {
    "collapsed": false,
    "pycharm": {
     "name": "#%% md\n"
    }
   }
  },
  {
   "cell_type": "code",
   "execution_count": 446,
   "outputs": [
    {
     "name": "stdout",
     "output_type": "stream",
     "text": [
      "<class 'pandas.core.frame.DataFrame'>\n",
      "RangeIndex: 115059 entries, 0 to 115058\n",
      "Data columns (total 27 columns):\n",
      " #   Column              Non-Null Count   Dtype         \n",
      "---  ------              --------------   -----         \n",
      " 0   id                  115059 non-null  int64         \n",
      " 1   craft_1             114956 non-null  object        \n",
      " 2   plane_name_1        115059 non-null  object        \n",
      " 3   company_1           115059 non-null  object        \n",
      " 4   craft_2             11515 non-null   object        \n",
      " 5   plane_name_2        11524 non-null   object        \n",
      " 6   company_2           11524 non-null   object        \n",
      " 7   arrival_airport     115059 non-null  object        \n",
      " 8   arrival_terminal    115059 non-null  object        \n",
      " 9   arrival_time        115059 non-null  object        \n",
      " 10  cross_day           115059 non-null  object        \n",
      " 11  departure_time      115059 non-null  object        \n",
      " 12  departure_airport   115059 non-null  object        \n",
      " 13  departure_terminal  115059 non-null  object        \n",
      " 14  departure_week      115059 non-null  object        \n",
      " 15  in_time             76149 non-null   object        \n",
      " 16  craft_size          113479 non-null  object        \n",
      " 17  meat                77461 non-null   object        \n",
      " 18  flyman              115059 non-null  object        \n",
      " 19  economy_price       115059 non-null  float64       \n",
      " 20  busniess_price      115059 non-null  float64       \n",
      " 21  total_time          115059 non-null  object        \n",
      " 22  transit             11524 non-null   object        \n",
      " 23  transit_time        11524 non-null   object        \n",
      " 24  departure_city      115059 non-null  object        \n",
      " 25  arrival_city        115059 non-null  object        \n",
      " 26  create_time         115059 non-null  datetime64[ns]\n",
      "dtypes: datetime64[ns](1), float64(2), int64(1), object(23)\n",
      "memory usage: 23.7+ MB\n"
     ]
    }
   ],
   "source": [
    "tickets.replace(to_replace=\"^\\s*$\", regex=True, value=np.nan, inplace=True)\n",
    "tickets.info()\n",
    "# tickets.head(30)"
   ],
   "metadata": {
    "collapsed": false,
    "pycharm": {
     "name": "#%%\n"
    }
   }
  },
  {
   "cell_type": "markdown",
   "source": [
    "1. craft_2、plane_name_2、company_2、transit、transit_time代表中转的航班，大多为空值。--->暂时直接删除行，后期可能单独对这类航班进行分析\n",
    "2. in_time为准点率，有第三方提供，所以可能没有。--->缺省的以均值填充\n",
    "3. craft_1、craft_size、meat部分官方没有提供数据，所以也存在少量空值。--->craft_1行删除、craft_size列删除或者以众数填充、meat空值以不提供填充\n",
    "\n",
    "下面对缺失值处理："
   ],
   "metadata": {
    "collapsed": false,
    "pycharm": {
     "name": "#%% md\n"
    }
   }
  },
  {
   "cell_type": "code",
   "execution_count": 447,
   "outputs": [
    {
     "data": {
      "text/plain": "0    100.0\n1    100.0\n2     97.0\n3     97.0\n4    100.0\nName: in_time, dtype: float64"
     },
     "execution_count": 447,
     "metadata": {},
     "output_type": "execute_result"
    }
   ],
   "source": [
    "# 先要将一些数据转化为number类型,下面计算需要用到数值类型\n",
    "def time2num(total_time):\n",
    "    try:\n",
    "        if 'm' in total_time and 'h' in total_time:\n",
    "            hour, minute = total_time.split(\"h\")\n",
    "            hour = int(hour)\n",
    "            minute = int(minute.split(\"m\")[0])\n",
    "        elif 'm' in total_time:\n",
    "            hour = 0\n",
    "            minute = int(total_time.strip('m'))\n",
    "        elif 'h' in total_time:\n",
    "            minute = 0\n",
    "            hour = int(total_time.strip('h'))\n",
    "        else:\n",
    "            minute = 0\n",
    "            hour = 0\n",
    "            print(f\"error:{total_time}\")\n",
    "        return minute + hour*60\n",
    "    except Exception as e:\n",
    "        print(e, total_time)\n",
    "\n",
    "def to_int(s):\n",
    "    global t\n",
    "    try:\n",
    "        if not isinstance(s, str):\n",
    "            return s\n",
    "        return int(float(s))\n",
    "    except:\n",
    "        print(\"error:\", s)\n",
    "\n",
    "\n",
    "tickets.total_time = tickets.total_time.apply(time2num)\n",
    "tickets.in_time = tickets.in_time.apply(to_int)\n",
    "tickets.departure_week = tickets.departure_week.map({\n",
    "    \"周一\":1,\n",
    "    \"周二\":2,\n",
    "    \"周三\":3,\n",
    "    \"周四\":4,\n",
    "    \"周五\":5,\n",
    "    \"周六\":6,\n",
    "    \"周七\":7,\n",
    "})\n",
    "tickets_t = tickets.copy(deep=True)\n",
    "tickets_t.in_time.apply(to_int).head()"
   ],
   "metadata": {
    "collapsed": false,
    "pycharm": {
     "name": "#%%\n"
    }
   }
  },
  {
   "cell_type": "code",
   "execution_count": 449,
   "outputs": [
    {
     "data": {
      "text/plain": "       id   craft_1 plane_name_1 company_1 craft_2 plane_name_2 company_2  \\\n0  115059  波音738(中)     南航CZ4482      南方航空     NaN          NaN       NaN   \n1  115058  波音738(中)     南航CZ4450      南方航空     NaN          NaN       NaN   \n2  115057  波音738(中)     南航CZ4456      南方航空     NaN          NaN       NaN   \n3  115056  空客321(中)     东航MU5662      东方航空     NaN          NaN       NaN   \n4  115055  空客32L(中)     东航MU5505      东方航空     NaN          NaN       NaN   \n\n  arrival_airport arrival_terminal         arrival_time  ... meat flyman  \\\n0            长乐机场               长乐  2022-08-04 12:40:00  ...  有小食      0   \n1            长乐机场               长乐  2022-08-04 15:20:00  ...  有餐食      0   \n2            长乐机场               长乐  2022-08-04 19:00:00  ...  有餐食      0   \n3            长乐机场               长乐  2022-08-04 12:25:00  ...  NaN      0   \n4            长乐机场               长乐  2022-08-04 10:30:00  ...  有小食      0   \n\n  economy_price busniess_price  total_time  transit transit_time  \\\n0        1490.0         5000.0          90      NaN          NaN   \n1        1490.0         5000.0          85      NaN          NaN   \n2        1490.0         5000.0          90      NaN          NaN   \n3         598.0          963.0         105      NaN          NaN   \n4         598.0          963.0         115      NaN          NaN   \n\n  departure_city arrival_city         create_time  \n0             上海           福州 2022-07-06 10:27:49  \n1             上海           福州 2022-07-06 10:27:49  \n2             上海           福州 2022-07-06 10:27:49  \n3             上海           福州 2022-07-06 10:27:49  \n4             上海           福州 2022-07-06 10:27:49  \n\n[5 rows x 27 columns]",
      "text/html": "<div>\n<style scoped>\n    .dataframe tbody tr th:only-of-type {\n        vertical-align: middle;\n    }\n\n    .dataframe tbody tr th {\n        vertical-align: top;\n    }\n\n    .dataframe thead th {\n        text-align: right;\n    }\n</style>\n<table border=\"1\" class=\"dataframe\">\n  <thead>\n    <tr style=\"text-align: right;\">\n      <th></th>\n      <th>id</th>\n      <th>craft_1</th>\n      <th>plane_name_1</th>\n      <th>company_1</th>\n      <th>craft_2</th>\n      <th>plane_name_2</th>\n      <th>company_2</th>\n      <th>arrival_airport</th>\n      <th>arrival_terminal</th>\n      <th>arrival_time</th>\n      <th>...</th>\n      <th>meat</th>\n      <th>flyman</th>\n      <th>economy_price</th>\n      <th>busniess_price</th>\n      <th>total_time</th>\n      <th>transit</th>\n      <th>transit_time</th>\n      <th>departure_city</th>\n      <th>arrival_city</th>\n      <th>create_time</th>\n    </tr>\n  </thead>\n  <tbody>\n    <tr>\n      <th>0</th>\n      <td>115059</td>\n      <td>波音738(中)</td>\n      <td>南航CZ4482</td>\n      <td>南方航空</td>\n      <td>NaN</td>\n      <td>NaN</td>\n      <td>NaN</td>\n      <td>长乐机场</td>\n      <td>长乐</td>\n      <td>2022-08-04 12:40:00</td>\n      <td>...</td>\n      <td>有小食</td>\n      <td>0</td>\n      <td>1490.0</td>\n      <td>5000.0</td>\n      <td>90</td>\n      <td>NaN</td>\n      <td>NaN</td>\n      <td>上海</td>\n      <td>福州</td>\n      <td>2022-07-06 10:27:49</td>\n    </tr>\n    <tr>\n      <th>1</th>\n      <td>115058</td>\n      <td>波音738(中)</td>\n      <td>南航CZ4450</td>\n      <td>南方航空</td>\n      <td>NaN</td>\n      <td>NaN</td>\n      <td>NaN</td>\n      <td>长乐机场</td>\n      <td>长乐</td>\n      <td>2022-08-04 15:20:00</td>\n      <td>...</td>\n      <td>有餐食</td>\n      <td>0</td>\n      <td>1490.0</td>\n      <td>5000.0</td>\n      <td>85</td>\n      <td>NaN</td>\n      <td>NaN</td>\n      <td>上海</td>\n      <td>福州</td>\n      <td>2022-07-06 10:27:49</td>\n    </tr>\n    <tr>\n      <th>2</th>\n      <td>115057</td>\n      <td>波音738(中)</td>\n      <td>南航CZ4456</td>\n      <td>南方航空</td>\n      <td>NaN</td>\n      <td>NaN</td>\n      <td>NaN</td>\n      <td>长乐机场</td>\n      <td>长乐</td>\n      <td>2022-08-04 19:00:00</td>\n      <td>...</td>\n      <td>有餐食</td>\n      <td>0</td>\n      <td>1490.0</td>\n      <td>5000.0</td>\n      <td>90</td>\n      <td>NaN</td>\n      <td>NaN</td>\n      <td>上海</td>\n      <td>福州</td>\n      <td>2022-07-06 10:27:49</td>\n    </tr>\n    <tr>\n      <th>3</th>\n      <td>115056</td>\n      <td>空客321(中)</td>\n      <td>东航MU5662</td>\n      <td>东方航空</td>\n      <td>NaN</td>\n      <td>NaN</td>\n      <td>NaN</td>\n      <td>长乐机场</td>\n      <td>长乐</td>\n      <td>2022-08-04 12:25:00</td>\n      <td>...</td>\n      <td>NaN</td>\n      <td>0</td>\n      <td>598.0</td>\n      <td>963.0</td>\n      <td>105</td>\n      <td>NaN</td>\n      <td>NaN</td>\n      <td>上海</td>\n      <td>福州</td>\n      <td>2022-07-06 10:27:49</td>\n    </tr>\n    <tr>\n      <th>4</th>\n      <td>115055</td>\n      <td>空客32L(中)</td>\n      <td>东航MU5505</td>\n      <td>东方航空</td>\n      <td>NaN</td>\n      <td>NaN</td>\n      <td>NaN</td>\n      <td>长乐机场</td>\n      <td>长乐</td>\n      <td>2022-08-04 10:30:00</td>\n      <td>...</td>\n      <td>有小食</td>\n      <td>0</td>\n      <td>598.0</td>\n      <td>963.0</td>\n      <td>115</td>\n      <td>NaN</td>\n      <td>NaN</td>\n      <td>上海</td>\n      <td>福州</td>\n      <td>2022-07-06 10:27:49</td>\n    </tr>\n  </tbody>\n</table>\n<p>5 rows × 27 columns</p>\n</div>"
     },
     "execution_count": 449,
     "metadata": {},
     "output_type": "execute_result"
    }
   ],
   "source": [
    "t = tickets.copy(deep=True)\n",
    "tickets.head()"
   ],
   "metadata": {
    "collapsed": false,
    "pycharm": {
     "name": "#%%\n"
    }
   }
  },
  {
   "cell_type": "code",
   "execution_count": 458,
   "outputs": [
    {
     "data": {
      "text/plain": "       id   craft_1 plane_name_1 company_1 craft_2 plane_name_2 company_2  \\\n0  115059  波音738(中)     南航CZ4482      南方航空     NaN          NaN       NaN   \n1  115058  波音738(中)     南航CZ4450      南方航空     NaN          NaN       NaN   \n2  115057  波音738(中)     南航CZ4456      南方航空     NaN          NaN       NaN   \n3  115056  空客321(中)     东航MU5662      东方航空     NaN          NaN       NaN   \n4  115055  空客32L(中)     东航MU5505      东方航空     NaN          NaN       NaN   \n\n  arrival_airport arrival_terminal        arrival_time  ... flyman  \\\n0            长乐机场               长乐 2022-08-04 12:40:00  ...      0   \n1            长乐机场               长乐 2022-08-04 15:20:00  ...      0   \n2            长乐机场               长乐 2022-08-04 19:00:00  ...      0   \n3            长乐机场               长乐 2022-08-04 12:25:00  ...      0   \n4            长乐机场               长乐 2022-08-04 10:30:00  ...      0   \n\n  economy_price busniess_price total_time  transit  transit_time  \\\n0        1490.0         5000.0         90      NaN           NaN   \n1        1490.0         5000.0         85      NaN           NaN   \n2        1490.0         5000.0         90      NaN           NaN   \n3         598.0          963.0        105      NaN           NaN   \n4         598.0          963.0        115      NaN           NaN   \n\n  departure_city arrival_city         create_time  ahead  \n0             上海           福州 2022-07-06 10:27:49     29  \n1             上海           福州 2022-07-06 10:27:49     29  \n2             上海           福州 2022-07-06 10:27:49     29  \n3             上海           福州 2022-07-06 10:27:49     29  \n4             上海           福州 2022-07-06 10:27:49     28  \n\n[5 rows x 28 columns]",
      "text/html": "<div>\n<style scoped>\n    .dataframe tbody tr th:only-of-type {\n        vertical-align: middle;\n    }\n\n    .dataframe tbody tr th {\n        vertical-align: top;\n    }\n\n    .dataframe thead th {\n        text-align: right;\n    }\n</style>\n<table border=\"1\" class=\"dataframe\">\n  <thead>\n    <tr style=\"text-align: right;\">\n      <th></th>\n      <th>id</th>\n      <th>craft_1</th>\n      <th>plane_name_1</th>\n      <th>company_1</th>\n      <th>craft_2</th>\n      <th>plane_name_2</th>\n      <th>company_2</th>\n      <th>arrival_airport</th>\n      <th>arrival_terminal</th>\n      <th>arrival_time</th>\n      <th>...</th>\n      <th>flyman</th>\n      <th>economy_price</th>\n      <th>busniess_price</th>\n      <th>total_time</th>\n      <th>transit</th>\n      <th>transit_time</th>\n      <th>departure_city</th>\n      <th>arrival_city</th>\n      <th>create_time</th>\n      <th>ahead</th>\n    </tr>\n  </thead>\n  <tbody>\n    <tr>\n      <th>0</th>\n      <td>115059</td>\n      <td>波音738(中)</td>\n      <td>南航CZ4482</td>\n      <td>南方航空</td>\n      <td>NaN</td>\n      <td>NaN</td>\n      <td>NaN</td>\n      <td>长乐机场</td>\n      <td>长乐</td>\n      <td>2022-08-04 12:40:00</td>\n      <td>...</td>\n      <td>0</td>\n      <td>1490.0</td>\n      <td>5000.0</td>\n      <td>90</td>\n      <td>NaN</td>\n      <td>NaN</td>\n      <td>上海</td>\n      <td>福州</td>\n      <td>2022-07-06 10:27:49</td>\n      <td>29</td>\n    </tr>\n    <tr>\n      <th>1</th>\n      <td>115058</td>\n      <td>波音738(中)</td>\n      <td>南航CZ4450</td>\n      <td>南方航空</td>\n      <td>NaN</td>\n      <td>NaN</td>\n      <td>NaN</td>\n      <td>长乐机场</td>\n      <td>长乐</td>\n      <td>2022-08-04 15:20:00</td>\n      <td>...</td>\n      <td>0</td>\n      <td>1490.0</td>\n      <td>5000.0</td>\n      <td>85</td>\n      <td>NaN</td>\n      <td>NaN</td>\n      <td>上海</td>\n      <td>福州</td>\n      <td>2022-07-06 10:27:49</td>\n      <td>29</td>\n    </tr>\n    <tr>\n      <th>2</th>\n      <td>115057</td>\n      <td>波音738(中)</td>\n      <td>南航CZ4456</td>\n      <td>南方航空</td>\n      <td>NaN</td>\n      <td>NaN</td>\n      <td>NaN</td>\n      <td>长乐机场</td>\n      <td>长乐</td>\n      <td>2022-08-04 19:00:00</td>\n      <td>...</td>\n      <td>0</td>\n      <td>1490.0</td>\n      <td>5000.0</td>\n      <td>90</td>\n      <td>NaN</td>\n      <td>NaN</td>\n      <td>上海</td>\n      <td>福州</td>\n      <td>2022-07-06 10:27:49</td>\n      <td>29</td>\n    </tr>\n    <tr>\n      <th>3</th>\n      <td>115056</td>\n      <td>空客321(中)</td>\n      <td>东航MU5662</td>\n      <td>东方航空</td>\n      <td>NaN</td>\n      <td>NaN</td>\n      <td>NaN</td>\n      <td>长乐机场</td>\n      <td>长乐</td>\n      <td>2022-08-04 12:25:00</td>\n      <td>...</td>\n      <td>0</td>\n      <td>598.0</td>\n      <td>963.0</td>\n      <td>105</td>\n      <td>NaN</td>\n      <td>NaN</td>\n      <td>上海</td>\n      <td>福州</td>\n      <td>2022-07-06 10:27:49</td>\n      <td>29</td>\n    </tr>\n    <tr>\n      <th>4</th>\n      <td>115055</td>\n      <td>空客32L(中)</td>\n      <td>东航MU5505</td>\n      <td>东方航空</td>\n      <td>NaN</td>\n      <td>NaN</td>\n      <td>NaN</td>\n      <td>长乐机场</td>\n      <td>长乐</td>\n      <td>2022-08-04 10:30:00</td>\n      <td>...</td>\n      <td>0</td>\n      <td>598.0</td>\n      <td>963.0</td>\n      <td>115</td>\n      <td>NaN</td>\n      <td>NaN</td>\n      <td>上海</td>\n      <td>福州</td>\n      <td>2022-07-06 10:27:49</td>\n      <td>28</td>\n    </tr>\n  </tbody>\n</table>\n<p>5 rows × 28 columns</p>\n</div>"
     },
     "execution_count": 458,
     "metadata": {},
     "output_type": "execute_result"
    }
   ],
   "source": [
    "tickets.arrival_time = pd.to_datetime(tickets.arrival_time)\n",
    "tickets.departure_time = pd.to_datetime(tickets.departure_time)\n",
    "tickets['ahead'] =  (tickets.departure_time - tickets.create_time).apply(lambda x:x.days)\n",
    "tickets.head()"
   ],
   "metadata": {
    "collapsed": false,
    "pycharm": {
     "name": "#%%\n"
    }
   }
  },
  {
   "cell_type": "code",
   "execution_count": 468,
   "outputs": [
    {
     "name": "stdout",
     "output_type": "stream",
     "text": [
      "<class 'pandas.core.frame.DataFrame'>\n",
      "Int64Index: 103491 entries, 0 to 115058\n",
      "Data columns (total 23 columns):\n",
      " #   Column              Non-Null Count   Dtype         \n",
      "---  ------              --------------   -----         \n",
      " 0   id                  103491 non-null  int64         \n",
      " 1   craft_1             103491 non-null  object        \n",
      " 2   plane_name_1        103491 non-null  object        \n",
      " 3   company_1           103491 non-null  object        \n",
      " 4   arrival_airport     103491 non-null  object        \n",
      " 5   arrival_terminal    103491 non-null  object        \n",
      " 6   arrival_time        103491 non-null  datetime64[ns]\n",
      " 7   cross_day           103491 non-null  object        \n",
      " 8   departure_time      103491 non-null  datetime64[ns]\n",
      " 9   departure_airport   103491 non-null  object        \n",
      " 10  departure_terminal  103491 non-null  object        \n",
      " 11  departure_week      103491 non-null  int64         \n",
      " 12  in_time             103491 non-null  float64       \n",
      " 13  craft_size          103491 non-null  object        \n",
      " 14  meat                103491 non-null  object        \n",
      " 15  flyman              103491 non-null  object        \n",
      " 16  economy_price       103491 non-null  float64       \n",
      " 17  busniess_price      103491 non-null  float64       \n",
      " 18  total_time          103491 non-null  int64         \n",
      " 19  departure_city      103491 non-null  object        \n",
      " 20  arrival_city        103491 non-null  object        \n",
      " 21  create_time         103491 non-null  datetime64[ns]\n",
      " 22  ahead               103491 non-null  int64         \n",
      "dtypes: datetime64[ns](3), float64(3), int64(4), object(13)\n",
      "memory usage: 18.9+ MB\n"
     ]
    }
   ],
   "source": [
    "tickets = tickets[tickets[['craft_2', 'plane_name_2', 'company_2', 'transit', 'transit_time']].isna().sum(1)==5]\n",
    "tickets['in_time'].fillna(value=tickets.in_time.mean(), inplace=True)\n",
    "tickets.dropna(subset=['craft_1'], inplace=True)\n",
    "tickets.craft_size.fillna(value=tickets.craft_size.mode(), inplace=True)\n",
    "tickets.meat.fillna(\"无餐食\", inplace=True)\n",
    "tickets.departure_week = tickets.departure_time.apply(lambda x:x.weekday()+1)\n",
    "tickets.dropna(axis=1, inplace=True)\n",
    "tickets.info()"
   ],
   "metadata": {
    "collapsed": false,
    "pycharm": {
     "name": "#%%\n"
    }
   }
  },
  {
   "cell_type": "markdown",
   "source": [
    "删除一些无用数据"
   ],
   "metadata": {
    "collapsed": false,
    "pycharm": {
     "name": "#%% md\n"
    }
   }
  },
  {
   "cell_type": "code",
   "execution_count": 469,
   "outputs": [],
   "source": [
    "del tickets['id']"
   ],
   "metadata": {
    "collapsed": false,
    "pycharm": {
     "name": "#%%\n"
    }
   }
  },
  {
   "cell_type": "code",
   "execution_count": 470,
   "outputs": [],
   "source": [
    "tickets.reset_index(drop=True, inplace=True)\n",
    "tickets_clean = tickets.copy(deep=True)"
   ],
   "metadata": {
    "collapsed": false,
    "pycharm": {
     "name": "#%%\n"
    }
   }
  },
  {
   "cell_type": "markdown",
   "source": [
    "异常值处理（箱型图+3sigma原则）"
   ],
   "metadata": {
    "collapsed": false,
    "pycharm": {
     "name": "#%% md\n"
    }
   }
  },
  {
   "cell_type": "code",
   "execution_count": 471,
   "outputs": [
    {
     "data": {
      "text/plain": "<Figure size 1152x576 with 1 Axes>",
      "image/png": "[encoded data removed]"
     },
     "metadata": {
      "needs_background": "light"
     },
     "output_type": "display_data"
    }
   ],
   "source": [
    "import matplotlib.pyplot as plt\n",
    "\n",
    "\n",
    "plt.figure(figsize=(16,8))\n",
    "c = 1\n",
    "for i in tickets_clean.dtypes.index:\n",
    "    if tickets_clean.dtypes[i] == np.float:\n",
    "        # plt.subplot(3, 3, c)\n",
    "        c += 1\n",
    "        col = tickets_clean[[i]]\n",
    "        col.boxplot()\n",
    "        plt.savefig(f\"D:/crawler/box/{i}.png\")\n",
    "plt.show()"
   ],
   "metadata": {
    "collapsed": false,
    "pycharm": {
     "name": "#%%\n"
    }
   }
  },
  {
   "cell_type": "markdown",
   "source": [
    "由于有些航班没有商务舱的机票或者没有经济舱的机票，存在机票价格为0的情况，所以这里不做异常值处理，后面统计时再进行处理。"
   ],
   "metadata": {
    "collapsed": false,
    "pycharm": {
     "name": "#%% md\n"
    }
   }
  },
  {
   "cell_type": "code",
   "execution_count": 472,
   "outputs": [
    {
     "name": "stdout",
     "output_type": "stream",
     "text": [
      "[   174    181    182    188    189   1008   1019   1020   1027   1843\n",
      "   1859   1860   1866   1867   2665   2666   2672   2674   2699   3495\n",
      "   3496   3497   3503   3505   4293   4295   4296   4302   4303   5051\n",
      "   5052   5058   5060   5088   5850   5851   5857   5858   6640   6641\n",
      "   6647   6649   7436   7438   7439   7445   7446   8091   8233   8235\n",
      "   8236   8242   8244   8994   8995   9001   9003   9032   9773   9774\n",
      "   9780   9781   9805  10562  10563  10569  10571  10599  11364  11374\n",
      "  11375  11381  11382  12165  12167  12168  12174  12176  12909  12910\n",
      "  12916  12917  12945  13699  13700  13706  13708  13730  14495  14521\n",
      "  15257  15275  16028  16767  17501  18236  18925  20534  20808  20810\n",
      "  20812  20853  20856  20961  21078  21079  21080  21082  21151  21153\n",
      "  21154  21360  21371  21372  21379  22166  22182  22183  22189  22190\n",
      "  22960  22961  22967  22969  22994  23768  23769  23770  23776  23778\n",
      "  24555  24557  24558  24564  24565  25296  25297  25303  25305  25333\n",
      "  26093  26094  26100  26101  26868  26869  26875  26877  26905  27653\n",
      "  27654  27660  27661  28435  28437  28438  28444  28446  29186  29187\n",
      "  29193  29195  29966  29967  29973  29974  29998  30737  30738  30744\n",
      "  30746  30774  31541  31551  31552  31558  31559  32347  32349  32350\n",
      "  32356  32358  33095  33096  33102  33103  33131  33876  33877  33883\n",
      "  33885  34686  34712  35335  35353  35462  35480  36237  37005  37794\n",
      "  38599  39350  40546  41203  41587  41590  41591  41593  41648  41651\n",
      "  41772  41939  41941  41944  42134  42135  42165  42367  42383  42384\n",
      "  42390  42391  43175  43176  43182  43184  43209  43983  43984  43985\n",
      "  43991  43993  44758  44760  44761  44767  44768  45494  45495  45501\n",
      "  45503  46287  46288  46294  46295  47056  47057  47063  47065  47837\n",
      "  47838  47844  47845  48615  48616  48622  48624  49363  49364  49370\n",
      "  49372  50137  50138  50144  50145  50169  50904  50905  50911  50913\n",
      "  50941  51705  51714  51715  51721  51722  52504  52507  52508  52514\n",
      "  52516  53252  53253  53259  53260  53288  54031  54032  54038  54040\n",
      "  54063  54819  54820  54826  54828  54855  55624  55633  55634  55640\n",
      "  55641  56415  56420  56422  57200  57201  57206  57207  58023  58024\n",
      "  58029  58031  58720  58864  58865  58870  58871  59655  59656  59661\n",
      "  59663  61017  61319  62681  62684  62685  62986  63033  63036  63205\n",
      "  63208  63248  63441  63442  63448  63450  63475  64226  64227  64228\n",
      "  64234  64236  64980  64982  64983  64989  64990  65691  65692  65698\n",
      "  65700  66451  66452  66458  66459  67194  67195  67201  67203  67956\n",
      "  67957  67963  67964  68714  68715  68721  68723  69439  69440  69446\n",
      "  69448  70185  70186  70192  70193  70217  70927  70928  70934  70936\n",
      "  70964  71700  71701  71707  71708  72464  72465  72471  72473  73064\n",
      "  73075  73171  73172  73178  73179  73921  73922  73928  73930  74678\n",
      "  74679  74685  74687  75436  75445  75446  75452  75453  76181  76186\n",
      "  76188  76825  76934  76935  76940  76941  77714  77715  77720  77722\n",
      "  78370  78510  78511  78516  78517  79254  79255  79260  79262  80049\n",
      "  80603  81241  81246  81788  81793  82239  82243  82636  82905  82906\n",
      "  82908  83098  83099  83101  83102  83105  83108  83109  83412  83413\n",
      "  83419  83421  84200  84202  84203  84209  84210  84941  84942  84948\n",
      "  84950  85739  85740  85746  85747  86511  86512  86518  86520  87296\n",
      "  87297  87303  87304  88076  88077  88083  88085  88820  88821  88827\n",
      "  88829  89587  89588  89594  89595  89619  90349  90350  90356  90358\n",
      "  90386  91161  91162  91168  91169  91955  91956  91962  91964  92577\n",
      "  92588  92687  92688  92694  92695  93456  93457  93463  93465  94235\n",
      "  94236  94242  94244  95008  95017  95018  95024  95025  95774  95779\n",
      "  95781  96443  96557  96558  96563  96564  97353  97354  97359  97361\n",
      "  98041  98183  98184  98189  98190  98977  98978  98983  98985  99801\n",
      " 100364 101028 101033 101596 101601 102065 102070 102776 102778 102779\n",
      " 102780 103008 103011 103012 103036 103038 103307 103309 103311 103336\n",
      " 103469 103470]\n",
      "[    32     33     34     35     36    860    861    862    863    864\n",
      "   1703   1704   1705   1706   1707   1712   2514   2522   2525   2526\n",
      "   2527   2528   2529   3348   3350   3351   4123   4125   4126   4902\n",
      "   4904   4905   5693   5695   5696   6488   6490   6491   7271   7273\n",
      "   7274   8042   8044   8820   8822   8823   9597   9599   9600  10383\n",
      "  10385  10386  11172  11174  11175  11948  11951  11960  11962  11964\n",
      "  11965  12712  12714  12715  13493  13495  13496  14288  14290  14291\n",
      "  15050  15052  15053  15058  15805  15818  15820  15821  15823  16558\n",
      "  16560  16561  17289  17291  17292  17299  17304  18005  18009  18011\n",
      "  18013  18716  18721  18723  19359  19360  19362  19363  19373  19375\n",
      "  19377  19379  19895  19897  19899  19900  19906  20374  20381  20385\n",
      "  20707  20953  21112  21113  21114  21115  21116  21921  21922  21923\n",
      "  21924  21925  21930  22707  22714  22717  22718  22719  22720  22721\n",
      "  23514  23519  23521  23522  23529  24282  24284  24285  24292  24301\n",
      "  25050  25052  25053  25835  25837  25838  26617  26619  26620  27381\n",
      "  27383  27384  28140  28141  28142  28913  28915  28916  29687  29689\n",
      "  29690  30464  30466  30467  31249  31251  31252  32029  32030  32031\n",
      "  32040  32041  32042  32044  32045  32803  32805  32806  33569  33571\n",
      "  33572  33578  33587  34370  34379  34380  34381  34388  35152  35154\n",
      "  35155  35159  35913  35925  35927  35928  35930  36693  36695  36696\n",
      "  37467  37469  37470  37477  37482  38254  38258  38260  38262  39026\n",
      "  39029  39034  39036  39737  39738  39739  39741  39751  39753  39755\n",
      "  39757  40340  40342  40344  40350  40920  40921  40927  40931  41379\n",
      "  41381  41685  41688  42020  42021  42022  42023  42024  42819  42827\n",
      "  42830  42831  42832  42833  42834  43627  43632  43634  43635  43642\n",
      "  44384  44386  44387  44394  44403  45145  45147  45148  45929  45931\n",
      "  45932  46705  46707  46708  47466  47468  47469  48219  48220  48221\n",
      "  48991  48993  48994  49760  49762  49763  50531  50533  50534  51313\n",
      "  51315  51316  52086  52088  52089  52098  52099  52100  52102  52103\n",
      "  52857  52859  52860  53621  53623  53624  53630  53639  54407  54416\n",
      "  54417  54418  54425  55206  55208  55209  55215  55987  55999  56001\n",
      "  56002  56004  56780  56782  56783  57589  57591  57592  57599  57604\n",
      "  58402  58406  58408  58409  59207  59217  59218  59222  59224  59225\n",
      "  60003  60004  60006  60007  60017  60019  60020  60021  60023  60692\n",
      "  60694  60695  60696  60702  61335  61336  61337  61342  61346  61898\n",
      "  61902  61904  61905  61906  61907  61912  62362  62368  62664  62667\n",
      "  62977  62988  62989  62990  62991  62992  63768  63769  63770  63771\n",
      "  64497  64498  64499  64500  64507  64516  65234  65235  65236  65237\n",
      "  65985  65986  65987  65988  66735  66736  66737  66738  67477  67478\n",
      "  67479  67480  68209  68210  68211  68212  68960  68961  68962  68963\n",
      "  69700  69701  69702  69703  70446  70447  70448  70449  71192  71193\n",
      "  71194  71195  71938  71949  71950  71951  71952  71953  72673  72674\n",
      "  72675  73406  73407  73408  73409  74173  74174  74175  74176  74915\n",
      "  74916  74917  74918  74924  75651  75663  75664  75665  75666  75668\n",
      "  76412  76413  76414  77176  77177  77178  77179  77186  77191  77944\n",
      "  77948  77949  77950  77951  78701  78711  78712  78716  78717  78718\n",
      "  78719  79482  79483  79485  79490  79492  79496  79497  79498  79499\n",
      "  79500  80169  80170  80171  80172  80173  80178  80179  80800  80801\n",
      "  80802  80803  80806  80808  80810  80811  81346  81350  81351  81352\n",
      "  81354  81804  81807  81809  81811  81812  81813  81817  82200  82203\n",
      "  82205  82206  82463  82464  82837  82838  82839  82840  83603  83604\n",
      "  83605  83606  83613  83622  84371  84372  84373  84374  85160  85161\n",
      "  85162  85163  85939  85940  85941  85942  86704  86705  86706  86707\n",
      "  87458  87459  87460  87461  88228  88229  88230  88231  88990  88991\n",
      "  88992  88993  89756  89757  89758  89759  90540  90541  90542  90543\n",
      "  91315  91326  91327  91328  91329  91330  92076  92077  92078  92827\n",
      "  92828  92829  92830  93616  93617  93618  93619  94373  94374  94375\n",
      "  94376  94382  95128  95140  95141  95142  95143  95145  95920  95921\n",
      "  95922  96703  96704  96705  96706  96713  96718  97505  97509  97510\n",
      "  97511  97512  98311  98321  98322  98326  98327  98328  98329  99121\n",
      "  99122  99124  99129  99131  99135  99136  99137  99138  99139  99820\n",
      "  99821  99822  99823  99824  99829  99830 100477 100478 100479 100480\n",
      " 100483 100485 100487 100488 101048 101049 101050 101052 101062 101520\n",
      " 101521 101524 101529 101530 101534 101933 101934 101938 101941 101942\n",
      " 101946 101947 101949 102226 102227 102230]\n"
     ]
    }
   ],
   "source": [
    "col_economy = np.array(tickets_clean[\"economy_price\"])\n",
    "mean_economy = col_economy.mean()\n",
    "std_economy = col_economy.std()\n",
    "outlier_index = np.arange(col_economy.shape[0])[(col_economy > (mean_economy + 3*std_economy)) | (col_economy < (mean_economy - 3*std_economy))]\n",
    "print(outlier_index)\n",
    "tickets_clean.drop(outlier_index, axis=0, inplace=True)\n",
    "\n",
    "\n",
    "col_business = np.array(tickets_clean[\"busniess_price\"])\n",
    "mean_business = col_business.mean()\n",
    "std_business = col_business.std()\n",
    "outlier_index = np.arange(col_business.shape[0])[(col_business > (mean_business + 3*std_business)) | (col_business < (mean_business - 3*std_business))]\n",
    "print(outlier_index)\n",
    "tickets_clean.drop(outlier_index, axis=0, inplace=True)"
   ],
   "metadata": {
    "collapsed": false,
    "pycharm": {
     "name": "#%%\n"
    }
   }
  },
  {
   "cell_type": "code",
   "execution_count": 397,
   "outputs": [],
   "source": [
    "# plt.figure()\n",
    "# c = 1\n",
    "# for i in tickets_clean.dtypes.index:\n",
    "#     if tickets_clean.dtypes[i] == np.float:\n",
    "#         # plt.subplot(3, 3, c)\n",
    "#         c += 1\n",
    "#         col = tickets_clean[[i]]\n",
    "#         col.boxplot()\n",
    "#         plt.savefig(f\"D:/{i}2.png\")\n",
    "#\n",
    "# plt.show()\n"
   ],
   "metadata": {
    "collapsed": false,
    "pycharm": {
     "name": "#%%\n"
    }
   }
  },
  {
   "cell_type": "markdown",
   "source": [
    "先查看一下数据大致情况"
   ],
   "metadata": {
    "collapsed": false,
    "pycharm": {
     "name": "#%% md\n"
    }
   }
  },
  {
   "cell_type": "code",
   "execution_count": 473,
   "outputs": [
    {
     "data": {
      "text/plain": "       departure_week        in_time  economy_price  busniess_price  \\\ncount   102283.000000  102283.000000  102283.000000   102283.000000   \nmean         3.985609      98.419778    1126.573360     2375.722310   \nstd          2.021068       2.262332     492.344228     2377.173938   \nmin          1.000000      83.000000       0.000000        0.000000   \n25%          2.000000      98.415551     750.000000        0.000000   \n50%          4.000000      98.415551    1050.000000     1745.000000   \n75%          6.000000     100.000000    1430.000000     3730.000000   \nmax          7.000000     100.000000    2650.000000    17345.000000   \n\n          total_time          ahead  \ncount  102283.000000  102283.000000  \nmean      150.652015      15.775935  \nstd        38.659708       7.865323  \nmin        85.000000       0.000000  \n25%       125.000000       9.000000  \n50%       150.000000      16.000000  \n75%       170.000000      23.000000  \nmax       390.000000      29.000000  ",
      "text/html": "<div>\n<style scoped>\n    .dataframe tbody tr th:only-of-type {\n        vertical-align: middle;\n    }\n\n    .dataframe tbody tr th {\n        vertical-align: top;\n    }\n\n    .dataframe thead th {\n        text-align: right;\n    }\n</style>\n<table border=\"1\" class=\"dataframe\">\n  <thead>\n    <tr style=\"text-align: right;\">\n      <th></th>\n      <th>departure_week</th>\n      <th>in_time</th>\n      <th>economy_price</th>\n      <th>busniess_price</th>\n      <th>total_time</th>\n      <th>ahead</th>\n    </tr>\n  </thead>\n  <tbody>\n    <tr>\n      <th>count</th>\n      <td>102283.000000</td>\n      <td>102283.000000</td>\n      <td>102283.000000</td>\n      <td>102283.000000</td>\n      <td>102283.000000</td>\n      <td>102283.000000</td>\n    </tr>\n    <tr>\n      <th>mean</th>\n      <td>3.985609</td>\n      <td>98.419778</td>\n      <td>1126.573360</td>\n      <td>2375.722310</td>\n      <td>150.652015</td>\n      <td>15.775935</td>\n    </tr>\n    <tr>\n      <th>std</th>\n      <td>2.021068</td>\n      <td>2.262332</td>\n      <td>492.344228</td>\n      <td>2377.173938</td>\n      <td>38.659708</td>\n      <td>7.865323</td>\n    </tr>\n    <tr>\n      <th>min</th>\n      <td>1.000000</td>\n      <td>83.000000</td>\n      <td>0.000000</td>\n      <td>0.000000</td>\n      <td>85.000000</td>\n      <td>0.000000</td>\n    </tr>\n    <tr>\n      <th>25%</th>\n      <td>2.000000</td>\n      <td>98.415551</td>\n      <td>750.000000</td>\n      <td>0.000000</td>\n      <td>125.000000</td>\n      <td>9.000000</td>\n    </tr>\n    <tr>\n      <th>50%</th>\n      <td>4.000000</td>\n      <td>98.415551</td>\n      <td>1050.000000</td>\n      <td>1745.000000</td>\n      <td>150.000000</td>\n      <td>16.000000</td>\n    </tr>\n    <tr>\n      <th>75%</th>\n      <td>6.000000</td>\n      <td>100.000000</td>\n      <td>1430.000000</td>\n      <td>3730.000000</td>\n      <td>170.000000</td>\n      <td>23.000000</td>\n    </tr>\n    <tr>\n      <th>max</th>\n      <td>7.000000</td>\n      <td>100.000000</td>\n      <td>2650.000000</td>\n      <td>17345.000000</td>\n      <td>390.000000</td>\n      <td>29.000000</td>\n    </tr>\n  </tbody>\n</table>\n</div>"
     },
     "execution_count": 473,
     "metadata": {},
     "output_type": "execute_result"
    }
   ],
   "source": [
    "tickets_clean.describe(include=np.number)"
   ],
   "metadata": {
    "collapsed": false,
    "pycharm": {
     "name": "#%%\n"
    }
   }
  },
  {
   "cell_type": "code",
   "execution_count": 474,
   "outputs": [
    {
     "data": {
      "text/plain": "         craft_1 plane_name_1 company_1 arrival_airport arrival_terminal  \\\ncount     102283       102283    102283          102283           102283   \nunique        69          996        26              19               26   \ntop     波音738(中)     东航MU5189      东方航空            宝安机场             宝安T3   \nfreq       20963          270     27688           14902            14902   \n\n       cross_day departure_airport departure_terminal craft_size    meat  \\\ncount     102283            102283             102283     102283  102283   \nunique         2                 2                  4          3       3   \ntop            0              虹桥机场               虹桥T2        中机型     有小食   \nfreq       96179             63304              53677      82214   39276   \n\n        flyman departure_city arrival_city  \ncount   102283         102283       102283  \nunique       2              1           17  \ntop          0             上海           深圳  \nfreq    102282         102283        14902  ",
      "text/html": "<div>\n<style scoped>\n    .dataframe tbody tr th:only-of-type {\n        vertical-align: middle;\n    }\n\n    .dataframe tbody tr th {\n        vertical-align: top;\n    }\n\n    .dataframe thead th {\n        text-align: right;\n    }\n</style>\n<table border=\"1\" class=\"dataframe\">\n  <thead>\n    <tr style=\"text-align: right;\">\n      <th></th>\n      <th>craft_1</th>\n      <th>plane_name_1</th>\n      <th>company_1</th>\n      <th>arrival_airport</th>\n      <th>arrival_terminal</th>\n      <th>cross_day</th>\n      <th>departure_airport</th>\n      <th>departure_terminal</th>\n      <th>craft_size</th>\n      <th>meat</th>\n      <th>flyman</th>\n      <th>departure_city</th>\n      <th>arrival_city</th>\n    </tr>\n  </thead>\n  <tbody>\n    <tr>\n      <th>count</th>\n      <td>102283</td>\n      <td>102283</td>\n      <td>102283</td>\n      <td>102283</td>\n      <td>102283</td>\n      <td>102283</td>\n      <td>102283</td>\n      <td>102283</td>\n      <td>102283</td>\n      <td>102283</td>\n      <td>102283</td>\n      <td>102283</td>\n      <td>102283</td>\n    </tr>\n    <tr>\n      <th>unique</th>\n      <td>69</td>\n      <td>996</td>\n      <td>26</td>\n      <td>19</td>\n      <td>26</td>\n      <td>2</td>\n      <td>2</td>\n      <td>4</td>\n      <td>3</td>\n      <td>3</td>\n      <td>2</td>\n      <td>1</td>\n      <td>17</td>\n    </tr>\n    <tr>\n      <th>top</th>\n      <td>波音738(中)</td>\n      <td>东航MU5189</td>\n      <td>东方航空</td>\n      <td>宝安机场</td>\n      <td>宝安T3</td>\n      <td>0</td>\n      <td>虹桥机场</td>\n      <td>虹桥T2</td>\n      <td>中机型</td>\n      <td>有小食</td>\n      <td>0</td>\n      <td>上海</td>\n      <td>深圳</td>\n    </tr>\n    <tr>\n      <th>freq</th>\n      <td>20963</td>\n      <td>270</td>\n      <td>27688</td>\n      <td>14902</td>\n      <td>14902</td>\n      <td>96179</td>\n      <td>63304</td>\n      <td>53677</td>\n      <td>82214</td>\n      <td>39276</td>\n      <td>102282</td>\n      <td>102283</td>\n      <td>14902</td>\n    </tr>\n  </tbody>\n</table>\n</div>"
     },
     "execution_count": 474,
     "metadata": {},
     "output_type": "execute_result"
    }
   ],
   "source": [
    "tickets_clean.describe(include=np.object)"
   ],
   "metadata": {
    "collapsed": false,
    "pycharm": {
     "name": "#%%\n"
    }
   }
  },
  {
   "cell_type": "markdown",
   "source": [
    "# 数据分析"
   ],
   "metadata": {
    "collapsed": false,
    "pycharm": {
     "name": "#%% md\n"
    }
   }
  },
  {
   "cell_type": "code",
   "execution_count": 475,
   "outputs": [
    {
     "data": {
      "text/plain": "<Figure size 1152x576 with 1 Axes>",
      "image/png": "[encoded data removed]"
     },
     "metadata": {},
     "output_type": "display_data"
    }
   ],
   "source": [
    "import re\n",
    "plt.rcParams[\"font.sans-serif\"]=[\"SimHei\"] #设置字体\n",
    "plt.rcParams[\"axes.unicode_minus\"]=False #该语句解决图像中的“-”负号的乱码问题\n",
    "\n",
    "# 飞机型号\n",
    "craft = tickets_clean['craft_1'].copy(deep=True)\n",
    "craft = craft.apply(lambda x:re.split(\"[\\d|B]+\", x[0:4])[0])\n",
    "labels = craft.value_counts().index.values\n",
    "sizes = craft.value_counts().values\n",
    "t = labels[1]\n",
    "labels[1] = labels[2]\n",
    "labels[2] = t\n",
    "t = sizes[1]\n",
    "sizes[1] = sizes[2]\n",
    "sizes[2] = t\n",
    "explode = (0, 0.2, 0.1, 0.2)  # only \"explode\" the 2nd slice (i.e. 'Hogs')\n",
    "\n",
    "fig = plt.figure(figsize=(16, 8))\n",
    "plt.pie(sizes, explode=explode, labels=labels, autopct='%1.1f%%',\n",
    "        shadow=True, startangle=90)\n",
    "plt.axis('equal')  # Equal aspect ratio ensures that pie is drawn as a circle.\n",
    "plt.savefig(\"D:/crawler/pie/pie_craft.png\")\n",
    "plt.show()\n"
   ],
   "metadata": {
    "collapsed": false,
    "pycharm": {
     "name": "#%%\n"
    }
   }
  },
  {
   "cell_type": "code",
   "execution_count": 476,
   "outputs": [
    {
     "data": {
      "text/plain": "<Figure size 1152x576 with 1 Axes>",
      "image/png": "[encoded data removed]"
     },
     "metadata": {},
     "output_type": "display_data"
    }
   ],
   "source": [
    "# 航空公司\n",
    "airline = tickets_clean['company_1'].copy(deep=True)\n",
    "labels = airline.value_counts().index.values[0:10]\n",
    "sizes = airline.value_counts().values[0:10]\n",
    "\n",
    "fig = plt.figure(figsize=(16, 8))\n",
    "plt.pie(sizes, labels=labels, autopct='%1.1f%%', shadow=True, startangle=90)\n",
    "plt.axis('equal')  # Equal aspect ratio ensures that pie is drawn as a circle.\n",
    "plt.savefig(\"D:/crawler/pie/pie_airline.png\")\n",
    "plt.show()"
   ],
   "metadata": {
    "collapsed": false,
    "pycharm": {
     "name": "#%%\n"
    }
   }
  },
  {
   "cell_type": "code",
   "execution_count": 477,
   "outputs": [
    {
     "name": "stdout",
     "output_type": "stream",
     "text": [
      "<class 'pandas.core.frame.DataFrame'>\n",
      "Int64Index: 102283 entries, 0 to 103490\n",
      "Data columns (total 22 columns):\n",
      " #   Column              Non-Null Count   Dtype         \n",
      "---  ------              --------------   -----         \n",
      " 0   craft_1             102283 non-null  object        \n",
      " 1   plane_name_1        102283 non-null  object        \n",
      " 2   company_1           102283 non-null  object        \n",
      " 3   arrival_airport     102283 non-null  object        \n",
      " 4   arrival_terminal    102283 non-null  object        \n",
      " 5   arrival_time        102283 non-null  datetime64[ns]\n",
      " 6   cross_day           102283 non-null  object        \n",
      " 7   departure_time      102283 non-null  datetime64[ns]\n",
      " 8   departure_airport   102283 non-null  object        \n",
      " 9   departure_terminal  102283 non-null  object        \n",
      " 10  departure_week      102283 non-null  int64         \n",
      " 11  in_time             102283 non-null  float64       \n",
      " 12  craft_size          102283 non-null  object        \n",
      " 13  meat                102283 non-null  object        \n",
      " 14  flyman              102283 non-null  object        \n",
      " 15  economy_price       102283 non-null  float64       \n",
      " 16  busniess_price      102283 non-null  float64       \n",
      " 17  total_time          102283 non-null  int64         \n",
      " 18  departure_city      102283 non-null  object        \n",
      " 19  arrival_city        102283 non-null  object        \n",
      " 20  create_time         102283 non-null  datetime64[ns]\n",
      " 21  ahead               102283 non-null  int64         \n",
      "dtypes: datetime64[ns](3), float64(3), int64(3), object(13)\n",
      "memory usage: 17.9+ MB\n"
     ]
    }
   ],
   "source": [
    "# 对各个字段值的分布进行分析\n",
    "# for col in [\"departure_airport\", \"departure_week\", \"craft_size\", \"meat\"]:\n",
    "# for col in [\"departure_week\"]:\n",
    "#     columns = tickets_clean[col]\n",
    "#     labels = columns.value_counts().index.values\n",
    "#     sizes = columns.value_counts().values\n",
    "#     fig = plt.figure(figsize=(16, 8))\n",
    "#     plt.pie(sizes, labels=labels, autopct='%1.1f%%', shadow=True, startangle=90)\n",
    "#     plt.axis('equal')  # Equal aspect ratio ensures that pie is drawn as a circle.\n",
    "#     plt.savefig(f\"D:/crawler/pie/{col}.png\")\n",
    "#     plt.show()\n",
    "tickets_clean.info()"
   ],
   "metadata": {
    "collapsed": false,
    "pycharm": {
     "name": "#%%\n"
    }
   }
  },
  {
   "cell_type": "code",
   "execution_count": 478,
   "outputs": [
    {
     "name": "stdout",
     "output_type": "stream",
     "text": [
      "最大准点率:100.0,对应的航空公司:\n",
      "{'海航旗下福航', '厦门航空', '中国国航', '吉祥航空', '上海航空', '长龙航空', '山东航空', '西藏航空', '南方航空', '东方航空'}\n",
      "准点率均值:98.41977782323406\n"
     ]
    }
   ],
   "source": [
    "# 对准点率进行分析\n",
    "in_time = tickets_clean['in_time']\n",
    "print(f\"最大准点率:{in_time.max()},对应的航空公司:\\n{set(tickets_clean.company_1[in_time.nlargest(20).index.values].values)}\")\n",
    "print(f\"准点率均值:{in_time.mean()}\")"
   ],
   "metadata": {
    "collapsed": false,
    "pycharm": {
     "name": "#%%\n"
    }
   }
  },
  {
   "cell_type": "code",
   "execution_count": 479,
   "outputs": [
    {
     "name": "stdout",
     "output_type": "stream",
     "text": [
      "<class 'pandas.core.frame.DataFrame'>\n",
      "Int64Index: 102283 entries, 0 to 103490\n",
      "Data columns (total 6 columns):\n",
      " #   Column          Non-Null Count   Dtype  \n",
      "---  ------          --------------   -----  \n",
      " 0   departure_time  102283 non-null  int64  \n",
      " 1   arrival_time    102283 non-null  int64  \n",
      " 2   meat            102283 non-null  int64  \n",
      " 3   in_time         102283 non-null  float64\n",
      " 4   total_time      102283 non-null  int64  \n",
      " 5   ahead           102283 non-null  int64  \n",
      "dtypes: float64(1), int64(5)\n",
      "memory usage: 10.5 MB\n"
     ]
    }
   ],
   "source": [
    "import datetime\n",
    "\n",
    "# 对时间进行分析\n",
    "def parse_time(s):\n",
    "    hour = s.hour\n",
    "    # print(dt)\n",
    "    if 4 <= hour < 12:\n",
    "        return 1\n",
    "    elif 12<= hour < 18:\n",
    "        return 2\n",
    "    else:\n",
    "        return 3\n",
    "\n",
    "# 对小食进行分析\n",
    "def parse_meat(s):\n",
    "    if s == \"有小食\":\n",
    "        return 1\n",
    "    elif s==\"有餐食\":\n",
    "        return 2\n",
    "    else:\n",
    "        return 3\n",
    "\n",
    "\n",
    "tickets_numeric = pd.DataFrame({\n",
    "    'departure_time':[],\n",
    "    'arrival_time':[],\n",
    "    'meat':[],\n",
    "    'in_time':[],\n",
    "    'total_time':[],\n",
    "    'ahead':[]\n",
    "})\n",
    "\n",
    "\n",
    "tickets_numeric.departure_time = tickets_clean.departure_time.apply(parse_time)\n",
    "tickets_numeric.arrival_time = tickets_clean.arrival_time.apply(parse_time)\n",
    "tickets_numeric.meat = tickets_clean.meat.apply(parse_meat)\n",
    "tickets_numeric.in_time = tickets_clean.in_time\n",
    "tickets_numeric.ahead = tickets_clean.ahead\n",
    "# tickets_numeric.economy_price = tickets_clean.economy_price\n",
    "# tickets_numeric.business = tickets_clean.busniess_price\n",
    "tickets_numeric.total_time = tickets_clean.total_time\n",
    "tickets_numeric.info()"
   ],
   "metadata": {
    "collapsed": false,
    "pycharm": {
     "name": "#%%\n"
    }
   }
  },
  {
   "cell_type": "code",
   "execution_count": 480,
   "outputs": [
    {
     "name": "stdout",
     "output_type": "stream",
     "text": [
      "economy_price和departure_time相关性微小，相关系数为:-0.0592653058146747(2.9902770928912904e-80)\n",
      "economy_price和arrival_time相关性微小，相关系数为:-0.02727525301618026(2.6710030954282344e-18)\n",
      "economy_price和meat相关性微小，相关系数为:-0.09728335868784224(1.624201292919899e-213)\n",
      "economy_price和in_time相关性微小，相关系数为:-0.07823446143747825(1.3989236789719056e-138)\n",
      "economy_price和total_time相关性微小，相关系数为:0.14492804031816447(0.0)\n",
      "economy_price和ahead相关性微小，相关系数为:-0.04744545127989321(4.63725479579157e-52)\n",
      "busniess_price和departure_time相关性微小，相关系数为:-0.018181094948977877(6.062111700327812e-09)\n",
      "busniess_price和arrival_time相关性微小，相关系数为:0.003926828819396394(0.20916795271410699)\n",
      "busniess_price和meat相关性微小，相关系数为:-0.1225962367873719(0.0)\n",
      "busniess_price和in_time相关性微小，相关系数为:-0.11610454975952515(7.91348611979609e-304)\n",
      "busniess_price和total_time相关性微小，相关系数为:0.1299114398096327(0.0)\n",
      "busniess_price和ahead相关性微小，相关系数为:-0.021912853173079474(2.4026468666641188e-12)\n"
     ]
    }
   ],
   "source": [
    "# 对价格进行分析\n",
    "from scipy.stats import pearsonr\n",
    "\n",
    "for col_p in ['economy_price', 'busniess_price']:\n",
    "    for col in tickets_numeric.columns:\n",
    "        corr, p = pearsonr(tickets_clean[col_p], tickets_numeric[col])\n",
    "        if abs(corr) <= 0.2:\n",
    "            print(f\"{col_p}和{col}相关性微小，相关系数为:{corr}({p})\")\n",
    "        elif abs(corr) <=0.5:\n",
    "            print(f\"{col_p}和{col}关系弱，相关系数为:{corr}({p})\")\n",
    "        elif abs(corr) <=0.8:\n",
    "            print(f\"{col_p}和{col}关系强，相关系数为:{corr}({p})\")\n",
    "        else:\n",
    "            print(f\"{col_p}和{col}关系密切，相关系数为:{corr}({p})\")"
   ],
   "metadata": {
    "collapsed": false,
    "pycharm": {
     "name": "#%%\n"
    }
   }
  },
  {
   "cell_type": "markdown",
   "source": [
    "从皮耳孙系数看出，票价和我们爬取到的这些特征值关联性不强，或者说是存在非线性的关系，所以接下去也不做线性回归的预测，先试试多项式回归看看是否可行。"
   ],
   "metadata": {
    "collapsed": false,
    "pycharm": {
     "name": "#%% md\n"
    }
   }
  },
  {
   "cell_type": "code",
   "execution_count": 483,
   "outputs": [
    {
     "data": {
      "text/plain": "-4.550240993934967"
     },
     "execution_count": 483,
     "metadata": {},
     "output_type": "execute_result"
    }
   ],
   "source": [
    "from sklearn.preprocessing import PolynomialFeatures\n",
    "from sklearn.linear_model import LinearRegression\n",
    "from sklearn.metrics import r2_score, mean_squared_error\n",
    "\n",
    "\n",
    "linear_model = LinearRegression()\n",
    "poly = PolynomialFeatures(degree=3)\n",
    "poly.fit(tickets_numeric.values)\n",
    "x = poly.transform(tickets_numeric.values)\n",
    "linear_model.fit(x, tickets_clean.economy_price.values)\n",
    "pre = linear_model.predict(x)\n",
    "r2_score(pre.reshape(-1, 1), tickets_clean.economy_price.values.reshape(-1, 1))"
   ],
   "metadata": {
    "collapsed": false,
    "pycharm": {
     "name": "#%%\n"
    }
   }
  },
  {
   "cell_type": "markdown",
   "source": [
    "可以看到简单的根据服务、时长、准点率、购票提前的时间构建的多项式回归模型，并不能很好地预测机票价格。个人分析原因有三个：\n",
    "- 一是因为机票价格受其他因素影响较大，比如说飞机运行的成本（油价、设备）、空乘人员的服务成本，也有受疫情影响的复杂因素，这些有的可以数值化，但获取的渠道少，有的是完全抽象的。\n",
    "- 二是因为数据量少，我们当前使用的模型过于简单，越是简单的模型，想要训练出较好的结果，往往需要更多的数据（个人对传统机器学习没有经验，借鉴深度学习中模型训练结果来看）\n",
    "- 三是机票类似股票，他是时序性的，上一个状态的特征对于当前状态是有影响的，比如说，前一段时间某航空公司销量不佳，紧急推出促销决策，这是之后的机票价格必然受影响。如果仅仅考虑当前状态，可能无法预测机票的价格，受限于时间，这里没有机会使用lstm去进行预测。"
   ],
   "metadata": {
    "collapsed": false,
    "pycharm": {
     "name": "#%% md\n"
    }
   }
  },
  {
   "cell_type": "markdown",
   "source": [
    "数值特征无法挖掘潜在关系，接下去，只能用消融的方法，看看票价和一些特征的关联"
   ],
   "metadata": {
    "collapsed": false,
    "pycharm": {
     "name": "#%% md\n"
    }
   }
  },
  {
   "cell_type": "code",
   "execution_count": 542,
   "outputs": [
    {
     "data": {
      "text/plain": "                                          economy_price  busniess_price\ncompany_1 arrival_city create_time ahead                               \n上海航空      三亚           2022-07-02  0        1494.000000     6772.000000\n                                   1        1494.000000     6772.000000\n                                   2        1992.000000     9717.666667\n                                   3        1995.333333     9717.666667\n                                   4        1817.500000     6772.000000\n...                                                 ...             ...\n长龙航空      长沙           2022-07-06  25        910.000000        0.000000\n                                   26       1820.000000        0.000000\n                                   27       1820.000000        0.000000\n                                   28       1820.000000        0.000000\n                                   29       1820.000000        0.000000\n\n[22369 rows x 2 columns]",
      "text/html": "<div>\n<style scoped>\n    .dataframe tbody tr th:only-of-type {\n        vertical-align: middle;\n    }\n\n    .dataframe tbody tr th {\n        vertical-align: top;\n    }\n\n    .dataframe thead th {\n        text-align: right;\n    }\n</style>\n<table border=\"1\" class=\"dataframe\">\n  <thead>\n    <tr style=\"text-align: right;\">\n      <th></th>\n      <th></th>\n      <th></th>\n      <th></th>\n      <th>economy_price</th>\n      <th>busniess_price</th>\n    </tr>\n    <tr>\n      <th>company_1</th>\n      <th>arrival_city</th>\n      <th>create_time</th>\n      <th>ahead</th>\n      <th></th>\n      <th></th>\n    </tr>\n  </thead>\n  <tbody>\n    <tr>\n      <th rowspan=\"5\" valign=\"top\">上海航空</th>\n      <th rowspan=\"5\" valign=\"top\">三亚</th>\n      <th rowspan=\"5\" valign=\"top\">2022-07-02</th>\n      <th>0</th>\n      <td>1494.000000</td>\n      <td>6772.000000</td>\n    </tr>\n    <tr>\n      <th>1</th>\n      <td>1494.000000</td>\n      <td>6772.000000</td>\n    </tr>\n    <tr>\n      <th>2</th>\n      <td>1992.000000</td>\n      <td>9717.666667</td>\n    </tr>\n    <tr>\n      <th>3</th>\n      <td>1995.333333</td>\n      <td>9717.666667</td>\n    </tr>\n    <tr>\n      <th>4</th>\n      <td>1817.500000</td>\n      <td>6772.000000</td>\n    </tr>\n    <tr>\n      <th>...</th>\n      <th>...</th>\n      <th>...</th>\n      <th>...</th>\n      <td>...</td>\n      <td>...</td>\n    </tr>\n    <tr>\n      <th rowspan=\"5\" valign=\"top\">长龙航空</th>\n      <th rowspan=\"5\" valign=\"top\">长沙</th>\n      <th rowspan=\"5\" valign=\"top\">2022-07-06</th>\n      <th>25</th>\n      <td>910.000000</td>\n      <td>0.000000</td>\n    </tr>\n    <tr>\n      <th>26</th>\n      <td>1820.000000</td>\n      <td>0.000000</td>\n    </tr>\n    <tr>\n      <th>27</th>\n      <td>1820.000000</td>\n      <td>0.000000</td>\n    </tr>\n    <tr>\n      <th>28</th>\n      <td>1820.000000</td>\n      <td>0.000000</td>\n    </tr>\n    <tr>\n      <th>29</th>\n      <td>1820.000000</td>\n      <td>0.000000</td>\n    </tr>\n  </tbody>\n</table>\n<p>22369 rows × 2 columns</p>\n</div>"
     },
     "execution_count": 542,
     "metadata": {},
     "output_type": "execute_result"
    }
   ],
   "source": [
    "# 不同公司的机票价格平均值\n",
    "tickets_clean.groupby(\"company_1\").mean()['economy_price']\n",
    "# tickets_clean.groupby([\"company_1\", 'ahead']).mean()[['economy_price', 'busniess_price']]\n",
    "\n",
    "# 根据目的地、查询日期和出发日期分组\n",
    "# tickets_clean.create_time = tickets_clean.create_time.apply(lambda x:x.strftime(\"%Y-%m-%d\"))\n",
    "# tickets_clean.departure_time = pd.to_datetime(tickets_clean.departure_time)\n",
    "# tickets_clean.departure_time = tickets_clean.departure_time.apply(lambda x:x.strftime(\"%Y-%m-%d\"))\n",
    "group_time = tickets_clean.groupby([\"company_1\", \"arrival_city\", 'create_time', 'ahead']).mean()[['economy_price', 'busniess_price']]\n",
    "# 根据ahead制作热力图\n",
    "group_time"
   ],
   "metadata": {
    "collapsed": false,
    "pycharm": {
     "name": "#%%\n"
    }
   }
  },
  {
   "cell_type": "code",
   "execution_count": 566,
   "outputs": [
    {
     "data": {
      "text/plain": "array([[1494.        , 1494.        , 1992.        , 1995.33333333,\n        1817.5       , 1942.        , 2008.33333333, 1710.        ,\n        1793.        , 1710.        , 1710.        , 1892.66666667,\n        1892.66666667, 1892.66666667, 1793.        , 1793.        ,\n        1793.        , 1793.        , 1992.33333333, 1892.66666667,\n        1793.        , 1693.33333333, 1793.        , 1693.33333333,\n        1693.33333333, 1693.33333333, 1693.33333333, 1693.33333333,\n        1693.33333333,    0.        ],\n       [1494.        , 1793.        , 1663.5       , 1987.66666667,\n        1935.5       , 1810.5       , 2002.33333333, 1806.33333333,\n        1790.        , 1706.66666667, 1706.66666667, 1892.66666667,\n        1892.66666667, 1992.33333333, 1790.        , 1790.        ,\n        1790.        , 1793.66666667, 1992.33333333, 1879.        ,\n        1779.        , 1680.        , 1779.        , 1680.        ,\n        1680.        , 1680.        , 1680.        , 1680.        ,\n        1680.        , 1780.        ],\n       [1793.        , 1942.5       , 2241.        , 2091.66666667,\n        2091.33333333, 1809.66666667, 1710.        , 1793.        ,\n        1710.        , 1793.        , 1892.66666667, 1992.33333333,\n        1892.66666667, 1693.33333333, 1693.33333333, 1693.33333333,\n        1793.        , 1693.33333333, 1892.66666667, 1593.66666667,\n        1693.33333333, 1593.66666667, 1693.33333333, 1693.33333333,\n        1693.33333333, 1693.33333333, 1693.33333333, 1693.33333333,\n        1793.        , 1793.        ],\n       [1793.        , 1942.5       , 1942.5       , 2091.33333333,\n        1892.33333333, 1710.        , 1793.        , 1710.        ,\n        1892.66666667, 1892.66666667, 1942.5       , 1942.5       ,\n        1693.33333333, 1693.33333333, 1693.33333333, 1793.        ,\n        1593.66666667, 1892.66666667, 1593.66666667, 1610.33333333,\n        1593.66666667, 1693.33333333, 1693.33333333, 1693.33333333,\n        1693.33333333, 1693.33333333, 1693.33333333, 1793.        ,\n        1793.        , 1793.        ],\n       [1668.5       , 1519.        , 1793.        , 1610.33333333,\n        1593.66666667, 1330.        , 1510.66666667, 1593.66666667,\n        1793.        , 1693.33333333, 1693.33333333, 1411.        ,\n        1411.        , 1411.        , 1593.66666667, 1494.        ,\n        1693.33333333, 1494.        , 1411.        , 1494.        ,\n        1593.66666667, 1510.66666667, 1593.66666667, 1593.66666667,\n        1593.66666667, 1593.66666667, 1793.        , 1793.        ,\n        1793.        , 1793.        ]])"
     },
     "execution_count": 566,
     "metadata": {},
     "output_type": "execute_result"
    }
   ],
   "source": [
    "dep_date = np.sort(list(set([i[2] for i in group_time.index])))\n",
    "ls = []\n",
    "for date in dep_date:\n",
    "    t = group_time.loc[('上海航空', '三亚', date)]['economy_price'].values\n",
    "    if len(t)<30:\n",
    "        for i in range(30 - len(t)):\n",
    "            t = list(t)\n",
    "            t.append(0)\n",
    "            t = np.array(t)\n",
    "    ls.append(t)\n",
    "# np.array(ls, dtype=np.float)\n",
    "np.array(ls)"
   ],
   "metadata": {
    "collapsed": false,
    "pycharm": {
     "name": "#%%\n"
    }
   }
  },
  {
   "cell_type": "code",
   "execution_count": 568,
   "outputs": [
    {
     "ename": "AttributeError",
     "evalue": "'numpy.ndarray' object has no attribute 'diff'",
     "output_type": "error",
     "traceback": [
      "\u001B[1;31m---------------------------------------------------------------------------\u001B[0m",
      "\u001B[1;31mAttributeError\u001B[0m                            Traceback (most recent call last)",
      "\u001B[1;32m<ipython-input-568-d59257400d44>\u001B[0m in \u001B[0;36m<module>\u001B[1;34m\u001B[0m\n\u001B[0;32m     22\u001B[0m )\n\u001B[0;32m     23\u001B[0m \u001B[1;33m\u001B[0m\u001B[0m\n\u001B[1;32m---> 24\u001B[1;33m \u001B[0mdep_ahead_diff\u001B[0m \u001B[1;33m=\u001B[0m \u001B[0mdep_ahead\u001B[0m\u001B[1;33m.\u001B[0m\u001B[0mdiff\u001B[0m\u001B[1;33m(\u001B[0m\u001B[1;33m)\u001B[0m\u001B[1;33m\u001B[0m\u001B[1;33m\u001B[0m\u001B[0m\n\u001B[0m\u001B[0;32m     25\u001B[0m \u001B[1;33m\u001B[0m\u001B[0m\n\u001B[0;32m     26\u001B[0m \u001B[1;33m\u001B[0m\u001B[0m\n",
      "\u001B[1;31mAttributeError\u001B[0m: 'numpy.ndarray' object has no attribute 'diff'"
     ]
    },
    {
     "data": {
      "text/plain": "<Figure size 1440x720 with 2 Axes>",
      "image/png": "[encoded data removed]"
     },
     "metadata": {
      "needs_background": "light"
     },
     "output_type": "display_data"
    }
   ],
   "source": [
    "import seaborn as sns\n",
    "\n",
    "cities = np.sort(list(set([i[1] for i in group_time.index])))\n",
    "create_time = np.sort(list(set([i[2] for i in group_time.index])))\n",
    "ahead = list(range(30))\n",
    "ls = []\n",
    "for date in dep_date:\n",
    "    t = group_time.loc[('上海航空', '三亚', date)]['economy_price'].values\n",
    "    if len(t)<30:\n",
    "        for i in range(30 - len(t)):\n",
    "            t = list(t)\n",
    "            t.append(0)\n",
    "            t = np.array(t)\n",
    "    ls.append(t)\n",
    "dep_ahead = np.array(ls)\n",
    "\n",
    "fig = plt.figure(figsize=(12, 6), dpi=120)\n",
    "sns.heatmap(\n",
    "    data=dep_ahead,\n",
    "    cmap=plt.get_cmap('Greens'),\n",
    "    xticklabels=ahead, yticklabels=create_time\n",
    ")\n",
    "\n",
    "dep_ahead_diff = dep_ahead.diff()\n",
    "\n",
    "\n",
    "\n",
    "# ax = plt.imshow(dep_ahead, cmap='cool', interpolation='nearest')\n",
    "# plt.show()\n",
    "\n",
    "# fig, ax = plt.subplots()\n",
    "# im = ax.imshow(dep_ahead)\n",
    "#\n",
    "# # Show all ticks and label them with the respective list entries\n",
    "# ax.set_xticks(np.arange(len(ahead)))\n",
    "# ax.set_xticklabels([1,2,3,4,5])\n",
    "# ax.set_yticks(np.arange(len(create_time)))\n",
    "# ax.set_xticklabels(create_time)\n",
    "#\n",
    "# # Rotate the tick labels and set their alignment.\n",
    "# plt.setp(ax.get_xticklabels(), rotation=45, ha=\"right\",\n",
    "#          rotation_mode=\"anchor\")\n",
    "#\n",
    "# # Loop over data dimensions and create text annotations.\n",
    "# for i in range(len(create_time)):\n",
    "#     for j in range(len(ahead)):\n",
    "#         text = ax.text(j, i, dep_ahead[i, j],\n",
    "#                        ha=\"center\", va=\"center\", color=\"w\")\n",
    "#\n",
    "# fig.tight_layout()\n",
    "# plt.show()"
   ],
   "metadata": {
    "collapsed": false,
    "pycharm": {
     "name": "#%%\n"
    }
   }
  },
  {
   "cell_type": "code",
   "execution_count": null,
   "outputs": [],
   "source": [
    "从上图可以看出的在起飞前的一个礼拜和一个月购买机票的价格最高，最便宜的时候是起飞前的两到三个礼拜。"
   ],
   "metadata": {
    "collapsed": false,
    "pycharm": {
     "name": "#%%\n"
    }
   }
  },
  {
   "cell_type": "markdown",
   "source": [],
   "metadata": {
    "collapsed": false,
    "pycharm": {
     "name": "#%% md\n"
    }
   }
  }
 ],
 "metadata": {
  "kernelspec": {
   "display_name": "Python 3",
   "language": "python",
   "name": "python3"
  },
  "language_info": {
   "codemirror_mode": {
    "name": "ipython",
    "version": 2
   },
   "file_extension": ".py",
   "mimetype": "text/x-python",
   "name": "python",
   "nbconvert_exporter": "python",
   "pygments_lexer": "ipython2",
   "version": "2.7.6"
  }
 },
 "nbformat": 4,
 "nbformat_minor": 0
}