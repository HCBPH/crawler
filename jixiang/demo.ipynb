{
 "cells": [
  {
   "cell_type": "code",
   "execution_count": 34,
   "outputs": [],
   "source": [
    "from selenium import webdriver\n",
    "from selenium.webdriver import ActionChains\n",
    "from selenium.webdriver.common.by import By\n",
    "import time\n",
    "from airline import Airline"
   ],
   "metadata": {
    "collapsed": false,
    "pycharm": {
     "name": "#%%\n"
    }
   }
  },
  {
   "cell_type": "code",
   "execution_count": 2,
   "outputs": [],
   "source": [
    "options = webdriver.ChromeOptions()\n",
    "options.add_experimental_option(\"excludeSwitches\", [\"enable-automation\"])\n",
    "options.add_experimental_option('useAutomationExtension', False)\n",
    "\n",
    "driver = webdriver.Chrome(r\"D:\\project\\crawler\\chromedriver.exe\", options=options)\n",
    "\n",
    "driver.execute_cdp_cmd(\"Page.addScriptToEvaluateOnNewDocument\", {\n",
    "  \"source\": \"\"\"\n",
    "    Object.defineProperty(navigator, 'webdriver', {\n",
    "      get: () => undefined\n",
    "    })\n",
    "  \"\"\"\n",
    "})\n",
    "driver.execute_cdp_cmd(\"Network.enable\", {})\n",
    "driver.execute_cdp_cmd(\"Network.setExtraHTTPHeaders\", {\"headers\": {\"User-Agent\": \"browser1\"}})\n",
    "\n",
    "driver.get(\"http://www.juneyaoair.com/pages/Flight/flight.aspx?flightType=OW&sendCity=上海&sendCode=SHA&arrCity=成都&arrCode=CTU&directType=N&tripType=D&departureDate=2022-08-10&returnDate=2022-08-10\")\n"
   ],
   "metadata": {
    "collapsed": false,
    "pycharm": {
     "name": "#%%\n"
    }
   }
  },
  {
   "cell_type": "code",
   "execution_count": 3,
   "outputs": [
    {
     "name": "stdout",
     "output_type": "stream",
     "text": [
      ">>>耗时: 1.4779047966003418\n"
     ]
    }
   ],
   "source": [
    "table = driver.find_element_by_xpath('//*[@id=\"flt_hd_table\"]/table/tbody')\n",
    "# /html/body/div[1]/div[5]/div[1]/div[1]/div[2]/table/tbody/tr[12]/td/div/a\n",
    "t = time.time()\n",
    "clickables = driver.find_elements_by_xpath(\"/html/body/div[1]/div[5]/div[1]/div[1]/div[2]/table/tbody/tr[@class='flt_more']/td/div/a\")\n",
    "# clickables = driver.find_elements(By.CLASS_NAME, \"moreCabin\")\n",
    "for clickable in clickables:\n",
    "    ActionChains(driver).move_to_element(clickable).click().perform()\n",
    "print(\">>>耗时:\", time.time()-t)"
   ],
   "metadata": {
    "collapsed": false,
    "pycharm": {
     "name": "#%%\n"
    }
   }
  },
  {
   "cell_type": "markdown",
   "source": [
    "airline, al_num, al_type,al_size, departure_time, arrival_time,departure_place, arrival_place,promotion, price,departure_rate, arrival_rate,delay_time, advance_time,devices, cabin))"
   ],
   "metadata": {
    "collapsed": false,
    "pycharm": {
     "name": "#%% md\n"
    }
   }
  },
  {
   "cell_type": "code",
   "execution_count": 39,
   "outputs": [
    {
     "name": "stdout",
     "output_type": "stream",
     "text": [
      "航空公司\t航班号\t机型\t机型大小\t出发时间\t到达时间\t出发地\t目的地\t优惠\t价格\t到达准点率\t出发准点率\t平均延误\t平均提前\t服务\t舱位\n",
      "吉祥航空\tHO1269\t全新空客320-neo\t中型 \t06:50\t12:05\t浦东T2\t天府T2\tQ,7.1折\t1808\t\t\t\t\t含点心\t经济舱\n",
      "航空公司\t航班号\t机型\t机型大小\t出发时间\t到达时间\t出发地\t目的地\t优惠\t价格\t到达准点率\t出发准点率\t平均延误\t平均提前\t服务\t舱位\n",
      "吉祥航空\tHO1119\t波音787-9\t大型\t08:05\t11:15\t虹桥T2\t天府T2\tV,6.0折\t1548\t\t\t\t\t含早餐\t经济舱\n",
      "航空公司\t航班号\t机型\t机型大小\t出发时间\t到达时间\t出发地\t目的地\t优惠\t价格\t到达准点率\t出发准点率\t平均延误\t平均提前\t服务\t舱位\n",
      "吉祥航空\tHO1097\t空客321\t中型\t12:15\t15:25\t虹桥T2\t天府T2\tV,6.0折\t1548\t\t\t\t\t含点心\t经济舱\n",
      "航空公司\t航班号\t机型\t机型大小\t出发时间\t到达时间\t出发地\t目的地\t优惠\t价格\t到达准点率\t出发准点率\t平均延误\t平均提前\t服务\t舱位\n",
      "吉祥航空\tHO1059\t全新空客321-neo\t中型\t15:05\t18:15\t虹桥T2\t天府T2\tV,6.0折\t1548\t\t\t\t\t含点心\t经济舱\n"
     ]
    }
   ],
   "source": [
    "airline = None\n",
    "for tr in table.find_elements_by_xpath(\"./tr\"):\n",
    "\n",
    "    if tr.get_attribute(\"class\") == \"title\":\n",
    "        if airline is not None:\n",
    "            print(\"\\t\".join([\"航空公司\", \"航班号\", \"机型\", \"机型大小\", \"出发时间\", \"到达时间\", \"出发地\", \"目的地\", \"优惠\",\n",
    "                         \"价格\", \"到达准点率\", \"出发准点率\", \"平均延误\", \"平均提前\", \"服务\", \"舱位\"]))\n",
    "            print(\"\\t\".join(airline.features()))\n",
    "        al_num = tr.find_elements_by_class_name(\"flt_No\")[0].text\n",
    "        al_type = tr.find_elements_by_class_name(\"flt_showTypeInfo\")[0].text\n",
    "        al_type, al_size = al_type.strip(\"）\").split(\"（\")\n",
    "        t = tr.find_elements_by_class_name(\"flt_date\")\n",
    "        p = tr.find_elements_by_class_name(\"flt_site\")\n",
    "        departure_time = t[0].text\n",
    "        arrival_time = t[1].text\n",
    "        departure_place= p[0].text\n",
    "        arrival_place = p[1].text\n",
    "        airline = Airline(al_num, \"吉祥航空\", al_type, al_size, departure_time, arrival_time, departure_place, arrival_place)\n",
    "    elif tr.get_attribute(\"class\") == \"cnt\":\n",
    "        cabin = tr.find_element_by_xpath(\"./td[1]\").text\n",
    "        cabin = cabin.split(' ')[0]\n",
    "        cabin, promotion = cabin.strip(\")\").split(\"(\")\n",
    "        devices = tr.find_element_by_xpath('./td[3]/span').text\n",
    "        price = tr.find_element_by_xpath('./td[7]/div/div/span').text\n",
    "        promotion += (\",\" + tr.find_element_by_xpath('./td[9]').text)\n",
    "        airline.cabin = cabin\n",
    "        airline.price = price\n",
    "        airline.promotion = promotion\n",
    "        airline.devices = devices\n"
   ],
   "metadata": {
    "collapsed": false,
    "pycharm": {
     "name": "#%%\n"
    }
   }
  },
  {
   "cell_type": "code",
   "execution_count": 43,
   "outputs": [],
   "source": [
    "cabin, promotion = \"经济舱(T)\".strip(\")\").split(\"(\")\n"
   ],
   "metadata": {
    "collapsed": false,
    "pycharm": {
     "name": "#%%\n"
    }
   }
  },
  {
   "cell_type": "code",
   "execution_count": 45,
   "outputs": [
    {
     "name": "stdout",
     "output_type": "stream",
     "text": [
      "37 在/授课/的/同时/，/这个/“/讲台/”/正以/约/23/倍/于/音速/的/第一/宇宙速度/环绕/地球/飞行/，/舱外/是/真空/、/200/多摄氏度/的/温差/、/充满/宇宙射线/的/极端/环境/。\n"
     ]
    }
   ],
   "source": [
    "import jieba\n",
    "string = '在授课的同时，这个“讲台”正以约23倍于音速的第一宇宙速度环绕地球飞行，舱外是真空、200多摄氏度的温差、充满宇宙射线的极端环境。'\n",
    "result = jieba.lcut(string)\n",
    "print(len(result), '/'.join(result))"
   ],
   "metadata": {
    "collapsed": false,
    "pycharm": {
     "name": "#%%\n"
    }
   }
  },
  {
   "cell_type": "code",
   "execution_count": 46,
   "outputs": [
    {
     "name": "stdout",
     "output_type": "stream",
     "text": [
      "45 在/授课/的/同时/，/这个/“/讲台/”/正/以/约/23/倍/于/音速/的/第一/宇宙/宇宙速度/速度/环绕/地球/飞行/，/舱/外/是/真空/、/200/多摄氏度/摄氏/摄氏度/的/温差/、/充满/宇宙/宇宙射线/射线/的/极端/环境/。\n"
     ]
    }
   ],
   "source": [
    "import jieba\n",
    "string = '在授课的同时，这个“讲台”正以约23倍于音速的第一宇宙速度环绕地球飞行，舱外是真空、200多摄氏度的温差、充满宇宙射线的极端环境。'\n",
    "result = jieba.lcut(string, cut_all=True)\n",
    "print(len(result), '/'.join(result))"
   ],
   "metadata": {
    "collapsed": false,
    "pycharm": {
     "name": "#%%\n"
    }
   }
  },
  {
   "cell_type": "code",
   "execution_count": 47,
   "outputs": [
    {
     "name": "stdout",
     "output_type": "stream",
     "text": [
      "43 在/授课/的/同时/，/这个/“/讲台/”/正以/约/23/倍/于/音速/的/第一/宇宙/速度/宇宙速度/环绕/地球/飞行/，/舱外/是/真空/、/200/摄氏/摄氏度/多摄氏度/的/温差/、/充满/宇宙/射线/宇宙射线/的/极端/环境/。\n"
     ]
    }
   ],
   "source": [
    "import jieba\n",
    "string = '在授课的同时，这个“讲台”正以约23倍于音速的第一宇宙速度环绕地球飞行，舱外是真空、200多摄氏度的温差、充满宇宙射线的极端环境。'\n",
    "result = jieba.lcut_for_search(string)\n",
    "print(len(result), '/'.join(result))"
   ],
   "metadata": {
    "collapsed": false,
    "pycharm": {
     "name": "#%%\n"
    }
   }
  },
  {
   "cell_type": "code",
   "execution_count": 48,
   "outputs": [
    {
     "name": "stdout",
     "output_type": "stream",
     "text": [
      "36 在/授课/的/同时/，/这个/“/讲台/”/正以/约/23/倍/于/音速/的/第一/宇宙速度/环绕/地球/飞行/，/舱外/是/真空/、/200/多摄氏度/的/温差/、/充满/宇宙射线/的/极端环境/。\n"
     ]
    }
   ],
   "source": [
    "jieba.add_word('极端环境')\n",
    "result = jieba.lcut(string)\n",
    "print(len(result), '/'.join(result))"
   ],
   "metadata": {
    "collapsed": false,
    "pycharm": {
     "name": "#%%\n"
    }
   }
  },
  {
   "cell_type": "code",
   "execution_count": 49,
   "outputs": [
    {
     "name": "stdout",
     "output_type": "stream",
     "text": [
      "[['在', 'p'], ['授课', 'v'], ['的', 'uj'], ['同时', 'c'], ['，', 'x'], ['这个', 'r'], ['“', 'x'], ['讲台', 'n'], ['”', 'x'], ['正以', 'd'], ['约', 'd'], ['23', 'm'], ['倍', 'm'], ['于', 'p'], ['音速', 'n'], ['的', 'uj'], ['第一', 'm'], ['宇宙速度', 'n'], ['环绕', 'v'], ['地球', 'n'], ['飞行', 'v'], ['，', 'x'], ['舱外', 's'], ['是', 'v'], ['真空', 'n'], ['、', 'x'], ['200', 'm'], ['多摄氏度', 'm'], ['的', 'uj'], ['温差', 'n'], ['、', 'x'], ['充满', 'a'], ['宇宙射线', 'l'], ['的', 'uj'], ['极端环境', 'x'], ['。', 'x']]\n"
     ]
    }
   ],
   "source": [
    "import jieba.posseg as pseg\n",
    "words = pseg.lcut(string)\n",
    "print(list(map(lambda x: list(x), words)))"
   ],
   "metadata": {
    "collapsed": false,
    "pycharm": {
     "name": "#%%\n"
    }
   }
  },
  {
   "cell_type": "code",
   "execution_count": 5,
   "outputs": [
    {
     "name": "stdout",
     "output_type": "stream",
     "text": [
      "40 在/授课/的/同时/，/这个/“/讲台/”/正/以/约/23/倍于/音速/的/第一/宇宙/速度/环绕/地球/飞行/，/舱/外/是/真空/、200/多/摄氏度/的/温差/、/充满/宇宙/射线/的/极端/环境/。\n"
     ]
    }
   ],
   "source": [
    "from snownlp import SnowNLP\n",
    "\n",
    "string = '在授课的同时，这个“讲台”正以约23倍于音速的第一宇宙速度环绕地球飞行，舱外是真空、200多摄氏度的温差、充满宇宙射线的极端环境。'\n",
    "s = SnowNLP(string)\n",
    "result = s.words\n",
    "print(len(result), '/'.join(result))"
   ],
   "metadata": {
    "collapsed": false,
    "pycharm": {
     "name": "#%%\n"
    }
   }
  },
  {
   "cell_type": "code",
   "execution_count": 9,
   "outputs": [
    {
     "name": "stdout",
     "output_type": "stream",
     "text": [
      "Tags: [('在', 'p'), ('授课', 'v'), ('的', 'u'), ('同时', 'n'), ('，', 'w'), ('这个', 'r'), ('“', 'w'), ('讲台', 'n'), ('”', 'w'), ('正', 'd'), ('以', 'p'), ('约', 'd'), ('23', 'o'), ('倍于', 'o'), ('音速', 'o'), ('的', 'u'), ('第一', 'm'), ('宇宙', 'n'), ('速度', 'n'), ('环绕', 'v'), ('地球', 'n'), ('飞行', 'vn'), ('，', 'w'), ('舱', 'n'), ('外', 'f'), ('是', 'v'), ('真空', 'n'), ('、200', 'Dg'), ('多', 'm'), ('摄氏度', 'q'), ('的', 'u'), ('温差', 'n'), ('、', 'w'), ('充满', 'v'), ('宇宙', 'n'), ('射线', 'k'), ('的', 'u'), ('极端', 'a'), ('环境', 'n'), ('。', 'w')]\n",
      "Sentiments: 0.9998478687481432\n",
      "Pinyin: ['zai', 'shou', 'ke', 'de', 'tong', 'shi', '，', 'zhe', 'ge', '“', 'jiang', 'tai', '”', 'zheng', 'yi', 'yue', '23', 'bei', '于', 'yin', 'su', 'de', 'di', 'yi', 'yu', 'zhou', 'su', 'du', 'huan', 'rao', 'di', 'qiu', 'fei', 'xing', '，', 'cang', 'wai', 'shi', 'zhen', 'kong', '、200', 'duo', 'she', 'shi', 'du', 'de', 'wen', 'cha', '、', 'chong', 'man', 'yu', 'zhou', 'she', 'xian', 'de', 'ji', 'duan', 'huan', 'jing', '。']\n"
     ]
    }
   ],
   "source": [
    "print('Tags:', list(s.tags))\n",
    "print('Sentiments:', s.sentiments)\n",
    "print('Pinyin:', s.pinyin)\n"
   ],
   "metadata": {
    "collapsed": false,
    "pycharm": {
     "name": "#%%\n"
    }
   }
  },
  {
   "cell_type": "code",
   "execution_count": 8,
   "outputs": [
    {
     "name": "stdout",
     "output_type": "stream",
     "text": [
      "Model loaded succeed\n",
      "41 在/授课/的/同时/，/这个/“/讲台/”/正/以/约/23/倍/于/音速/的/第一/宇宙/速度/环绕/地球/飞行/，/舱/外/是/真空/、/200/多/摄氏度/的/温差/、/充满/宇宙射线/的/极端/环境/。\n"
     ]
    }
   ],
   "source": [
    "import thulac\n",
    "\n",
    "string = '在授课的同时，这个“讲台”正以约23倍于音速的第一宇宙速度环绕地球飞行，舱外是真空、200多摄氏度的温差、充满宇宙射线的极端环境。'\n",
    "t = thulac.thulac()\n",
    "result = t.cut(string)\n",
    "# print(result)\n",
    "result = [i[0] for i in result]\n",
    "print(len(result), '/'.join(result))"
   ],
   "metadata": {
    "collapsed": false,
    "pycharm": {
     "name": "#%%\n"
    }
   }
  },
  {
   "cell_type": "code",
   "execution_count": 7,
   "outputs": [
    {
     "name": "stdout",
     "output_type": "stream",
     "text": [
      "41 在/授课/的/同时/，/这个/“/讲台/”/正/以/约/23/倍/于/音速/的/第一/宇宙/速度/环绕/地球/飞行/，/舱/外/是/真空/、/200/多/摄氏度/的/温差/、/充满/宇宙射线/的/极端/环境/。\n"
     ]
    }
   ],
   "source": [
    "import pynlpir\n",
    "\n",
    "pynlpir.open()\n",
    "string = '在授课的同时，这个“讲台”正以约23倍于音速的第一宇宙速度环绕地球飞行，舱外是真空、200多摄氏度的温差、充满宇宙射线的极端环境。'\n",
    "result = pynlpir.segment(string)\n",
    "# print(result)\n",
    "result = [i[0] for i in result]\n",
    "print(len(result), '/'.join(result))"
   ],
   "metadata": {
    "collapsed": false,
    "pycharm": {
     "name": "#%%\n"
    }
   }
  },
  {
   "cell_type": "code",
   "execution_count": 3,
   "outputs": [
    {
     "name": "stdout",
     "output_type": "stream",
     "text": [
      "41 在/授课/的/同时/，/这个/“/讲台/”/正/以/约/23/倍/于/音速/的/第一/宇宙/速度/环绕/地球/飞行/，/舱/外/是/真空/、/200/多/摄氏度/的/温差/、/充满/宇宙射线/的/极端/环境/。\n"
     ]
    }
   ],
   "source": [
    "from pyltp import Segmentor\n",
    "\n",
    "string = '在授课的同时，这个“讲台”正以约23倍于音速的第一宇宙速度环绕地球飞行，舱外是真空、200多摄氏度的温差、充满宇宙射线的极端环境。'\n",
    "segmentor = Segmentor(\"D:\\download\\edge\\ltp_data_v3.4.0\\cws.model\")\n",
    "result = list(segmentor.segment(string))\n",
    "segmentor.release()\n",
    "print(len(result), '/'.join(result))"
   ],
   "metadata": {
    "collapsed": false,
    "pycharm": {
     "name": "#%%\n"
    }
   }
  },
  {
   "cell_type": "code",
   "execution_count": 2,
   "outputs": [
    {
     "name": "stdout",
     "output_type": "stream",
     "text": [
      "4\n"
     ]
    }
   ],
   "source": [
    "for i in range(5):\n",
    "    pass\n",
    "print(i)"
   ],
   "metadata": {
    "collapsed": false,
    "pycharm": {
     "name": "#%%\n"
    }
   }
  }
 ],
 "metadata": {
  "kernelspec": {
   "display_name": "Python 3",
   "language": "python",
   "name": "python3"
  },
  "language_info": {
   "codemirror_mode": {
    "name": "ipython",
    "version": 2
   },
   "file_extension": ".py",
   "mimetype": "text/x-python",
   "name": "python",
   "nbconvert_exporter": "python",
   "pygments_lexer": "ipython2",
   "version": "2.7.6"
  }
 },
 "nbformat": 4,
 "nbformat_minor": 0
}